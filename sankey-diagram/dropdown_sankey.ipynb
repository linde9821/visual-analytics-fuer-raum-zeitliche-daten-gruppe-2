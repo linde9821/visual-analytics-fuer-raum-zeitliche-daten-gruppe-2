{
 "cells": [
  {
   "cell_type": "code",
   "execution_count": 56,
   "metadata": {
    "ExecuteTime": {
     "end_time": "2023-12-19T12:37:49.427718Z",
     "start_time": "2023-12-19T12:37:49.394956Z"
    }
   },
   "outputs": [],
   "source": [
    "import joblib\n",
    "import pandas as pd\n",
    "import plotly.graph_objects as go\n",
    "from dash import Dash, dcc, html, Input, Output, callback\n",
    "from sklearn.model_selection import train_test_split\n",
    "from sklearn.preprocessing import LabelEncoder\n",
    "from sklearn.preprocessing import StandardScaler"
   ]
  },
  {
   "cell_type": "markdown",
   "metadata": {},
   "source": [
    "# Loading Models"
   ]
  },
  {
   "cell_type": "code",
   "execution_count": 57,
   "metadata": {
    "collapsed": false,
    "ExecuteTime": {
     "end_time": "2023-12-19T12:37:49.573738Z",
     "start_time": "2023-12-19T12:37:49.423584Z"
    }
   },
   "outputs": [
    {
     "name": "stderr",
     "output_type": "stream",
     "text": [
      "/Users/moritzlindner/anaconda3/lib/python3.11/site-packages/xgboost/core.py:160: UserWarning:\n",
      "\n",
      "[13:37:49] WARNING: /Users/runner/work/xgboost/xgboost/src/gbm/gbtree.cc:385: Changing updater from `grow_gpu_hist` to `grow_quantile_histmaker`.\n",
      "\n",
      "/Users/moritzlindner/anaconda3/lib/python3.11/site-packages/sklearn/base.py:348: InconsistentVersionWarning:\n",
      "\n",
      "Trying to unpickle estimator DecisionTreeClassifier from version 1.3.0 when using version 1.3.2. This might lead to breaking code or invalid results. Use at your own risk. For more info please refer to:\n",
      "https://scikit-learn.org/stable/model_persistence.html#security-maintainability-limitations\n",
      "\n",
      "/Users/moritzlindner/anaconda3/lib/python3.11/site-packages/sklearn/base.py:348: InconsistentVersionWarning:\n",
      "\n",
      "Trying to unpickle estimator RandomForestClassifier from version 1.3.0 when using version 1.3.2. This might lead to breaking code or invalid results. Use at your own risk. For more info please refer to:\n",
      "https://scikit-learn.org/stable/model_persistence.html#security-maintainability-limitations\n",
      "\n"
     ]
    }
   ],
   "source": [
    "xgboost = joblib.load('../models/best_model_xgboost.pkl')\n",
    "random_forest = joblib.load('../models/best_model_random_forest.pkl')\n",
    "gnb = joblib.load('../models/gnb.pkl')"
   ]
  },
  {
   "cell_type": "markdown",
   "metadata": {},
   "source": [
    "# Sankey Diagramm vorbereiten"
   ]
  },
  {
   "cell_type": "markdown",
   "metadata": {},
   "source": [
    "## Preprocessing"
   ]
  },
  {
   "cell_type": "code",
   "execution_count": 58,
   "metadata": {
    "ExecuteTime": {
     "end_time": "2023-12-19T12:37:53.946553Z",
     "start_time": "2023-12-19T12:37:49.570910Z"
    }
   },
   "outputs": [],
   "source": [
    "tat = pd.read_csv(\"../data/lucas_organic_carbon_training_and_test_data_NEW.csv\")\n",
    "targets = pd.read_csv(\"../data/lucas_organic_carbon_target.csv\")"
   ]
  },
  {
   "cell_type": "code",
   "execution_count": 59,
   "metadata": {
    "ExecuteTime": {
     "end_time": "2023-12-19T12:37:54.187749Z",
     "start_time": "2023-12-19T12:37:53.954364Z"
    }
   },
   "outputs": [],
   "source": [
    "scaler = StandardScaler()\n",
    "scaled_data = scaler.fit_transform(tat)\n",
    "scaled_df = pd.DataFrame(scaled_data, columns=tat.columns)"
   ]
  },
  {
   "cell_type": "code",
   "execution_count": 60,
   "metadata": {
    "ExecuteTime": {
     "end_time": "2023-12-19T12:37:54.726619Z",
     "start_time": "2023-12-19T12:37:54.190001Z"
    }
   },
   "outputs": [
    {
     "name": "stderr",
     "output_type": "stream",
     "text": [
      "[Parallel(n_jobs=1)]: Using backend SequentialBackend with 1 concurrent workers.\n",
      "[Parallel(n_jobs=1)]: Done   1 out of   1 | elapsed:    0.0s remaining:    0.0s\n",
      "[Parallel(n_jobs=1)]: Done 450 out of 450 | elapsed:    0.2s finished\n"
     ]
    }
   ],
   "source": [
    "tat_train, tat_test, targets_train, targets_test = train_test_split(scaled_data, targets, test_size=0.2,\n",
    "                                                                    random_state=42)\n",
    "\n",
    "y_pred_xgboost = xgboost.predict(tat_test)\n",
    "y_pred_randomforest = random_forest.predict(tat_test)\n",
    "y_pred_gnb = gnb.predict(tat_test)"
   ]
  },
  {
   "cell_type": "code",
   "execution_count": 61,
   "metadata": {
    "ExecuteTime": {
     "end_time": "2023-12-19T12:37:54.731060Z",
     "start_time": "2023-12-19T12:37:54.727236Z"
    }
   },
   "outputs": [],
   "source": [
    "label_encoder = LabelEncoder()"
   ]
  },
  {
   "cell_type": "code",
   "execution_count": 62,
   "metadata": {
    "collapsed": false,
    "ExecuteTime": {
     "end_time": "2023-12-19T12:37:54.798206Z",
     "start_time": "2023-12-19T12:37:54.730127Z"
    }
   },
   "outputs": [],
   "source": [
    "y_pred_randomforest = label_encoder.fit_transform(y_pred_randomforest)\n",
    "y_pred_gnb = label_encoder.fit_transform(y_pred_gnb)"
   ]
  },
  {
   "cell_type": "markdown",
   "source": [
    "## Create ground Truth column"
   ],
   "metadata": {
    "collapsed": false
   }
  },
  {
   "cell_type": "code",
   "execution_count": 63,
   "metadata": {
    "collapsed": false,
    "ExecuteTime": {
     "end_time": "2023-12-19T12:37:54.798617Z",
     "start_time": "2023-12-19T12:37:54.790094Z"
    }
   },
   "outputs": [
    {
     "name": "stderr",
     "output_type": "stream",
     "text": [
      "/Users/moritzlindner/anaconda3/lib/python3.11/site-packages/sklearn/preprocessing/_label.py:114: DataConversionWarning:\n",
      "\n",
      "A column-vector y was passed when a 1d array was expected. Please change the shape of y to (n_samples, ), for example using ravel().\n",
      "\n"
     ]
    }
   ],
   "source": [
    "ground_truth = label_encoder.fit_transform(targets_test.to_numpy())"
   ]
  },
  {
   "cell_type": "markdown",
   "source": [
    "## Create single dataframe containing model predictions and ground truth\n",
    "This is the data basis for the sankey diagram"
   ],
   "metadata": {
    "collapsed": false
   }
  },
  {
   "cell_type": "code",
   "execution_count": 64,
   "metadata": {
    "collapsed": false,
    "ExecuteTime": {
     "end_time": "2023-12-19T12:37:54.803430Z",
     "start_time": "2023-12-19T12:37:54.790628Z"
    }
   },
   "outputs": [
    {
     "data": {
      "text/plain": "      XGBoost  Random Forest  Gaussian Naive Bias  Ground Truth\n0           4              4                    4             4\n1           2              2                    0             0\n2           2              2                    2             1\n3           4              4                    2             1\n4           3              3                    3             3\n...       ...            ...                  ...           ...\n1974        4              4                    4             4\n1975        4              4                    1             4\n1976        4              4                    3             4\n1977        4              4                    4             4\n1978        1              1                    1             4\n\n[1979 rows x 4 columns]",
      "text/html": "<div>\n<style scoped>\n    .dataframe tbody tr th:only-of-type {\n        vertical-align: middle;\n    }\n\n    .dataframe tbody tr th {\n        vertical-align: top;\n    }\n\n    .dataframe thead th {\n        text-align: right;\n    }\n</style>\n<table border=\"1\" class=\"dataframe\">\n  <thead>\n    <tr style=\"text-align: right;\">\n      <th></th>\n      <th>XGBoost</th>\n      <th>Random Forest</th>\n      <th>Gaussian Naive Bias</th>\n      <th>Ground Truth</th>\n    </tr>\n  </thead>\n  <tbody>\n    <tr>\n      <th>0</th>\n      <td>4</td>\n      <td>4</td>\n      <td>4</td>\n      <td>4</td>\n    </tr>\n    <tr>\n      <th>1</th>\n      <td>2</td>\n      <td>2</td>\n      <td>0</td>\n      <td>0</td>\n    </tr>\n    <tr>\n      <th>2</th>\n      <td>2</td>\n      <td>2</td>\n      <td>2</td>\n      <td>1</td>\n    </tr>\n    <tr>\n      <th>3</th>\n      <td>4</td>\n      <td>4</td>\n      <td>2</td>\n      <td>1</td>\n    </tr>\n    <tr>\n      <th>4</th>\n      <td>3</td>\n      <td>3</td>\n      <td>3</td>\n      <td>3</td>\n    </tr>\n    <tr>\n      <th>...</th>\n      <td>...</td>\n      <td>...</td>\n      <td>...</td>\n      <td>...</td>\n    </tr>\n    <tr>\n      <th>1974</th>\n      <td>4</td>\n      <td>4</td>\n      <td>4</td>\n      <td>4</td>\n    </tr>\n    <tr>\n      <th>1975</th>\n      <td>4</td>\n      <td>4</td>\n      <td>1</td>\n      <td>4</td>\n    </tr>\n    <tr>\n      <th>1976</th>\n      <td>4</td>\n      <td>4</td>\n      <td>3</td>\n      <td>4</td>\n    </tr>\n    <tr>\n      <th>1977</th>\n      <td>4</td>\n      <td>4</td>\n      <td>4</td>\n      <td>4</td>\n    </tr>\n    <tr>\n      <th>1978</th>\n      <td>1</td>\n      <td>1</td>\n      <td>1</td>\n      <td>4</td>\n    </tr>\n  </tbody>\n</table>\n<p>1979 rows × 4 columns</p>\n</div>"
     },
     "execution_count": 64,
     "metadata": {},
     "output_type": "execute_result"
    }
   ],
   "source": [
    "xg_predictions = pd.DataFrame(y_pred_xgboost, columns=['XGBoost'])\n",
    "random_forest_predictions = pd.DataFrame(y_pred_randomforest, columns=['Random Forest'])\n",
    "gnb_predictions = pd.DataFrame(y_pred_gnb, columns=['Gaussian Naive Bias'])\n",
    "ground_truth = pd.DataFrame(ground_truth, columns=['Ground Truth'])\n",
    "df = pd.concat([xg_predictions, random_forest_predictions, gnb_predictions, ground_truth], axis=1)\n",
    "df"
   ]
  },
  {
   "cell_type": "markdown",
   "metadata": {},
   "source": [
    "## Farben erstellen"
   ]
  },
  {
   "cell_type": "code",
   "execution_count": 65,
   "metadata": {
    "ExecuteTime": {
     "end_time": "2023-12-19T12:37:54.804164Z",
     "start_time": "2023-12-19T12:37:54.795080Z"
    }
   },
   "outputs": [],
   "source": [
    "ncolor0 = 'rgba(230, 159, 0, 1)'\n",
    "ncolor1 = 'rgba(0, 158, 115, 1)'\n",
    "ncolor2 = 'rgba(0, 114, 178, 1)'\n",
    "ncolor3 = 'rgba(213, 94, 0, 1)'\n",
    "ncolor4 = 'rgba(204, 121, 167, 1)'\n",
    "\n",
    "color_node = []\n",
    "\n",
    "for n in range(4):\n",
    "    color_node.append(ncolor0)\n",
    "    color_node.append(ncolor1)\n",
    "    color_node.append(ncolor2)\n",
    "    color_node.append(ncolor3)\n",
    "    color_node.append(ncolor4)\n",
    "\n",
    "lcolor0 = 'rgba(230, 159, 0, 0.5)'\n",
    "lcolor1 = 'rgba(0, 158, 115, 0.5)'\n",
    "lcolor2 = 'rgba(0, 114, 178, 0.5)'\n",
    "lcolor3 = 'rgba(213, 94, 0, 0.5)'\n",
    "lcolor4 = 'rgba(204, 121, 167, 0.5)'\n",
    "\n",
    "color_link = []\n",
    "\n",
    "for n in range(16):\n",
    "    color_link.append(lcolor0)\n",
    "    color_link.append(lcolor1)\n",
    "    color_link.append(lcolor2)\n",
    "    color_link.append(lcolor3)\n",
    "    color_link.append(lcolor4)"
   ]
  },
  {
   "cell_type": "markdown",
   "metadata": {},
   "source": [
    "## Beschriftungen"
   ]
  },
  {
   "cell_type": "code",
   "execution_count": 66,
   "metadata": {
    "collapsed": false,
    "ExecuteTime": {
     "end_time": "2023-12-19T12:37:54.805039Z",
     "start_time": "2023-12-19T12:37:54.799513Z"
    }
   },
   "outputs": [],
   "source": [
    "def integer_target_to_string_target(value):\n",
    "    mapping_dict = {\n",
    "        0: 'very_high',\n",
    "        1: 'high',\n",
    "        2: 'moderate',\n",
    "        3: 'low',\n",
    "        4: 'very_low'\n",
    "    }\n",
    "\n",
    "    return mapping_dict.get(value, 'Unknown')\n",
    "\n",
    "\n",
    "def model_name_to_key_part_prefix(model_name):\n",
    "    match model_name:\n",
    "        case 'XGBoost':\n",
    "            return 'x'\n",
    "        case 'Gaussian Naive Bias':\n",
    "            return 'g'\n",
    "        case 'Random Forest':\n",
    "            return 'r'\n",
    "        case 'Ground Truth':\n",
    "            return 'gt'\n",
    "        case _:\n",
    "            raise ValueError(f'Unknown model name: {model_name}')"
   ]
  },
  {
   "cell_type": "markdown",
   "metadata": {},
   "source": [
    "## Funktion zum Plotten des Diagramms"
   ]
  },
  {
   "cell_type": "code",
   "execution_count": 67,
   "metadata": {
    "collapsed": false,
    "ExecuteTime": {
     "end_time": "2023-12-19T12:37:54.810476Z",
     "start_time": "2023-12-19T12:37:54.805189Z"
    }
   },
   "outputs": [],
   "source": [
    "def build_sankey(df, model_name_list):\n",
    "    __NUMBER_OF_TARGETS = 5\n",
    "    flow_numbers_by_model_indices = {}\n",
    "    model_names_and_prefixes = list(\n",
    "        map(lambda model_name: (model_name, model_name_to_key_part_prefix(model_name)), model_name_list)\n",
    "    )\n",
    "\n",
    "    # build keys for each model with the next (e.g. if we have 3 models A, B, C we want to see the flow from A to B and from B to C\n",
    "    for i, current in enumerate(model_names_and_prefixes[:-1]):\n",
    "        (current_model, current_prefix) = current\n",
    "        (next_model, next_prefix) = model_names_and_prefixes[i + 1]\n",
    "        \n",
    "        # build keys from model a to b for each combination of values 0 to 4\n",
    "        for a in range(__NUMBER_OF_TARGETS):\n",
    "            for b in range(__NUMBER_OF_TARGETS):\n",
    "                key_part_1 = f\"{current_prefix}{a}\"\n",
    "                key_part_2 = f\"{next_prefix}{b}\"\n",
    "                key = (key_part_1, key_part_2)\n",
    "                \n",
    "                flow_numbers_by_model_indices[key] = 0\n",
    "\n",
    "        # count up amount of flow from the dataframe\n",
    "        for index, row in df.iterrows():\n",
    "            key_part_1 = f\"{current_prefix}{row[current_model]}\"\n",
    "            key_part_2 = f\"{next_prefix}{row[next_model]}\"\n",
    "            key = (key_part_1, key_part_2)\n",
    "\n",
    "            flow_numbers_by_model_indices[key] = flow_numbers_by_model_indices[key] + 1\n",
    "\n",
    "    # build labels and flow labels\n",
    "    suffix_labels = []\n",
    "    model_name_labels = []\n",
    "    for (model_name, prefix) in model_names_and_prefixes:\n",
    "        for a in range(__NUMBER_OF_TARGETS):\n",
    "            suffix_labels.append(f\"{prefix}{a}\")\n",
    "            model_name_labels.append(f\"{model_name} {integer_target_to_string_target(a)}\")\n",
    "\n",
    "    sources = []\n",
    "    targets = []\n",
    "    flow_values = []\n",
    "\n",
    "    for key in flow_numbers_by_model_indices:\n",
    "        (source, target) = key\n",
    "        source_index = suffix_labels.index(source)\n",
    "        target_index = suffix_labels.index(target)\n",
    "        value = flow_numbers_by_model_indices[key]\n",
    "        sources.append(source_index)\n",
    "        targets.append(target_index)\n",
    "        flow_values.append(value)\n",
    "\n",
    "    fig = go.Figure(data=[go.Sankey(\n",
    "        node=dict(\n",
    "            pad=15,\n",
    "            thickness=20,\n",
    "            line=dict(color=\"black\", width=0.5),\n",
    "            label=model_name_labels,\n",
    "            color=color_node\n",
    "        ),\n",
    "        link=dict(\n",
    "            source=sources,\n",
    "            target=targets,\n",
    "            value=flow_values,\n",
    "            color=color_link\n",
    "        ))])\n",
    "\n",
    "    return fig"
   ]
  },
  {
   "cell_type": "markdown",
   "metadata": {},
   "source": [
    "# Application"
   ]
  },
  {
   "cell_type": "code",
   "execution_count": 68,
   "metadata": {
    "ExecuteTime": {
     "end_time": "2023-12-19T12:37:54.982258Z",
     "start_time": "2023-12-19T12:37:54.809609Z"
    }
   },
   "outputs": [
    {
     "data": {
      "text/plain": "<IPython.lib.display.IFrame at 0x285de8490>",
      "text/html": "\n        <iframe\n            width=\"100%\"\n            height=\"650\"\n            src=\"http://127.0.0.1:8050/\"\n            frameborder=\"0\"\n            allowfullscreen\n            \n        ></iframe>\n        "
     },
     "metadata": {},
     "output_type": "display_data"
    }
   ],
   "source": [
    "app = Dash(__name__)\n",
    "app.layout = html.Div([\n",
    "    html.H1(\"Sankey Diagram Dashboard\"),\n",
    "    dcc.Dropdown(['XGBoost', 'Random Forest', 'Gaussian Naive Bias', 'Ground Truth'], placeholder='Select Model 1',\n",
    "                 id='dropdown_1'),\n",
    "    dcc.Dropdown(['XGBoost', 'Random Forest', 'Gaussian Naive Bias', 'Ground Truth'], placeholder='Select Model 2',\n",
    "                 id='dropdown_2'),\n",
    "    dcc.Dropdown(['XGBoost', 'Random Forest', 'Gaussian Naive Bias', 'Ground Truth'], placeholder='Select Model 3',\n",
    "                 id='dropdown_3'),\n",
    "    dcc.Dropdown(['XGBoost', 'Random Forest', 'Gaussian Naive Bias', 'Ground Truth'], placeholder='Select Model 4',\n",
    "                 id='dropdown_4'),\n",
    "    html.Div(id='dd-output-container')\n",
    "])\n",
    "\n",
    "\n",
    "@callback(\n",
    "    Output('dd-output-container', 'children'),\n",
    "    [Input('dropdown_1', 'value'), Input('dropdown_2', 'value'), Input('dropdown_3', 'value'),\n",
    "     Input('dropdown_4', 'value')]\n",
    ")\n",
    "def generate_sankey(model_1, model_2, model_3, model_4):\n",
    "    models = [v for v in [model_1, model_2, model_3, model_4] if v is not None]\n",
    "    return dcc.Graph(figure=build_sankey(df, models))\n",
    "\n",
    "\n",
    "if __name__ == '__main__':\n",
    "    app.run(debug=True)"
   ]
  }
 ],
 "metadata": {
  "kernelspec": {
   "display_name": "Python 3",
   "language": "python",
   "name": "python3"
  },
  "language_info": {
   "codemirror_mode": {
    "name": "ipython",
    "version": 3
   },
   "file_extension": ".py",
   "mimetype": "text/x-python",
   "name": "python",
   "nbconvert_exporter": "python",
   "pygments_lexer": "ipython3",
   "version": "3.11.6"
  }
 },
 "nbformat": 4,
 "nbformat_minor": 2
}
