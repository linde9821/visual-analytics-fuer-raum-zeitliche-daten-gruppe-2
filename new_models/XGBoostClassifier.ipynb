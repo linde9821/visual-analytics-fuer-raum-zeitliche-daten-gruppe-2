{
 "cells": [
  {
   "cell_type": "markdown",
   "source": [
    "# XGBoost Classifier (Gradient-Boosting-Verfahren)"
   ],
   "metadata": {
    "collapsed": false
   },
   "id": "faa4de3034305535"
  },
  {
   "cell_type": "markdown",
   "source": [
    "Imports"
   ],
   "metadata": {
    "collapsed": false
   },
   "id": "168e2170f2953d97"
  },
  {
   "cell_type": "code",
   "execution_count": 22,
   "outputs": [],
   "source": [
    "import time\n",
    "import pandas as pd\n",
    "from sklearn.metrics import accuracy_score, classification_report, confusion_matrix\n",
    "from sklearn.metrics import f1_score, make_scorer\n",
    "from sklearn.model_selection import GridSearchCV\n",
    "# from sklearn.model_selection import RandomizedSearchCV\n",
    "from sklearn.model_selection import train_test_split\n",
    "from sklearn.preprocessing import StandardScaler\n",
    "from sklearn.preprocessing import LabelEncoder\n",
    "import numpy as np\n",
    "import joblib\n",
    "\n",
    "import xgboost as xgb"
   ],
   "metadata": {
    "collapsed": false,
    "ExecuteTime": {
     "end_time": "2024-02-05T19:27:37.454586Z",
     "start_time": "2024-02-05T19:27:37.414099Z"
    }
   },
   "id": "initial_id"
  },
  {
   "cell_type": "markdown",
   "source": [
    "Config for XGBoost"
   ],
   "metadata": {
    "collapsed": false
   },
   "id": "6dddd579573275f0"
  },
  {
   "cell_type": "code",
   "execution_count": 23,
   "outputs": [],
   "source": [
    "pre_dispatch_jobs = 12\n",
    "useGpu = False"
   ],
   "metadata": {
    "collapsed": false,
    "ExecuteTime": {
     "end_time": "2024-02-05T19:27:37.464239Z",
     "start_time": "2024-02-05T19:27:37.456561Z"
    }
   },
   "id": "d5c3086ec72c641"
  },
  {
   "cell_type": "markdown",
   "source": [
    "Load data and labels into dataframes"
   ],
   "metadata": {
    "collapsed": false
   },
   "id": "1739d83b228cbbab"
  },
  {
   "cell_type": "code",
   "execution_count": 24,
   "outputs": [],
   "source": [
    "df = pd.read_csv('../data/16_lucas_organic_carbon_training_and_test_data.csv')\n",
    "labels = pd.read_csv('../data/16_lucas_organic_carbon_target.csv')"
   ],
   "metadata": {
    "collapsed": false,
    "ExecuteTime": {
     "end_time": "2024-02-05T19:27:37.725992Z",
     "start_time": "2024-02-05T19:27:37.466437Z"
    }
   },
   "id": "b4cbc410f0089d5c"
  },
  {
   "cell_type": "code",
   "execution_count": 25,
   "outputs": [
    {
     "data": {
      "text/plain": "             500.0        502.0        504.0        506.0        508.0  \\\ncount  1951.000000  1951.000000  1951.000000  1951.000000  1951.000000   \nmean      0.000272     0.000279     0.000286     0.000292     0.000299   \nstd       0.000124     0.000126     0.000129     0.000132     0.000134   \nmin       0.000016     0.000017     0.000018     0.000019     0.000021   \n25%       0.000179     0.000184     0.000189     0.000194     0.000199   \n50%       0.000266     0.000273     0.000280     0.000287     0.000294   \n75%       0.000356     0.000365     0.000374     0.000382     0.000390   \nmax       0.000777     0.000788     0.000799     0.000809     0.000820   \n\n             510.0        512.0        514.0        516.0        518.0  ...  \\\ncount  1951.000000  1951.000000  1951.000000  1951.000000  1951.000000  ...   \nmean      0.000306     0.000313     0.000319     0.000324     0.000329  ...   \nstd       0.000137     0.000139     0.000142     0.000144     0.000146  ...   \nmin       0.000022     0.000023     0.000024     0.000025     0.000026  ...   \n25%       0.000203     0.000207     0.000212     0.000216     0.000219  ...   \n50%       0.000300     0.000307     0.000312     0.000318     0.000323  ...   \n75%       0.000398     0.000407     0.000414     0.000421     0.000428  ...   \nmax       0.000831     0.000842     0.000851     0.000858     0.000865  ...   \n\n            2480.0       2482.0       2484.0       2486.0       2488.0  \\\ncount  1951.000000  1951.000000  1951.000000  1951.000000  1951.000000   \nmean     -0.000154    -0.000148    -0.000140    -0.000131    -0.000120   \nstd       0.000059     0.000058     0.000057     0.000055     0.000053   \nmin      -0.000485    -0.000466    -0.000511    -0.000544    -0.000563   \n25%      -0.000185    -0.000179    -0.000170    -0.000160    -0.000148   \n50%      -0.000146    -0.000141    -0.000133    -0.000123    -0.000113   \n75%      -0.000114    -0.000109    -0.000102    -0.000093    -0.000083   \nmax      -0.000022    -0.000019    -0.000015    -0.000010    -0.000005   \n\n            2490.0       2492.0       2494.0       2496.0       2498.0  \ncount  1951.000000  1951.000000  1951.000000  1951.000000  1951.000000  \nmean     -0.000109    -0.000097    -0.000085    -0.000073    -0.000061  \nstd       0.000050     0.000048     0.000046     0.000044     0.000043  \nmin      -0.000566    -0.000563    -0.000559    -0.000556    -0.000553  \n25%      -0.000136    -0.000122    -0.000109    -0.000097    -0.000083  \n50%      -0.000102    -0.000090    -0.000078    -0.000067    -0.000054  \n75%      -0.000073    -0.000063    -0.000053    -0.000042    -0.000031  \nmax      -0.000001     0.000009     0.000023     0.000039     0.000055  \n\n[8 rows x 1000 columns]",
      "text/html": "<div>\n<style scoped>\n    .dataframe tbody tr th:only-of-type {\n        vertical-align: middle;\n    }\n\n    .dataframe tbody tr th {\n        vertical-align: top;\n    }\n\n    .dataframe thead th {\n        text-align: right;\n    }\n</style>\n<table border=\"1\" class=\"dataframe\">\n  <thead>\n    <tr style=\"text-align: right;\">\n      <th></th>\n      <th>500.0</th>\n      <th>502.0</th>\n      <th>504.0</th>\n      <th>506.0</th>\n      <th>508.0</th>\n      <th>510.0</th>\n      <th>512.0</th>\n      <th>514.0</th>\n      <th>516.0</th>\n      <th>518.0</th>\n      <th>...</th>\n      <th>2480.0</th>\n      <th>2482.0</th>\n      <th>2484.0</th>\n      <th>2486.0</th>\n      <th>2488.0</th>\n      <th>2490.0</th>\n      <th>2492.0</th>\n      <th>2494.0</th>\n      <th>2496.0</th>\n      <th>2498.0</th>\n    </tr>\n  </thead>\n  <tbody>\n    <tr>\n      <th>count</th>\n      <td>1951.000000</td>\n      <td>1951.000000</td>\n      <td>1951.000000</td>\n      <td>1951.000000</td>\n      <td>1951.000000</td>\n      <td>1951.000000</td>\n      <td>1951.000000</td>\n      <td>1951.000000</td>\n      <td>1951.000000</td>\n      <td>1951.000000</td>\n      <td>...</td>\n      <td>1951.000000</td>\n      <td>1951.000000</td>\n      <td>1951.000000</td>\n      <td>1951.000000</td>\n      <td>1951.000000</td>\n      <td>1951.000000</td>\n      <td>1951.000000</td>\n      <td>1951.000000</td>\n      <td>1951.000000</td>\n      <td>1951.000000</td>\n    </tr>\n    <tr>\n      <th>mean</th>\n      <td>0.000272</td>\n      <td>0.000279</td>\n      <td>0.000286</td>\n      <td>0.000292</td>\n      <td>0.000299</td>\n      <td>0.000306</td>\n      <td>0.000313</td>\n      <td>0.000319</td>\n      <td>0.000324</td>\n      <td>0.000329</td>\n      <td>...</td>\n      <td>-0.000154</td>\n      <td>-0.000148</td>\n      <td>-0.000140</td>\n      <td>-0.000131</td>\n      <td>-0.000120</td>\n      <td>-0.000109</td>\n      <td>-0.000097</td>\n      <td>-0.000085</td>\n      <td>-0.000073</td>\n      <td>-0.000061</td>\n    </tr>\n    <tr>\n      <th>std</th>\n      <td>0.000124</td>\n      <td>0.000126</td>\n      <td>0.000129</td>\n      <td>0.000132</td>\n      <td>0.000134</td>\n      <td>0.000137</td>\n      <td>0.000139</td>\n      <td>0.000142</td>\n      <td>0.000144</td>\n      <td>0.000146</td>\n      <td>...</td>\n      <td>0.000059</td>\n      <td>0.000058</td>\n      <td>0.000057</td>\n      <td>0.000055</td>\n      <td>0.000053</td>\n      <td>0.000050</td>\n      <td>0.000048</td>\n      <td>0.000046</td>\n      <td>0.000044</td>\n      <td>0.000043</td>\n    </tr>\n    <tr>\n      <th>min</th>\n      <td>0.000016</td>\n      <td>0.000017</td>\n      <td>0.000018</td>\n      <td>0.000019</td>\n      <td>0.000021</td>\n      <td>0.000022</td>\n      <td>0.000023</td>\n      <td>0.000024</td>\n      <td>0.000025</td>\n      <td>0.000026</td>\n      <td>...</td>\n      <td>-0.000485</td>\n      <td>-0.000466</td>\n      <td>-0.000511</td>\n      <td>-0.000544</td>\n      <td>-0.000563</td>\n      <td>-0.000566</td>\n      <td>-0.000563</td>\n      <td>-0.000559</td>\n      <td>-0.000556</td>\n      <td>-0.000553</td>\n    </tr>\n    <tr>\n      <th>25%</th>\n      <td>0.000179</td>\n      <td>0.000184</td>\n      <td>0.000189</td>\n      <td>0.000194</td>\n      <td>0.000199</td>\n      <td>0.000203</td>\n      <td>0.000207</td>\n      <td>0.000212</td>\n      <td>0.000216</td>\n      <td>0.000219</td>\n      <td>...</td>\n      <td>-0.000185</td>\n      <td>-0.000179</td>\n      <td>-0.000170</td>\n      <td>-0.000160</td>\n      <td>-0.000148</td>\n      <td>-0.000136</td>\n      <td>-0.000122</td>\n      <td>-0.000109</td>\n      <td>-0.000097</td>\n      <td>-0.000083</td>\n    </tr>\n    <tr>\n      <th>50%</th>\n      <td>0.000266</td>\n      <td>0.000273</td>\n      <td>0.000280</td>\n      <td>0.000287</td>\n      <td>0.000294</td>\n      <td>0.000300</td>\n      <td>0.000307</td>\n      <td>0.000312</td>\n      <td>0.000318</td>\n      <td>0.000323</td>\n      <td>...</td>\n      <td>-0.000146</td>\n      <td>-0.000141</td>\n      <td>-0.000133</td>\n      <td>-0.000123</td>\n      <td>-0.000113</td>\n      <td>-0.000102</td>\n      <td>-0.000090</td>\n      <td>-0.000078</td>\n      <td>-0.000067</td>\n      <td>-0.000054</td>\n    </tr>\n    <tr>\n      <th>75%</th>\n      <td>0.000356</td>\n      <td>0.000365</td>\n      <td>0.000374</td>\n      <td>0.000382</td>\n      <td>0.000390</td>\n      <td>0.000398</td>\n      <td>0.000407</td>\n      <td>0.000414</td>\n      <td>0.000421</td>\n      <td>0.000428</td>\n      <td>...</td>\n      <td>-0.000114</td>\n      <td>-0.000109</td>\n      <td>-0.000102</td>\n      <td>-0.000093</td>\n      <td>-0.000083</td>\n      <td>-0.000073</td>\n      <td>-0.000063</td>\n      <td>-0.000053</td>\n      <td>-0.000042</td>\n      <td>-0.000031</td>\n    </tr>\n    <tr>\n      <th>max</th>\n      <td>0.000777</td>\n      <td>0.000788</td>\n      <td>0.000799</td>\n      <td>0.000809</td>\n      <td>0.000820</td>\n      <td>0.000831</td>\n      <td>0.000842</td>\n      <td>0.000851</td>\n      <td>0.000858</td>\n      <td>0.000865</td>\n      <td>...</td>\n      <td>-0.000022</td>\n      <td>-0.000019</td>\n      <td>-0.000015</td>\n      <td>-0.000010</td>\n      <td>-0.000005</td>\n      <td>-0.000001</td>\n      <td>0.000009</td>\n      <td>0.000023</td>\n      <td>0.000039</td>\n      <td>0.000055</td>\n    </tr>\n  </tbody>\n</table>\n<p>8 rows × 1000 columns</p>\n</div>"
     },
     "execution_count": 25,
     "metadata": {},
     "output_type": "execute_result"
    }
   ],
   "source": [
    "df.describe()"
   ],
   "metadata": {
    "collapsed": false,
    "ExecuteTime": {
     "end_time": "2024-02-05T19:27:38.204024Z",
     "start_time": "2024-02-05T19:27:37.726668Z"
    }
   },
   "id": "7d5cc82ced1a146"
  },
  {
   "cell_type": "markdown",
   "source": [
    "Create Scaler and scala data"
   ],
   "metadata": {
    "collapsed": false
   },
   "id": "39fad3e092fb7bb"
  },
  {
   "cell_type": "code",
   "execution_count": 26,
   "outputs": [
    {
     "data": {
      "text/plain": "         500.0     502.0     504.0     506.0     508.0     510.0     512.0  \\\n0     0.033550  0.030923  0.028393  0.025957  0.023611  0.021351  0.020134   \n1     0.228730  0.240699  0.252153  0.263118  0.273620  0.283682  0.292945   \n2     0.931905  0.920007  0.908408  0.897107  0.886101  0.875386  0.865490   \n3     0.723173  0.725128  0.726874  0.728428  0.729809  0.731031  0.730880   \n4     0.685617  0.677358  0.669300  0.661443  0.653785  0.646324  0.638793   \n...        ...       ...       ...       ...       ...       ...       ...   \n1946 -0.634850 -0.617595 -0.600906 -0.584765 -0.569154 -0.554056 -0.538888   \n1947  0.601779  0.591457  0.581432  0.571699  0.562252  0.553084  0.542656   \n1948 -0.386278 -0.373224 -0.360616 -0.348438 -0.336674 -0.325309 -0.311088   \n1949  0.268080  0.248295  0.229244  0.210896  0.193222  0.176193  0.159145   \n1950 -1.333238 -1.334978 -1.336405 -1.337551 -1.338443 -1.339108 -1.340076   \n\n         514.0     516.0     518.0  ...    2480.0    2482.0    2484.0  \\\n0     0.019600  0.020371  0.022724  ...  0.275892  0.280295  0.287538   \n1     0.302699  0.312571  0.322177  ... -0.761572 -0.805638 -0.843667   \n2     0.855364  0.845065  0.834877  ...  0.205335  0.234949  0.253837   \n3     0.729221  0.725947  0.720612  ...  0.307128  0.351822  0.390977   \n4     0.630961  0.623076  0.615126  ...  0.095192  0.106626  0.116113   \n...        ...       ...       ...  ...       ...       ...       ...   \n1946 -0.523103 -0.506631 -0.489778  ...  0.970707  0.944959  0.923588   \n1947  0.530403  0.515762  0.498423  ...  1.470333  1.435445  1.394717   \n1948 -0.292803 -0.269534 -0.240856  ... -1.941530 -1.899356 -1.845980   \n1949  0.142823  0.127460  0.112641  ... -0.570091 -0.495802 -0.408980   \n1950 -1.341628 -1.343636 -1.345868  ... -0.713952 -0.647117 -0.606380   \n\n        2486.0    2488.0    2490.0    2492.0    2494.0    2496.0    2498.0  \n0     0.297802  0.298202  0.276732  0.244755  0.207759  0.165672  0.118863  \n1    -0.865928 -0.860229 -0.825640 -0.773770 -0.711011 -0.636492 -0.550152  \n2     0.257953  0.247090  0.213483  0.155301  0.090107  0.018342 -0.058809  \n3     0.413210  0.409331  0.376629  0.321965  0.259427  0.189080  0.111728  \n4     0.119311  0.122850  0.137148  0.148715  0.160365  0.171653  0.182027  \n...        ...       ...       ...       ...       ...       ...       ...  \n1946  0.898918  0.867846  0.832824  0.794746  0.747019  0.688553  0.618903  \n1947  1.350529  1.304687  1.259562  1.199300  1.124194  1.032635  0.924024  \n1948 -1.782353 -1.707989 -1.618095 -1.506433 -1.372492 -1.214715 -1.033249  \n1949 -0.303210 -0.180018 -0.049235  0.095414  0.253978  0.424406  0.602904  \n1950 -0.592913 -0.611737 -0.669913 -0.746932 -0.826278 -0.905475 -0.981276  \n\n[1951 rows x 1000 columns]",
      "text/html": "<div>\n<style scoped>\n    .dataframe tbody tr th:only-of-type {\n        vertical-align: middle;\n    }\n\n    .dataframe tbody tr th {\n        vertical-align: top;\n    }\n\n    .dataframe thead th {\n        text-align: right;\n    }\n</style>\n<table border=\"1\" class=\"dataframe\">\n  <thead>\n    <tr style=\"text-align: right;\">\n      <th></th>\n      <th>500.0</th>\n      <th>502.0</th>\n      <th>504.0</th>\n      <th>506.0</th>\n      <th>508.0</th>\n      <th>510.0</th>\n      <th>512.0</th>\n      <th>514.0</th>\n      <th>516.0</th>\n      <th>518.0</th>\n      <th>...</th>\n      <th>2480.0</th>\n      <th>2482.0</th>\n      <th>2484.0</th>\n      <th>2486.0</th>\n      <th>2488.0</th>\n      <th>2490.0</th>\n      <th>2492.0</th>\n      <th>2494.0</th>\n      <th>2496.0</th>\n      <th>2498.0</th>\n    </tr>\n  </thead>\n  <tbody>\n    <tr>\n      <th>0</th>\n      <td>0.033550</td>\n      <td>0.030923</td>\n      <td>0.028393</td>\n      <td>0.025957</td>\n      <td>0.023611</td>\n      <td>0.021351</td>\n      <td>0.020134</td>\n      <td>0.019600</td>\n      <td>0.020371</td>\n      <td>0.022724</td>\n      <td>...</td>\n      <td>0.275892</td>\n      <td>0.280295</td>\n      <td>0.287538</td>\n      <td>0.297802</td>\n      <td>0.298202</td>\n      <td>0.276732</td>\n      <td>0.244755</td>\n      <td>0.207759</td>\n      <td>0.165672</td>\n      <td>0.118863</td>\n    </tr>\n    <tr>\n      <th>1</th>\n      <td>0.228730</td>\n      <td>0.240699</td>\n      <td>0.252153</td>\n      <td>0.263118</td>\n      <td>0.273620</td>\n      <td>0.283682</td>\n      <td>0.292945</td>\n      <td>0.302699</td>\n      <td>0.312571</td>\n      <td>0.322177</td>\n      <td>...</td>\n      <td>-0.761572</td>\n      <td>-0.805638</td>\n      <td>-0.843667</td>\n      <td>-0.865928</td>\n      <td>-0.860229</td>\n      <td>-0.825640</td>\n      <td>-0.773770</td>\n      <td>-0.711011</td>\n      <td>-0.636492</td>\n      <td>-0.550152</td>\n    </tr>\n    <tr>\n      <th>2</th>\n      <td>0.931905</td>\n      <td>0.920007</td>\n      <td>0.908408</td>\n      <td>0.897107</td>\n      <td>0.886101</td>\n      <td>0.875386</td>\n      <td>0.865490</td>\n      <td>0.855364</td>\n      <td>0.845065</td>\n      <td>0.834877</td>\n      <td>...</td>\n      <td>0.205335</td>\n      <td>0.234949</td>\n      <td>0.253837</td>\n      <td>0.257953</td>\n      <td>0.247090</td>\n      <td>0.213483</td>\n      <td>0.155301</td>\n      <td>0.090107</td>\n      <td>0.018342</td>\n      <td>-0.058809</td>\n    </tr>\n    <tr>\n      <th>3</th>\n      <td>0.723173</td>\n      <td>0.725128</td>\n      <td>0.726874</td>\n      <td>0.728428</td>\n      <td>0.729809</td>\n      <td>0.731031</td>\n      <td>0.730880</td>\n      <td>0.729221</td>\n      <td>0.725947</td>\n      <td>0.720612</td>\n      <td>...</td>\n      <td>0.307128</td>\n      <td>0.351822</td>\n      <td>0.390977</td>\n      <td>0.413210</td>\n      <td>0.409331</td>\n      <td>0.376629</td>\n      <td>0.321965</td>\n      <td>0.259427</td>\n      <td>0.189080</td>\n      <td>0.111728</td>\n    </tr>\n    <tr>\n      <th>4</th>\n      <td>0.685617</td>\n      <td>0.677358</td>\n      <td>0.669300</td>\n      <td>0.661443</td>\n      <td>0.653785</td>\n      <td>0.646324</td>\n      <td>0.638793</td>\n      <td>0.630961</td>\n      <td>0.623076</td>\n      <td>0.615126</td>\n      <td>...</td>\n      <td>0.095192</td>\n      <td>0.106626</td>\n      <td>0.116113</td>\n      <td>0.119311</td>\n      <td>0.122850</td>\n      <td>0.137148</td>\n      <td>0.148715</td>\n      <td>0.160365</td>\n      <td>0.171653</td>\n      <td>0.182027</td>\n    </tr>\n    <tr>\n      <th>...</th>\n      <td>...</td>\n      <td>...</td>\n      <td>...</td>\n      <td>...</td>\n      <td>...</td>\n      <td>...</td>\n      <td>...</td>\n      <td>...</td>\n      <td>...</td>\n      <td>...</td>\n      <td>...</td>\n      <td>...</td>\n      <td>...</td>\n      <td>...</td>\n      <td>...</td>\n      <td>...</td>\n      <td>...</td>\n      <td>...</td>\n      <td>...</td>\n      <td>...</td>\n      <td>...</td>\n    </tr>\n    <tr>\n      <th>1946</th>\n      <td>-0.634850</td>\n      <td>-0.617595</td>\n      <td>-0.600906</td>\n      <td>-0.584765</td>\n      <td>-0.569154</td>\n      <td>-0.554056</td>\n      <td>-0.538888</td>\n      <td>-0.523103</td>\n      <td>-0.506631</td>\n      <td>-0.489778</td>\n      <td>...</td>\n      <td>0.970707</td>\n      <td>0.944959</td>\n      <td>0.923588</td>\n      <td>0.898918</td>\n      <td>0.867846</td>\n      <td>0.832824</td>\n      <td>0.794746</td>\n      <td>0.747019</td>\n      <td>0.688553</td>\n      <td>0.618903</td>\n    </tr>\n    <tr>\n      <th>1947</th>\n      <td>0.601779</td>\n      <td>0.591457</td>\n      <td>0.581432</td>\n      <td>0.571699</td>\n      <td>0.562252</td>\n      <td>0.553084</td>\n      <td>0.542656</td>\n      <td>0.530403</td>\n      <td>0.515762</td>\n      <td>0.498423</td>\n      <td>...</td>\n      <td>1.470333</td>\n      <td>1.435445</td>\n      <td>1.394717</td>\n      <td>1.350529</td>\n      <td>1.304687</td>\n      <td>1.259562</td>\n      <td>1.199300</td>\n      <td>1.124194</td>\n      <td>1.032635</td>\n      <td>0.924024</td>\n    </tr>\n    <tr>\n      <th>1948</th>\n      <td>-0.386278</td>\n      <td>-0.373224</td>\n      <td>-0.360616</td>\n      <td>-0.348438</td>\n      <td>-0.336674</td>\n      <td>-0.325309</td>\n      <td>-0.311088</td>\n      <td>-0.292803</td>\n      <td>-0.269534</td>\n      <td>-0.240856</td>\n      <td>...</td>\n      <td>-1.941530</td>\n      <td>-1.899356</td>\n      <td>-1.845980</td>\n      <td>-1.782353</td>\n      <td>-1.707989</td>\n      <td>-1.618095</td>\n      <td>-1.506433</td>\n      <td>-1.372492</td>\n      <td>-1.214715</td>\n      <td>-1.033249</td>\n    </tr>\n    <tr>\n      <th>1949</th>\n      <td>0.268080</td>\n      <td>0.248295</td>\n      <td>0.229244</td>\n      <td>0.210896</td>\n      <td>0.193222</td>\n      <td>0.176193</td>\n      <td>0.159145</td>\n      <td>0.142823</td>\n      <td>0.127460</td>\n      <td>0.112641</td>\n      <td>...</td>\n      <td>-0.570091</td>\n      <td>-0.495802</td>\n      <td>-0.408980</td>\n      <td>-0.303210</td>\n      <td>-0.180018</td>\n      <td>-0.049235</td>\n      <td>0.095414</td>\n      <td>0.253978</td>\n      <td>0.424406</td>\n      <td>0.602904</td>\n    </tr>\n    <tr>\n      <th>1950</th>\n      <td>-1.333238</td>\n      <td>-1.334978</td>\n      <td>-1.336405</td>\n      <td>-1.337551</td>\n      <td>-1.338443</td>\n      <td>-1.339108</td>\n      <td>-1.340076</td>\n      <td>-1.341628</td>\n      <td>-1.343636</td>\n      <td>-1.345868</td>\n      <td>...</td>\n      <td>-0.713952</td>\n      <td>-0.647117</td>\n      <td>-0.606380</td>\n      <td>-0.592913</td>\n      <td>-0.611737</td>\n      <td>-0.669913</td>\n      <td>-0.746932</td>\n      <td>-0.826278</td>\n      <td>-0.905475</td>\n      <td>-0.981276</td>\n    </tr>\n  </tbody>\n</table>\n<p>1951 rows × 1000 columns</p>\n</div>"
     },
     "execution_count": 26,
     "metadata": {},
     "output_type": "execute_result"
    }
   ],
   "source": [
    "# TODO: Maybe try a z-transfromtion stead of the standardscaler\n",
    "scaler = StandardScaler()\n",
    "scaled_data = scaler.fit_transform(df)\n",
    "scaled_df = pd.DataFrame(scaled_data, columns=df.columns)\n",
    "scaled_df"
   ],
   "metadata": {
    "collapsed": false,
    "ExecuteTime": {
     "end_time": "2024-02-05T19:27:38.226831Z",
     "start_time": "2024-02-05T19:27:38.207212Z"
    }
   },
   "id": "75e96b70268eeea5"
  },
  {
   "cell_type": "markdown",
   "source": [
    "Use lable encoder to transform high, low, etc to 1, 2, 3, 4, 5"
   ],
   "metadata": {
    "collapsed": false
   },
   "id": "eacdcb5c19415721"
  },
  {
   "cell_type": "code",
   "execution_count": 27,
   "outputs": [],
   "source": [
    "label_encoder = LabelEncoder()\n",
    "labels.x = label_encoder.fit_transform(labels.x)"
   ],
   "metadata": {
    "collapsed": false,
    "ExecuteTime": {
     "end_time": "2024-02-05T19:27:38.243140Z",
     "start_time": "2024-02-05T19:27:38.225949Z"
    }
   },
   "id": "2960e9f266c30ec8"
  },
  {
   "cell_type": "markdown",
   "source": [
    "Split Dataset into Training- and Testset"
   ],
   "metadata": {
    "collapsed": false
   },
   "id": "faf64fcb7826e5b"
  },
  {
   "cell_type": "code",
   "execution_count": 28,
   "outputs": [],
   "source": [
    "X_train, X_test, y_train, y_test = train_test_split(scaled_data, labels, test_size=0.2, random_state=42)"
   ],
   "metadata": {
    "collapsed": false,
    "ExecuteTime": {
     "end_time": "2024-02-05T19:27:38.268698Z",
     "start_time": "2024-02-05T19:27:38.229220Z"
    }
   },
   "id": "b1f249160c50def9"
  },
  {
   "cell_type": "markdown",
   "source": [
    "Create XGBoost Classifier"
   ],
   "metadata": {
    "collapsed": false
   },
   "id": "ec07d0f403953f87"
  },
  {
   "cell_type": "code",
   "execution_count": 29,
   "outputs": [
    {
     "data": {
      "text/plain": "XGBClassifier(base_score=None, booster=None, callbacks=None,\n              colsample_bylevel=None, colsample_bynode=None,\n              colsample_bytree=None, device=None, early_stopping_rounds=None,\n              enable_categorical=False, eval_metric=None, feature_types=None,\n              gamma=None, grow_policy=None, importance_type=None,\n              interaction_constraints=None, learning_rate=0.02, max_bin=None,\n              max_cat_threshold=None, max_cat_to_onehot=None,\n              max_delta_step=None, max_depth=None, max_leaves=None,\n              min_child_weight=None, missing=nan, monotone_constraints=None,\n              multi_strategy=None, n_estimators=10, n_jobs=None, num_class=5,\n              num_parallel_tree=None, ...)",
      "text/html": "<style>#sk-container-id-3 {\n  /* Definition of color scheme common for light and dark mode */\n  --sklearn-color-text: black;\n  --sklearn-color-line: gray;\n  /* Definition of color scheme for unfitted estimators */\n  --sklearn-color-unfitted-level-0: #fff5e6;\n  --sklearn-color-unfitted-level-1: #f6e4d2;\n  --sklearn-color-unfitted-level-2: #ffe0b3;\n  --sklearn-color-unfitted-level-3: chocolate;\n  /* Definition of color scheme for fitted estimators */\n  --sklearn-color-fitted-level-0: #f0f8ff;\n  --sklearn-color-fitted-level-1: #d4ebff;\n  --sklearn-color-fitted-level-2: #b3dbfd;\n  --sklearn-color-fitted-level-3: cornflowerblue;\n\n  /* Specific color for light theme */\n  --sklearn-color-text-on-default-background: var(--sg-text-color, var(--theme-code-foreground, var(--jp-content-font-color1, black)));\n  --sklearn-color-background: var(--sg-background-color, var(--theme-background, var(--jp-layout-color0, white)));\n  --sklearn-color-border-box: var(--sg-text-color, var(--theme-code-foreground, var(--jp-content-font-color1, black)));\n  --sklearn-color-icon: #696969;\n\n  @media (prefers-color-scheme: dark) {\n    /* Redefinition of color scheme for dark theme */\n    --sklearn-color-text-on-default-background: var(--sg-text-color, var(--theme-code-foreground, var(--jp-content-font-color1, white)));\n    --sklearn-color-background: var(--sg-background-color, var(--theme-background, var(--jp-layout-color0, #111)));\n    --sklearn-color-border-box: var(--sg-text-color, var(--theme-code-foreground, var(--jp-content-font-color1, white)));\n    --sklearn-color-icon: #878787;\n  }\n}\n\n#sk-container-id-3 {\n  color: var(--sklearn-color-text);\n}\n\n#sk-container-id-3 pre {\n  padding: 0;\n}\n\n#sk-container-id-3 input.sk-hidden--visually {\n  border: 0;\n  clip: rect(1px 1px 1px 1px);\n  clip: rect(1px, 1px, 1px, 1px);\n  height: 1px;\n  margin: -1px;\n  overflow: hidden;\n  padding: 0;\n  position: absolute;\n  width: 1px;\n}\n\n#sk-container-id-3 div.sk-dashed-wrapped {\n  border: 1px dashed var(--sklearn-color-line);\n  margin: 0 0.4em 0.5em 0.4em;\n  box-sizing: border-box;\n  padding-bottom: 0.4em;\n  background-color: var(--sklearn-color-background);\n}\n\n#sk-container-id-3 div.sk-container {\n  /* jupyter's `normalize.less` sets `[hidden] { display: none; }`\n     but bootstrap.min.css set `[hidden] { display: none !important; }`\n     so we also need the `!important` here to be able to override the\n     default hidden behavior on the sphinx rendered scikit-learn.org.\n     See: https://github.com/scikit-learn/scikit-learn/issues/21755 */\n  display: inline-block !important;\n  position: relative;\n}\n\n#sk-container-id-3 div.sk-text-repr-fallback {\n  display: none;\n}\n\ndiv.sk-parallel-item,\ndiv.sk-serial,\ndiv.sk-item {\n  /* draw centered vertical line to link estimators */\n  background-image: linear-gradient(var(--sklearn-color-text-on-default-background), var(--sklearn-color-text-on-default-background));\n  background-size: 2px 100%;\n  background-repeat: no-repeat;\n  background-position: center center;\n}\n\n/* Parallel-specific style estimator block */\n\n#sk-container-id-3 div.sk-parallel-item::after {\n  content: \"\";\n  width: 100%;\n  border-bottom: 2px solid var(--sklearn-color-text-on-default-background);\n  flex-grow: 1;\n}\n\n#sk-container-id-3 div.sk-parallel {\n  display: flex;\n  align-items: stretch;\n  justify-content: center;\n  background-color: var(--sklearn-color-background);\n  position: relative;\n}\n\n#sk-container-id-3 div.sk-parallel-item {\n  display: flex;\n  flex-direction: column;\n}\n\n#sk-container-id-3 div.sk-parallel-item:first-child::after {\n  align-self: flex-end;\n  width: 50%;\n}\n\n#sk-container-id-3 div.sk-parallel-item:last-child::after {\n  align-self: flex-start;\n  width: 50%;\n}\n\n#sk-container-id-3 div.sk-parallel-item:only-child::after {\n  width: 0;\n}\n\n/* Serial-specific style estimator block */\n\n#sk-container-id-3 div.sk-serial {\n  display: flex;\n  flex-direction: column;\n  align-items: center;\n  background-color: var(--sklearn-color-background);\n  padding-right: 1em;\n  padding-left: 1em;\n}\n\n\n/* Toggleable style: style used for estimator/Pipeline/ColumnTransformer box that is\nclickable and can be expanded/collapsed.\n- Pipeline and ColumnTransformer use this feature and define the default style\n- Estimators will overwrite some part of the style using the `sk-estimator` class\n*/\n\n/* Pipeline and ColumnTransformer style (default) */\n\n#sk-container-id-3 div.sk-toggleable {\n  /* Default theme specific background. It is overwritten whether we have a\n  specific estimator or a Pipeline/ColumnTransformer */\n  background-color: var(--sklearn-color-background);\n}\n\n/* Toggleable label */\n#sk-container-id-3 label.sk-toggleable__label {\n  cursor: pointer;\n  display: block;\n  width: 100%;\n  margin-bottom: 0;\n  padding: 0.5em;\n  box-sizing: border-box;\n  text-align: center;\n}\n\n#sk-container-id-3 label.sk-toggleable__label-arrow:before {\n  /* Arrow on the left of the label */\n  content: \"▸\";\n  float: left;\n  margin-right: 0.25em;\n  color: var(--sklearn-color-icon);\n}\n\n#sk-container-id-3 label.sk-toggleable__label-arrow:hover:before {\n  color: var(--sklearn-color-text);\n}\n\n/* Toggleable content - dropdown */\n\n#sk-container-id-3 div.sk-toggleable__content {\n  max-height: 0;\n  max-width: 0;\n  overflow: hidden;\n  text-align: left;\n  /* unfitted */\n  background-color: var(--sklearn-color-unfitted-level-0);\n}\n\n#sk-container-id-3 div.sk-toggleable__content.fitted {\n  /* fitted */\n  background-color: var(--sklearn-color-fitted-level-0);\n}\n\n#sk-container-id-3 div.sk-toggleable__content pre {\n  margin: 0.2em;\n  border-radius: 0.25em;\n  color: var(--sklearn-color-text);\n  /* unfitted */\n  background-color: var(--sklearn-color-unfitted-level-0);\n}\n\n#sk-container-id-3 div.sk-toggleable__content.fitted pre {\n  /* unfitted */\n  background-color: var(--sklearn-color-fitted-level-0);\n}\n\n#sk-container-id-3 input.sk-toggleable__control:checked~div.sk-toggleable__content {\n  /* Expand drop-down */\n  max-height: 200px;\n  max-width: 100%;\n  overflow: auto;\n}\n\n#sk-container-id-3 input.sk-toggleable__control:checked~label.sk-toggleable__label-arrow:before {\n  content: \"▾\";\n}\n\n/* Pipeline/ColumnTransformer-specific style */\n\n#sk-container-id-3 div.sk-label input.sk-toggleable__control:checked~label.sk-toggleable__label {\n  color: var(--sklearn-color-text);\n  background-color: var(--sklearn-color-unfitted-level-2);\n}\n\n#sk-container-id-3 div.sk-label.fitted input.sk-toggleable__control:checked~label.sk-toggleable__label {\n  background-color: var(--sklearn-color-fitted-level-2);\n}\n\n/* Estimator-specific style */\n\n/* Colorize estimator box */\n#sk-container-id-3 div.sk-estimator input.sk-toggleable__control:checked~label.sk-toggleable__label {\n  /* unfitted */\n  background-color: var(--sklearn-color-unfitted-level-2);\n}\n\n#sk-container-id-3 div.sk-estimator.fitted input.sk-toggleable__control:checked~label.sk-toggleable__label {\n  /* fitted */\n  background-color: var(--sklearn-color-fitted-level-2);\n}\n\n#sk-container-id-3 div.sk-label label.sk-toggleable__label,\n#sk-container-id-3 div.sk-label label {\n  /* The background is the default theme color */\n  color: var(--sklearn-color-text-on-default-background);\n}\n\n/* On hover, darken the color of the background */\n#sk-container-id-3 div.sk-label:hover label.sk-toggleable__label {\n  color: var(--sklearn-color-text);\n  background-color: var(--sklearn-color-unfitted-level-2);\n}\n\n/* Label box, darken color on hover, fitted */\n#sk-container-id-3 div.sk-label.fitted:hover label.sk-toggleable__label.fitted {\n  color: var(--sklearn-color-text);\n  background-color: var(--sklearn-color-fitted-level-2);\n}\n\n/* Estimator label */\n\n#sk-container-id-3 div.sk-label label {\n  font-family: monospace;\n  font-weight: bold;\n  display: inline-block;\n  line-height: 1.2em;\n}\n\n#sk-container-id-3 div.sk-label-container {\n  text-align: center;\n}\n\n/* Estimator-specific */\n#sk-container-id-3 div.sk-estimator {\n  font-family: monospace;\n  border: 1px dotted var(--sklearn-color-border-box);\n  border-radius: 0.25em;\n  box-sizing: border-box;\n  margin-bottom: 0.5em;\n  /* unfitted */\n  background-color: var(--sklearn-color-unfitted-level-0);\n}\n\n#sk-container-id-3 div.sk-estimator.fitted {\n  /* fitted */\n  background-color: var(--sklearn-color-fitted-level-0);\n}\n\n/* on hover */\n#sk-container-id-3 div.sk-estimator:hover {\n  /* unfitted */\n  background-color: var(--sklearn-color-unfitted-level-2);\n}\n\n#sk-container-id-3 div.sk-estimator.fitted:hover {\n  /* fitted */\n  background-color: var(--sklearn-color-fitted-level-2);\n}\n\n/* Specification for estimator info (e.g. \"i\" and \"?\") */\n\n/* Common style for \"i\" and \"?\" */\n\n.sk-estimator-doc-link,\na:link.sk-estimator-doc-link,\na:visited.sk-estimator-doc-link {\n  float: right;\n  font-size: smaller;\n  line-height: 1em;\n  font-family: monospace;\n  background-color: var(--sklearn-color-background);\n  border-radius: 1em;\n  height: 1em;\n  width: 1em;\n  text-decoration: none !important;\n  margin-left: 1ex;\n  /* unfitted */\n  border: var(--sklearn-color-unfitted-level-1) 1pt solid;\n  color: var(--sklearn-color-unfitted-level-1);\n}\n\n.sk-estimator-doc-link.fitted,\na:link.sk-estimator-doc-link.fitted,\na:visited.sk-estimator-doc-link.fitted {\n  /* fitted */\n  border: var(--sklearn-color-fitted-level-1) 1pt solid;\n  color: var(--sklearn-color-fitted-level-1);\n}\n\n/* On hover */\ndiv.sk-estimator:hover .sk-estimator-doc-link:hover,\n.sk-estimator-doc-link:hover,\ndiv.sk-label-container:hover .sk-estimator-doc-link:hover,\n.sk-estimator-doc-link:hover {\n  /* unfitted */\n  background-color: var(--sklearn-color-unfitted-level-3);\n  color: var(--sklearn-color-background);\n  text-decoration: none;\n}\n\ndiv.sk-estimator.fitted:hover .sk-estimator-doc-link.fitted:hover,\n.sk-estimator-doc-link.fitted:hover,\ndiv.sk-label-container:hover .sk-estimator-doc-link.fitted:hover,\n.sk-estimator-doc-link.fitted:hover {\n  /* fitted */\n  background-color: var(--sklearn-color-fitted-level-3);\n  color: var(--sklearn-color-background);\n  text-decoration: none;\n}\n\n/* Span, style for the box shown on hovering the info icon */\n.sk-estimator-doc-link span {\n  display: none;\n  z-index: 9999;\n  position: relative;\n  font-weight: normal;\n  right: .2ex;\n  padding: .5ex;\n  margin: .5ex;\n  width: min-content;\n  min-width: 20ex;\n  max-width: 50ex;\n  color: var(--sklearn-color-text);\n  box-shadow: 2pt 2pt 4pt #999;\n  /* unfitted */\n  background: var(--sklearn-color-unfitted-level-0);\n  border: .5pt solid var(--sklearn-color-unfitted-level-3);\n}\n\n.sk-estimator-doc-link.fitted span {\n  /* fitted */\n  background: var(--sklearn-color-fitted-level-0);\n  border: var(--sklearn-color-fitted-level-3);\n}\n\n.sk-estimator-doc-link:hover span {\n  display: block;\n}\n\n/* \"?\"-specific style due to the `<a>` HTML tag */\n\n#sk-container-id-3 a.estimator_doc_link {\n  float: right;\n  font-size: 1rem;\n  line-height: 1em;\n  font-family: monospace;\n  background-color: var(--sklearn-color-background);\n  border-radius: 1rem;\n  height: 1rem;\n  width: 1rem;\n  text-decoration: none;\n  /* unfitted */\n  color: var(--sklearn-color-unfitted-level-1);\n  border: var(--sklearn-color-unfitted-level-1) 1pt solid;\n}\n\n#sk-container-id-3 a.estimator_doc_link.fitted {\n  /* fitted */\n  border: var(--sklearn-color-fitted-level-1) 1pt solid;\n  color: var(--sklearn-color-fitted-level-1);\n}\n\n/* On hover */\n#sk-container-id-3 a.estimator_doc_link:hover {\n  /* unfitted */\n  background-color: var(--sklearn-color-unfitted-level-3);\n  color: var(--sklearn-color-background);\n  text-decoration: none;\n}\n\n#sk-container-id-3 a.estimator_doc_link.fitted:hover {\n  /* fitted */\n  background-color: var(--sklearn-color-fitted-level-3);\n}\n</style><div id=\"sk-container-id-3\" class=\"sk-top-container\"><div class=\"sk-text-repr-fallback\"><pre>XGBClassifier(base_score=None, booster=None, callbacks=None,\n              colsample_bylevel=None, colsample_bynode=None,\n              colsample_bytree=None, device=None, early_stopping_rounds=None,\n              enable_categorical=False, eval_metric=None, feature_types=None,\n              gamma=None, grow_policy=None, importance_type=None,\n              interaction_constraints=None, learning_rate=0.02, max_bin=None,\n              max_cat_threshold=None, max_cat_to_onehot=None,\n              max_delta_step=None, max_depth=None, max_leaves=None,\n              min_child_weight=None, missing=nan, monotone_constraints=None,\n              multi_strategy=None, n_estimators=10, n_jobs=None, num_class=5,\n              num_parallel_tree=None, ...)</pre><b>In a Jupyter environment, please rerun this cell to show the HTML representation or trust the notebook. <br />On GitHub, the HTML representation is unable to render, please try loading this page with nbviewer.org.</b></div><div class=\"sk-container\" hidden><div class=\"sk-item\"><div class=\"sk-estimator  sk-toggleable\"><input class=\"sk-toggleable__control sk-hidden--visually\" id=\"sk-estimator-id-3\" type=\"checkbox\" checked><label for=\"sk-estimator-id-3\" class=\"sk-toggleable__label  sk-toggleable__label-arrow \">&nbsp;XGBClassifier<span class=\"sk-estimator-doc-link \">i<span>Not fitted</span></span></label><div class=\"sk-toggleable__content \"><pre>XGBClassifier(base_score=None, booster=None, callbacks=None,\n              colsample_bylevel=None, colsample_bynode=None,\n              colsample_bytree=None, device=None, early_stopping_rounds=None,\n              enable_categorical=False, eval_metric=None, feature_types=None,\n              gamma=None, grow_policy=None, importance_type=None,\n              interaction_constraints=None, learning_rate=0.02, max_bin=None,\n              max_cat_threshold=None, max_cat_to_onehot=None,\n              max_delta_step=None, max_depth=None, max_leaves=None,\n              min_child_weight=None, missing=nan, monotone_constraints=None,\n              multi_strategy=None, n_estimators=10, n_jobs=None, num_class=5,\n              num_parallel_tree=None, ...)</pre></div> </div></div></div></div>"
     },
     "execution_count": 29,
     "metadata": {},
     "output_type": "execute_result"
    }
   ],
   "source": [
    "if useGpu:\n",
    "    clf = xgb.XGBClassifier(learning_rate=0.02, n_estimators=10, objective='multi:softmax',\n",
    "                            num_class=len(pd.unique(labels.x)), tree_method = \"hist\", device = \"cuda\")\n",
    "else:\n",
    "    clf = xgb.XGBClassifier(learning_rate=0.02, n_estimators=10, objective='multi:softmax',\n",
    "                            num_class=len(pd.unique(labels.x)))\n",
    "    \n",
    "clf"
   ],
   "metadata": {
    "collapsed": false,
    "ExecuteTime": {
     "end_time": "2024-02-05T19:27:38.295303Z",
     "start_time": "2024-02-05T19:27:38.241900Z"
    }
   },
   "id": "4534403da2794be6"
  },
  {
   "cell_type": "markdown",
   "source": [
    "Create Parametergrid for Gridsearch / Randomsearch"
   ],
   "metadata": {
    "collapsed": false
   },
   "id": "9978689ca2ca5a2a"
  },
  {
   "cell_type": "code",
   "execution_count": 30,
   "outputs": [
    {
     "data": {
      "text/plain": "{'subsample': [0.6, 0.8],\n 'colsample_bytree': [1.0],\n 'gamma': [1],\n 'min_child_weight': [5, 10],\n 'max_depth': [3],\n 'n_estimators': [550, 561, 572, 583, 594, 605, 616, 627, 638, 650],\n 'learning_rate': [0.1, 0.15]}"
     },
     "execution_count": 30,
     "metadata": {},
     "output_type": "execute_result"
    }
   ],
   "source": [
    "param_grid = {\n",
    "    'subsample': [0.6, 0.8],\n",
    "    'colsample_bytree': [1.0],\n",
    "    'gamma': [1],\n",
    "    'min_child_weight': [5, 10],\n",
    "    'max_depth': [3],\n",
    "    'n_estimators': [int(x) for x in np.linspace(start = 550, stop = 650, num = 10)],\n",
    "    'learning_rate': [0.1, 0.15]\n",
    "}\n",
    "param_grid"
   ],
   "metadata": {
    "collapsed": false,
    "ExecuteTime": {
     "end_time": "2024-02-05T19:27:38.295689Z",
     "start_time": "2024-02-05T19:27:38.246357Z"
    }
   },
   "id": "5af4b9c67bfa0843"
  },
  {
   "cell_type": "markdown",
   "source": [
    "Create Scoring method"
   ],
   "metadata": {
    "collapsed": false
   },
   "id": "df1858faa98723b5"
  },
  {
   "cell_type": "code",
   "execution_count": 31,
   "outputs": [],
   "source": [
    "scorer = make_scorer(f1_score, average='micro')"
   ],
   "metadata": {
    "collapsed": false,
    "ExecuteTime": {
     "end_time": "2024-02-05T19:27:38.331272Z",
     "start_time": "2024-02-05T19:27:38.249551Z"
    }
   },
   "id": "1b7d66cf9374702b"
  },
  {
   "cell_type": "markdown",
   "source": [
    "Run Grid/Randomsearch"
   ],
   "metadata": {
    "collapsed": false
   },
   "id": "b44579bd749453ba"
  },
  {
   "cell_type": "code",
   "execution_count": null,
   "outputs": [
    {
     "name": "stdout",
     "output_type": "stream",
     "text": [
      "Fitting 5 folds for each of 80 candidates, totalling 400 fits\n"
     ]
    }
   ],
   "source": [
    "grid_search = GridSearchCV(clf, param_grid, cv=5, refit=True, verbose=3, n_jobs=-1,\n",
    "                    pre_dispatch=pre_dispatch_jobs)\n",
    "\n",
    "fit_time = time.perf_counter()\n",
    "grid_search.fit(X_train, y_train)\n",
    "fit_time = np.round(time.perf_counter() - fit_time)\n",
    "print(f\"Total Time to fit {fit_time}\")"
   ],
   "metadata": {
    "collapsed": false,
    "is_executing": true,
    "ExecuteTime": {
     "start_time": "2024-02-05T19:27:38.251589Z"
    }
   },
   "id": "c72f2a5e5e178c7a"
  },
  {
   "cell_type": "markdown",
   "source": [
    "Extract the best classifier, its paramester and the score"
   ],
   "metadata": {
    "collapsed": false
   },
   "id": "1f65bb274e47da89"
  },
  {
   "cell_type": "code",
   "execution_count": 40,
   "outputs": [],
   "source": [
    "best_clf = grid_search.best_estimator_\n",
    "best_params = grid_search.best_params_\n",
    "best_score = grid_search.best_score_"
   ],
   "metadata": {
    "collapsed": false,
    "ExecuteTime": {
     "end_time": "2024-02-05T22:44:30.553588Z",
     "start_time": "2024-02-05T22:44:30.546412Z"
    }
   },
   "id": "885e03497f9784ea"
  },
  {
   "cell_type": "markdown",
   "source": [
    "Run predictions on test-data and show model metrics"
   ],
   "metadata": {
    "collapsed": false
   },
   "id": "6a499a12dbe3821d"
  },
  {
   "cell_type": "code",
   "execution_count": 41,
   "outputs": [
    {
     "name": "stdout",
     "output_type": "stream",
     "text": [
      "Accuracy: 0.5217391304347826\n",
      "Classification Report:\n",
      "              precision    recall  f1-score   support\n",
      "\n",
      "           0       0.57      0.39      0.46        67\n",
      "           1       0.42      0.56      0.48       106\n",
      "           2       0.39      0.37      0.38       101\n",
      "           3       0.62      0.73      0.67        22\n",
      "           4       0.78      0.69      0.73        95\n",
      "\n",
      "    accuracy                           0.52       391\n",
      "   macro avg       0.55      0.55      0.54       391\n",
      "weighted avg       0.54      0.52      0.52       391\n",
      "\n",
      "Confusion Matrix:\n",
      "[[26  8 24  8  1]\n",
      " [ 2 59 29  1 15]\n",
      " [14 46 37  1  3]\n",
      " [ 4  1  1 16  0]\n",
      " [ 0 26  3  0 66]]\n"
     ]
    }
   ],
   "source": [
    "# Make predictions on the test set\n",
    "y_pred = best_clf.predict(X_test)\n",
    "\n",
    "# Evaluate the model\n",
    "accuracy = accuracy_score(y_test, y_pred)\n",
    "print(\"Accuracy:\", accuracy)\n",
    "\n",
    "print(\"Classification Report:\")\n",
    "print(classification_report(y_test, y_pred))\n",
    "\n",
    "print(\"Confusion Matrix:\")\n",
    "print(confusion_matrix(y_test, y_pred))"
   ],
   "metadata": {
    "collapsed": false,
    "ExecuteTime": {
     "end_time": "2024-02-05T22:44:35.006880Z",
     "start_time": "2024-02-05T22:44:34.973404Z"
    }
   },
   "id": "e92d849fd40bd7b1"
  },
  {
   "cell_type": "markdown",
   "source": [
    "Save model"
   ],
   "metadata": {
    "collapsed": false
   },
   "id": "b831544e7794318c"
  },
  {
   "cell_type": "code",
   "execution_count": 42,
   "outputs": [
    {
     "data": {
      "text/plain": "['../new_models/xgboost.pkl']"
     },
     "execution_count": 42,
     "metadata": {},
     "output_type": "execute_result"
    }
   ],
   "source": [
    "joblib.dump(best_clf, '../new_models/xgboost.pkl')"
   ],
   "metadata": {
    "collapsed": false,
    "ExecuteTime": {
     "end_time": "2024-02-05T22:44:40.253595Z",
     "start_time": "2024-02-05T22:44:40.230958Z"
    }
   },
   "id": "a4115073e0a0dde"
  },
  {
   "cell_type": "markdown",
   "source": [
    "Load model"
   ],
   "metadata": {
    "collapsed": false
   },
   "id": "e9378e9a47c93573"
  },
  {
   "cell_type": "code",
   "execution_count": 43,
   "outputs": [
    {
     "data": {
      "text/plain": "XGBClassifier(base_score=None, booster=None, callbacks=None,\n              colsample_bylevel=None, colsample_bynode=None,\n              colsample_bytree=1.0, device=None, early_stopping_rounds=None,\n              enable_categorical=False, eval_metric=None, feature_types=None,\n              gamma=1, grow_policy=None, importance_type=None,\n              interaction_constraints=None, learning_rate=0.1, max_bin=None,\n              max_cat_threshold=None, max_cat_to_onehot=None,\n              max_delta_step=None, max_depth=3, max_leaves=None,\n              min_child_weight=5, missing=nan, monotone_constraints=None,\n              multi_strategy=None, n_estimators=627, n_jobs=None, num_class=5,\n              num_parallel_tree=None, ...)",
      "text/html": "<style>#sk-container-id-5 {\n  /* Definition of color scheme common for light and dark mode */\n  --sklearn-color-text: black;\n  --sklearn-color-line: gray;\n  /* Definition of color scheme for unfitted estimators */\n  --sklearn-color-unfitted-level-0: #fff5e6;\n  --sklearn-color-unfitted-level-1: #f6e4d2;\n  --sklearn-color-unfitted-level-2: #ffe0b3;\n  --sklearn-color-unfitted-level-3: chocolate;\n  /* Definition of color scheme for fitted estimators */\n  --sklearn-color-fitted-level-0: #f0f8ff;\n  --sklearn-color-fitted-level-1: #d4ebff;\n  --sklearn-color-fitted-level-2: #b3dbfd;\n  --sklearn-color-fitted-level-3: cornflowerblue;\n\n  /* Specific color for light theme */\n  --sklearn-color-text-on-default-background: var(--sg-text-color, var(--theme-code-foreground, var(--jp-content-font-color1, black)));\n  --sklearn-color-background: var(--sg-background-color, var(--theme-background, var(--jp-layout-color0, white)));\n  --sklearn-color-border-box: var(--sg-text-color, var(--theme-code-foreground, var(--jp-content-font-color1, black)));\n  --sklearn-color-icon: #696969;\n\n  @media (prefers-color-scheme: dark) {\n    /* Redefinition of color scheme for dark theme */\n    --sklearn-color-text-on-default-background: var(--sg-text-color, var(--theme-code-foreground, var(--jp-content-font-color1, white)));\n    --sklearn-color-background: var(--sg-background-color, var(--theme-background, var(--jp-layout-color0, #111)));\n    --sklearn-color-border-box: var(--sg-text-color, var(--theme-code-foreground, var(--jp-content-font-color1, white)));\n    --sklearn-color-icon: #878787;\n  }\n}\n\n#sk-container-id-5 {\n  color: var(--sklearn-color-text);\n}\n\n#sk-container-id-5 pre {\n  padding: 0;\n}\n\n#sk-container-id-5 input.sk-hidden--visually {\n  border: 0;\n  clip: rect(1px 1px 1px 1px);\n  clip: rect(1px, 1px, 1px, 1px);\n  height: 1px;\n  margin: -1px;\n  overflow: hidden;\n  padding: 0;\n  position: absolute;\n  width: 1px;\n}\n\n#sk-container-id-5 div.sk-dashed-wrapped {\n  border: 1px dashed var(--sklearn-color-line);\n  margin: 0 0.4em 0.5em 0.4em;\n  box-sizing: border-box;\n  padding-bottom: 0.4em;\n  background-color: var(--sklearn-color-background);\n}\n\n#sk-container-id-5 div.sk-container {\n  /* jupyter's `normalize.less` sets `[hidden] { display: none; }`\n     but bootstrap.min.css set `[hidden] { display: none !important; }`\n     so we also need the `!important` here to be able to override the\n     default hidden behavior on the sphinx rendered scikit-learn.org.\n     See: https://github.com/scikit-learn/scikit-learn/issues/21755 */\n  display: inline-block !important;\n  position: relative;\n}\n\n#sk-container-id-5 div.sk-text-repr-fallback {\n  display: none;\n}\n\ndiv.sk-parallel-item,\ndiv.sk-serial,\ndiv.sk-item {\n  /* draw centered vertical line to link estimators */\n  background-image: linear-gradient(var(--sklearn-color-text-on-default-background), var(--sklearn-color-text-on-default-background));\n  background-size: 2px 100%;\n  background-repeat: no-repeat;\n  background-position: center center;\n}\n\n/* Parallel-specific style estimator block */\n\n#sk-container-id-5 div.sk-parallel-item::after {\n  content: \"\";\n  width: 100%;\n  border-bottom: 2px solid var(--sklearn-color-text-on-default-background);\n  flex-grow: 1;\n}\n\n#sk-container-id-5 div.sk-parallel {\n  display: flex;\n  align-items: stretch;\n  justify-content: center;\n  background-color: var(--sklearn-color-background);\n  position: relative;\n}\n\n#sk-container-id-5 div.sk-parallel-item {\n  display: flex;\n  flex-direction: column;\n}\n\n#sk-container-id-5 div.sk-parallel-item:first-child::after {\n  align-self: flex-end;\n  width: 50%;\n}\n\n#sk-container-id-5 div.sk-parallel-item:last-child::after {\n  align-self: flex-start;\n  width: 50%;\n}\n\n#sk-container-id-5 div.sk-parallel-item:only-child::after {\n  width: 0;\n}\n\n/* Serial-specific style estimator block */\n\n#sk-container-id-5 div.sk-serial {\n  display: flex;\n  flex-direction: column;\n  align-items: center;\n  background-color: var(--sklearn-color-background);\n  padding-right: 1em;\n  padding-left: 1em;\n}\n\n\n/* Toggleable style: style used for estimator/Pipeline/ColumnTransformer box that is\nclickable and can be expanded/collapsed.\n- Pipeline and ColumnTransformer use this feature and define the default style\n- Estimators will overwrite some part of the style using the `sk-estimator` class\n*/\n\n/* Pipeline and ColumnTransformer style (default) */\n\n#sk-container-id-5 div.sk-toggleable {\n  /* Default theme specific background. It is overwritten whether we have a\n  specific estimator or a Pipeline/ColumnTransformer */\n  background-color: var(--sklearn-color-background);\n}\n\n/* Toggleable label */\n#sk-container-id-5 label.sk-toggleable__label {\n  cursor: pointer;\n  display: block;\n  width: 100%;\n  margin-bottom: 0;\n  padding: 0.5em;\n  box-sizing: border-box;\n  text-align: center;\n}\n\n#sk-container-id-5 label.sk-toggleable__label-arrow:before {\n  /* Arrow on the left of the label */\n  content: \"▸\";\n  float: left;\n  margin-right: 0.25em;\n  color: var(--sklearn-color-icon);\n}\n\n#sk-container-id-5 label.sk-toggleable__label-arrow:hover:before {\n  color: var(--sklearn-color-text);\n}\n\n/* Toggleable content - dropdown */\n\n#sk-container-id-5 div.sk-toggleable__content {\n  max-height: 0;\n  max-width: 0;\n  overflow: hidden;\n  text-align: left;\n  /* unfitted */\n  background-color: var(--sklearn-color-unfitted-level-0);\n}\n\n#sk-container-id-5 div.sk-toggleable__content.fitted {\n  /* fitted */\n  background-color: var(--sklearn-color-fitted-level-0);\n}\n\n#sk-container-id-5 div.sk-toggleable__content pre {\n  margin: 0.2em;\n  border-radius: 0.25em;\n  color: var(--sklearn-color-text);\n  /* unfitted */\n  background-color: var(--sklearn-color-unfitted-level-0);\n}\n\n#sk-container-id-5 div.sk-toggleable__content.fitted pre {\n  /* unfitted */\n  background-color: var(--sklearn-color-fitted-level-0);\n}\n\n#sk-container-id-5 input.sk-toggleable__control:checked~div.sk-toggleable__content {\n  /* Expand drop-down */\n  max-height: 200px;\n  max-width: 100%;\n  overflow: auto;\n}\n\n#sk-container-id-5 input.sk-toggleable__control:checked~label.sk-toggleable__label-arrow:before {\n  content: \"▾\";\n}\n\n/* Pipeline/ColumnTransformer-specific style */\n\n#sk-container-id-5 div.sk-label input.sk-toggleable__control:checked~label.sk-toggleable__label {\n  color: var(--sklearn-color-text);\n  background-color: var(--sklearn-color-unfitted-level-2);\n}\n\n#sk-container-id-5 div.sk-label.fitted input.sk-toggleable__control:checked~label.sk-toggleable__label {\n  background-color: var(--sklearn-color-fitted-level-2);\n}\n\n/* Estimator-specific style */\n\n/* Colorize estimator box */\n#sk-container-id-5 div.sk-estimator input.sk-toggleable__control:checked~label.sk-toggleable__label {\n  /* unfitted */\n  background-color: var(--sklearn-color-unfitted-level-2);\n}\n\n#sk-container-id-5 div.sk-estimator.fitted input.sk-toggleable__control:checked~label.sk-toggleable__label {\n  /* fitted */\n  background-color: var(--sklearn-color-fitted-level-2);\n}\n\n#sk-container-id-5 div.sk-label label.sk-toggleable__label,\n#sk-container-id-5 div.sk-label label {\n  /* The background is the default theme color */\n  color: var(--sklearn-color-text-on-default-background);\n}\n\n/* On hover, darken the color of the background */\n#sk-container-id-5 div.sk-label:hover label.sk-toggleable__label {\n  color: var(--sklearn-color-text);\n  background-color: var(--sklearn-color-unfitted-level-2);\n}\n\n/* Label box, darken color on hover, fitted */\n#sk-container-id-5 div.sk-label.fitted:hover label.sk-toggleable__label.fitted {\n  color: var(--sklearn-color-text);\n  background-color: var(--sklearn-color-fitted-level-2);\n}\n\n/* Estimator label */\n\n#sk-container-id-5 div.sk-label label {\n  font-family: monospace;\n  font-weight: bold;\n  display: inline-block;\n  line-height: 1.2em;\n}\n\n#sk-container-id-5 div.sk-label-container {\n  text-align: center;\n}\n\n/* Estimator-specific */\n#sk-container-id-5 div.sk-estimator {\n  font-family: monospace;\n  border: 1px dotted var(--sklearn-color-border-box);\n  border-radius: 0.25em;\n  box-sizing: border-box;\n  margin-bottom: 0.5em;\n  /* unfitted */\n  background-color: var(--sklearn-color-unfitted-level-0);\n}\n\n#sk-container-id-5 div.sk-estimator.fitted {\n  /* fitted */\n  background-color: var(--sklearn-color-fitted-level-0);\n}\n\n/* on hover */\n#sk-container-id-5 div.sk-estimator:hover {\n  /* unfitted */\n  background-color: var(--sklearn-color-unfitted-level-2);\n}\n\n#sk-container-id-5 div.sk-estimator.fitted:hover {\n  /* fitted */\n  background-color: var(--sklearn-color-fitted-level-2);\n}\n\n/* Specification for estimator info (e.g. \"i\" and \"?\") */\n\n/* Common style for \"i\" and \"?\" */\n\n.sk-estimator-doc-link,\na:link.sk-estimator-doc-link,\na:visited.sk-estimator-doc-link {\n  float: right;\n  font-size: smaller;\n  line-height: 1em;\n  font-family: monospace;\n  background-color: var(--sklearn-color-background);\n  border-radius: 1em;\n  height: 1em;\n  width: 1em;\n  text-decoration: none !important;\n  margin-left: 1ex;\n  /* unfitted */\n  border: var(--sklearn-color-unfitted-level-1) 1pt solid;\n  color: var(--sklearn-color-unfitted-level-1);\n}\n\n.sk-estimator-doc-link.fitted,\na:link.sk-estimator-doc-link.fitted,\na:visited.sk-estimator-doc-link.fitted {\n  /* fitted */\n  border: var(--sklearn-color-fitted-level-1) 1pt solid;\n  color: var(--sklearn-color-fitted-level-1);\n}\n\n/* On hover */\ndiv.sk-estimator:hover .sk-estimator-doc-link:hover,\n.sk-estimator-doc-link:hover,\ndiv.sk-label-container:hover .sk-estimator-doc-link:hover,\n.sk-estimator-doc-link:hover {\n  /* unfitted */\n  background-color: var(--sklearn-color-unfitted-level-3);\n  color: var(--sklearn-color-background);\n  text-decoration: none;\n}\n\ndiv.sk-estimator.fitted:hover .sk-estimator-doc-link.fitted:hover,\n.sk-estimator-doc-link.fitted:hover,\ndiv.sk-label-container:hover .sk-estimator-doc-link.fitted:hover,\n.sk-estimator-doc-link.fitted:hover {\n  /* fitted */\n  background-color: var(--sklearn-color-fitted-level-3);\n  color: var(--sklearn-color-background);\n  text-decoration: none;\n}\n\n/* Span, style for the box shown on hovering the info icon */\n.sk-estimator-doc-link span {\n  display: none;\n  z-index: 9999;\n  position: relative;\n  font-weight: normal;\n  right: .2ex;\n  padding: .5ex;\n  margin: .5ex;\n  width: min-content;\n  min-width: 20ex;\n  max-width: 50ex;\n  color: var(--sklearn-color-text);\n  box-shadow: 2pt 2pt 4pt #999;\n  /* unfitted */\n  background: var(--sklearn-color-unfitted-level-0);\n  border: .5pt solid var(--sklearn-color-unfitted-level-3);\n}\n\n.sk-estimator-doc-link.fitted span {\n  /* fitted */\n  background: var(--sklearn-color-fitted-level-0);\n  border: var(--sklearn-color-fitted-level-3);\n}\n\n.sk-estimator-doc-link:hover span {\n  display: block;\n}\n\n/* \"?\"-specific style due to the `<a>` HTML tag */\n\n#sk-container-id-5 a.estimator_doc_link {\n  float: right;\n  font-size: 1rem;\n  line-height: 1em;\n  font-family: monospace;\n  background-color: var(--sklearn-color-background);\n  border-radius: 1rem;\n  height: 1rem;\n  width: 1rem;\n  text-decoration: none;\n  /* unfitted */\n  color: var(--sklearn-color-unfitted-level-1);\n  border: var(--sklearn-color-unfitted-level-1) 1pt solid;\n}\n\n#sk-container-id-5 a.estimator_doc_link.fitted {\n  /* fitted */\n  border: var(--sklearn-color-fitted-level-1) 1pt solid;\n  color: var(--sklearn-color-fitted-level-1);\n}\n\n/* On hover */\n#sk-container-id-5 a.estimator_doc_link:hover {\n  /* unfitted */\n  background-color: var(--sklearn-color-unfitted-level-3);\n  color: var(--sklearn-color-background);\n  text-decoration: none;\n}\n\n#sk-container-id-5 a.estimator_doc_link.fitted:hover {\n  /* fitted */\n  background-color: var(--sklearn-color-fitted-level-3);\n}\n</style><div id=\"sk-container-id-5\" class=\"sk-top-container\"><div class=\"sk-text-repr-fallback\"><pre>XGBClassifier(base_score=None, booster=None, callbacks=None,\n              colsample_bylevel=None, colsample_bynode=None,\n              colsample_bytree=1.0, device=None, early_stopping_rounds=None,\n              enable_categorical=False, eval_metric=None, feature_types=None,\n              gamma=1, grow_policy=None, importance_type=None,\n              interaction_constraints=None, learning_rate=0.1, max_bin=None,\n              max_cat_threshold=None, max_cat_to_onehot=None,\n              max_delta_step=None, max_depth=3, max_leaves=None,\n              min_child_weight=5, missing=nan, monotone_constraints=None,\n              multi_strategy=None, n_estimators=627, n_jobs=None, num_class=5,\n              num_parallel_tree=None, ...)</pre><b>In a Jupyter environment, please rerun this cell to show the HTML representation or trust the notebook. <br />On GitHub, the HTML representation is unable to render, please try loading this page with nbviewer.org.</b></div><div class=\"sk-container\" hidden><div class=\"sk-item\"><div class=\"sk-estimator fitted sk-toggleable\"><input class=\"sk-toggleable__control sk-hidden--visually\" id=\"sk-estimator-id-5\" type=\"checkbox\" checked><label for=\"sk-estimator-id-5\" class=\"sk-toggleable__label fitted sk-toggleable__label-arrow fitted\">&nbsp;XGBClassifier<span class=\"sk-estimator-doc-link fitted\">i<span>Fitted</span></span></label><div class=\"sk-toggleable__content fitted\"><pre>XGBClassifier(base_score=None, booster=None, callbacks=None,\n              colsample_bylevel=None, colsample_bynode=None,\n              colsample_bytree=1.0, device=None, early_stopping_rounds=None,\n              enable_categorical=False, eval_metric=None, feature_types=None,\n              gamma=1, grow_policy=None, importance_type=None,\n              interaction_constraints=None, learning_rate=0.1, max_bin=None,\n              max_cat_threshold=None, max_cat_to_onehot=None,\n              max_delta_step=None, max_depth=3, max_leaves=None,\n              min_child_weight=5, missing=nan, monotone_constraints=None,\n              multi_strategy=None, n_estimators=627, n_jobs=None, num_class=5,\n              num_parallel_tree=None, ...)</pre></div> </div></div></div></div>"
     },
     "execution_count": 43,
     "metadata": {},
     "output_type": "execute_result"
    }
   ],
   "source": [
    "model = joblib.load('../new_models/xgboost.pkl')\n",
    "model"
   ],
   "metadata": {
    "collapsed": false,
    "ExecuteTime": {
     "end_time": "2024-02-05T22:44:44.987028Z",
     "start_time": "2024-02-05T22:44:44.945442Z"
    }
   },
   "id": "ec685f8f208e0c26"
  },
  {
   "cell_type": "markdown",
   "source": [
    "Shaply"
   ],
   "metadata": {
    "collapsed": false
   },
   "id": "cf763ebe721b3a29"
  },
  {
   "cell_type": "code",
   "outputs": [],
   "source": [
    "import shap"
   ],
   "metadata": {
    "collapsed": false,
    "ExecuteTime": {
     "end_time": "2024-02-05T22:44:47.552594Z",
     "start_time": "2024-02-05T22:44:47.548335Z"
    }
   },
   "id": "9bd93b4a84eb8758",
   "execution_count": 44
  },
  {
   "cell_type": "code",
   "execution_count": 45,
   "outputs": [
    {
     "name": "stderr",
     "output_type": "stream",
     "text": [
      "[23:44:49] WARNING: /Users/runner/work/xgboost/xgboost/src/c_api/c_api.cc:1240: Saving into deprecated binary model format, please consider using `json` or `ubj`. Model format will default to JSON in XGBoost 2.2 if not specified.\n"
     ]
    }
   ],
   "source": [
    "feature_names = df.columns.to_list()\n",
    "explainer = shap.TreeExplainer(model, feature_names=feature_names)\n",
    "explanation = explainer(df)"
   ],
   "metadata": {
    "collapsed": false,
    "ExecuteTime": {
     "end_time": "2024-02-05T22:44:50.453298Z",
     "start_time": "2024-02-05T22:44:49.262021Z"
    }
   },
   "id": "ec1f18a4d66305e4"
  },
  {
   "cell_type": "code",
   "outputs": [
    {
     "data": {
      "text/plain": "['../shapley-values/saved_values/xgboost-shapley_values.json']"
     },
     "execution_count": 46,
     "metadata": {},
     "output_type": "execute_result"
    }
   ],
   "source": [
    "file_path = f\"../shapley-values/saved_values/xgboost-shapley_values.json\"\n",
    "joblib.dump(explanation, file_path)"
   ],
   "metadata": {
    "collapsed": false,
    "ExecuteTime": {
     "end_time": "2024-02-05T22:44:54.194914Z",
     "start_time": "2024-02-05T22:44:54.128252Z"
    }
   },
   "id": "b12a0eeef5f72ee2",
   "execution_count": 46
  }
 ],
 "metadata": {
  "kernelspec": {
   "display_name": "Python 3",
   "language": "python",
   "name": "python3"
  },
  "language_info": {
   "codemirror_mode": {
    "name": "ipython",
    "version": 2
   },
   "file_extension": ".py",
   "mimetype": "text/x-python",
   "name": "python",
   "nbconvert_exporter": "python",
   "pygments_lexer": "ipython2",
   "version": "2.7.6"
  }
 },
 "nbformat": 4,
 "nbformat_minor": 5
}
