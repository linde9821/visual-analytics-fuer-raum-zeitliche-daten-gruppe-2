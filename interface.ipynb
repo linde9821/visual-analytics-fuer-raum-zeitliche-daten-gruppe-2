{
 "cells": [
  {
   "cell_type": "code",
   "execution_count": 36,
   "metadata": {
    "ExecuteTime": {
     "end_time": "2023-12-19T12:37:49.427718Z",
     "start_time": "2023-12-19T12:37:49.394956Z"
    }
   },
   "outputs": [],
   "source": [
    "import joblib\n",
    "import pandas as pd\n",
    "import plotly.graph_objects as go\n",
    "from dash import Dash, dcc, html, Input, Output, State, callback\n",
    "import dash\n",
    "import shap\n",
    "import matplotlib.pyplot as plt\n",
    "import base64\n",
    "import io\n",
    "import xgboost as xgb\n",
    "from sklearn.model_selection import train_test_split\n",
    "from sklearn.preprocessing import LabelEncoder\n",
    "from sklearn.preprocessing import StandardScaler\n",
    "from sklearn.ensemble import RandomForestClassifier\n",
    "from sklearn.linear_model import LogisticRegression"
   ]
  },
  {
   "cell_type": "markdown",
   "metadata": {},
   "source": [
    "# Loading Models"
   ]
  },
  {
   "cell_type": "code",
   "execution_count": 37,
   "metadata": {
    "ExecuteTime": {
     "end_time": "2023-12-19T12:37:49.573738Z",
     "start_time": "2023-12-19T12:37:49.423584Z"
    },
    "collapsed": false
   },
   "outputs": [
    {
     "name": "stderr",
     "output_type": "stream",
     "text": [
      "/usr/local/lib/python3.11/site-packages/sklearn/base.py:348: InconsistentVersionWarning:\n",
      "\n",
      "Trying to unpickle estimator DecisionTreeClassifier from version 1.3.0 when using version 1.3.2. This might lead to breaking code or invalid results. Use at your own risk. For more info please refer to:\n",
      "https://scikit-learn.org/stable/model_persistence.html#security-maintainability-limitations\n",
      "\n",
      "/usr/local/lib/python3.11/site-packages/sklearn/base.py:348: InconsistentVersionWarning:\n",
      "\n",
      "Trying to unpickle estimator RandomForestClassifier from version 1.3.0 when using version 1.3.2. This might lead to breaking code or invalid results. Use at your own risk. For more info please refer to:\n",
      "https://scikit-learn.org/stable/model_persistence.html#security-maintainability-limitations\n",
      "\n"
     ]
    }
   ],
   "source": [
    "xgboost = joblib.load('./models/best_model_xgboost.pkl')\n",
    "random_forest = joblib.load('./models/best_model_random_forest.pkl')\n",
    "gnb = joblib.load('./models/gnb.pkl')"
   ]
  },
  {
   "cell_type": "markdown",
   "metadata": {},
   "source": [
    "# Sankey Diagramm vorbereiten"
   ]
  },
  {
   "cell_type": "markdown",
   "metadata": {},
   "source": [
    "## Preprocessing"
   ]
  },
  {
   "cell_type": "code",
   "execution_count": 38,
   "metadata": {
    "ExecuteTime": {
     "end_time": "2023-12-19T12:37:53.946553Z",
     "start_time": "2023-12-19T12:37:49.570910Z"
    }
   },
   "outputs": [],
   "source": [
    "tat = pd.read_csv(\"./data/lucas_organic_carbon_training_and_test_data_NEW.csv\")\n",
    "targets = pd.read_csv(\"./data/lucas_organic_carbon_target.csv\")"
   ]
  },
  {
   "cell_type": "code",
   "execution_count": 39,
   "metadata": {
    "ExecuteTime": {
     "end_time": "2023-12-19T12:37:54.187749Z",
     "start_time": "2023-12-19T12:37:53.954364Z"
    }
   },
   "outputs": [],
   "source": [
    "scaler = StandardScaler()\n",
    "scaled_data = scaler.fit_transform(tat)\n",
    "scaled_df = pd.DataFrame(scaled_data, columns=tat.columns)"
   ]
  },
  {
   "cell_type": "code",
   "execution_count": 40,
   "metadata": {
    "ExecuteTime": {
     "end_time": "2023-12-19T12:37:54.726619Z",
     "start_time": "2023-12-19T12:37:54.190001Z"
    }
   },
   "outputs": [
    {
     "name": "stderr",
     "output_type": "stream",
     "text": [
      "[Parallel(n_jobs=1)]: Done  40 tasks      | elapsed:    0.0s\n",
      "[Parallel(n_jobs=1)]: Done 161 tasks      | elapsed:    0.2s\n",
      "[Parallel(n_jobs=1)]: Done 364 tasks      | elapsed:    0.3s\n"
     ]
    }
   ],
   "source": [
    "tat_train, tat_test, targets_train, targets_test = train_test_split(scaled_data, targets, test_size=0.2,\n",
    "                                                                    random_state=42)\n",
    "\n",
    "y_pred_xgboost = xgboost.predict(tat_test)\n",
    "y_pred_randomforest = random_forest.predict(tat_test)\n",
    "y_pred_gnb = gnb.predict(tat_test)"
   ]
  },
  {
   "cell_type": "code",
   "execution_count": 41,
   "metadata": {
    "ExecuteTime": {
     "end_time": "2023-12-19T12:37:54.731060Z",
     "start_time": "2023-12-19T12:37:54.727236Z"
    }
   },
   "outputs": [],
   "source": [
    "label_encoder = LabelEncoder()"
   ]
  },
  {
   "cell_type": "code",
   "execution_count": 42,
   "metadata": {
    "ExecuteTime": {
     "end_time": "2023-12-19T12:37:54.798206Z",
     "start_time": "2023-12-19T12:37:54.730127Z"
    },
    "collapsed": false
   },
   "outputs": [],
   "source": [
    "y_pred_randomforest = label_encoder.fit_transform(y_pred_randomforest)\n",
    "y_pred_gnb = label_encoder.fit_transform(y_pred_gnb)"
   ]
  },
  {
   "cell_type": "markdown",
   "metadata": {
    "collapsed": false
   },
   "source": [
    "## Create ground Truth column"
   ]
  },
  {
   "cell_type": "code",
   "execution_count": 43,
   "metadata": {
    "ExecuteTime": {
     "end_time": "2023-12-19T12:37:54.798617Z",
     "start_time": "2023-12-19T12:37:54.790094Z"
    },
    "collapsed": false
   },
   "outputs": [
    {
     "name": "stderr",
     "output_type": "stream",
     "text": [
      "/usr/local/lib/python3.11/site-packages/sklearn/preprocessing/_label.py:114: DataConversionWarning:\n",
      "\n",
      "A column-vector y was passed when a 1d array was expected. Please change the shape of y to (n_samples, ), for example using ravel().\n",
      "\n"
     ]
    }
   ],
   "source": [
    "ground_truth = label_encoder.fit_transform(targets_test.to_numpy())"
   ]
  },
  {
   "cell_type": "markdown",
   "metadata": {
    "collapsed": false
   },
   "source": [
    "## Create single dataframe containing model predictions and ground truth\n",
    "This is the data basis for the sankey diagram"
   ]
  },
  {
   "cell_type": "code",
   "execution_count": 44,
   "metadata": {
    "ExecuteTime": {
     "end_time": "2023-12-19T12:37:54.803430Z",
     "start_time": "2023-12-19T12:37:54.790628Z"
    },
    "collapsed": false
   },
   "outputs": [
    {
     "data": {
      "text/html": [
       "<div>\n",
       "<style scoped>\n",
       "    .dataframe tbody tr th:only-of-type {\n",
       "        vertical-align: middle;\n",
       "    }\n",
       "\n",
       "    .dataframe tbody tr th {\n",
       "        vertical-align: top;\n",
       "    }\n",
       "\n",
       "    .dataframe thead th {\n",
       "        text-align: right;\n",
       "    }\n",
       "</style>\n",
       "<table border=\"1\" class=\"dataframe\">\n",
       "  <thead>\n",
       "    <tr style=\"text-align: right;\">\n",
       "      <th></th>\n",
       "      <th>XGBoost</th>\n",
       "      <th>Random Forest</th>\n",
       "      <th>Gaussian Naive Bias</th>\n",
       "      <th>Ground Truth</th>\n",
       "    </tr>\n",
       "  </thead>\n",
       "  <tbody>\n",
       "    <tr>\n",
       "      <th>0</th>\n",
       "      <td>4</td>\n",
       "      <td>4</td>\n",
       "      <td>4</td>\n",
       "      <td>4</td>\n",
       "    </tr>\n",
       "    <tr>\n",
       "      <th>1</th>\n",
       "      <td>2</td>\n",
       "      <td>2</td>\n",
       "      <td>0</td>\n",
       "      <td>0</td>\n",
       "    </tr>\n",
       "    <tr>\n",
       "      <th>2</th>\n",
       "      <td>2</td>\n",
       "      <td>2</td>\n",
       "      <td>2</td>\n",
       "      <td>1</td>\n",
       "    </tr>\n",
       "    <tr>\n",
       "      <th>3</th>\n",
       "      <td>4</td>\n",
       "      <td>4</td>\n",
       "      <td>2</td>\n",
       "      <td>1</td>\n",
       "    </tr>\n",
       "    <tr>\n",
       "      <th>4</th>\n",
       "      <td>3</td>\n",
       "      <td>3</td>\n",
       "      <td>3</td>\n",
       "      <td>3</td>\n",
       "    </tr>\n",
       "    <tr>\n",
       "      <th>...</th>\n",
       "      <td>...</td>\n",
       "      <td>...</td>\n",
       "      <td>...</td>\n",
       "      <td>...</td>\n",
       "    </tr>\n",
       "    <tr>\n",
       "      <th>1974</th>\n",
       "      <td>4</td>\n",
       "      <td>4</td>\n",
       "      <td>4</td>\n",
       "      <td>4</td>\n",
       "    </tr>\n",
       "    <tr>\n",
       "      <th>1975</th>\n",
       "      <td>4</td>\n",
       "      <td>4</td>\n",
       "      <td>1</td>\n",
       "      <td>4</td>\n",
       "    </tr>\n",
       "    <tr>\n",
       "      <th>1976</th>\n",
       "      <td>4</td>\n",
       "      <td>4</td>\n",
       "      <td>3</td>\n",
       "      <td>4</td>\n",
       "    </tr>\n",
       "    <tr>\n",
       "      <th>1977</th>\n",
       "      <td>4</td>\n",
       "      <td>4</td>\n",
       "      <td>4</td>\n",
       "      <td>4</td>\n",
       "    </tr>\n",
       "    <tr>\n",
       "      <th>1978</th>\n",
       "      <td>1</td>\n",
       "      <td>1</td>\n",
       "      <td>1</td>\n",
       "      <td>4</td>\n",
       "    </tr>\n",
       "  </tbody>\n",
       "</table>\n",
       "<p>1979 rows × 4 columns</p>\n",
       "</div>"
      ],
      "text/plain": [
       "      XGBoost  Random Forest  Gaussian Naive Bias  Ground Truth\n",
       "0           4              4                    4             4\n",
       "1           2              2                    0             0\n",
       "2           2              2                    2             1\n",
       "3           4              4                    2             1\n",
       "4           3              3                    3             3\n",
       "...       ...            ...                  ...           ...\n",
       "1974        4              4                    4             4\n",
       "1975        4              4                    1             4\n",
       "1976        4              4                    3             4\n",
       "1977        4              4                    4             4\n",
       "1978        1              1                    1             4\n",
       "\n",
       "[1979 rows x 4 columns]"
      ]
     },
     "execution_count": 44,
     "metadata": {},
     "output_type": "execute_result"
    }
   ],
   "source": [
    "xg_predictions = pd.DataFrame(y_pred_xgboost, columns=['XGBoost'])\n",
    "random_forest_predictions = pd.DataFrame(y_pred_randomforest, columns=['Random Forest'])\n",
    "gnb_predictions = pd.DataFrame(y_pred_gnb, columns=['Gaussian Naive Bias'])\n",
    "ground_truth = pd.DataFrame(ground_truth, columns=['Ground Truth'])\n",
    "df = pd.concat([xg_predictions, random_forest_predictions, gnb_predictions, ground_truth], axis=1)\n",
    "df"
   ]
  },
  {
   "cell_type": "markdown",
   "metadata": {},
   "source": [
    "## Farben erstellen"
   ]
  },
  {
   "cell_type": "code",
   "execution_count": 45,
   "metadata": {
    "ExecuteTime": {
     "end_time": "2023-12-19T12:37:54.804164Z",
     "start_time": "2023-12-19T12:37:54.795080Z"
    }
   },
   "outputs": [],
   "source": [
    "ncolor0 = 'rgba(230, 159, 0, 1)'\n",
    "ncolor1 = 'rgba(0, 158, 115, 1)'\n",
    "ncolor2 = 'rgba(0, 114, 178, 1)'\n",
    "ncolor3 = 'rgba(213, 94, 0, 1)'\n",
    "ncolor4 = 'rgba(204, 121, 167, 1)'\n",
    "\n",
    "color_node = []\n",
    "\n",
    "for n in range(4):\n",
    "    color_node.append(ncolor0)\n",
    "    color_node.append(ncolor1)\n",
    "    color_node.append(ncolor2)\n",
    "    color_node.append(ncolor3)\n",
    "    color_node.append(ncolor4)\n",
    "\n",
    "lcolor0 = 'rgba(230, 159, 0, 0.5)'\n",
    "lcolor1 = 'rgba(0, 158, 115, 0.5)'\n",
    "lcolor2 = 'rgba(0, 114, 178, 0.5)'\n",
    "lcolor3 = 'rgba(213, 94, 0, 0.5)'\n",
    "lcolor4 = 'rgba(204, 121, 167, 0.5)'\n",
    "\n",
    "color_link = []\n",
    "\n",
    "for n in range(16):\n",
    "    color_link.append(lcolor0)\n",
    "    color_link.append(lcolor1)\n",
    "    color_link.append(lcolor2)\n",
    "    color_link.append(lcolor3)\n",
    "    color_link.append(lcolor4)"
   ]
  },
  {
   "cell_type": "markdown",
   "metadata": {},
   "source": [
    "## Beschriftungen"
   ]
  },
  {
   "cell_type": "code",
   "execution_count": 46,
   "metadata": {
    "ExecuteTime": {
     "end_time": "2023-12-19T12:37:54.805039Z",
     "start_time": "2023-12-19T12:37:54.799513Z"
    },
    "collapsed": false
   },
   "outputs": [],
   "source": [
    "def integer_target_to_string_target(value):\n",
    "    mapping_dict = {\n",
    "        0: 'very_high',\n",
    "        1: 'high',\n",
    "        2: 'moderate',\n",
    "        3: 'low',\n",
    "        4: 'very_low'\n",
    "    }\n",
    "\n",
    "    return mapping_dict.get(value, 'Unknown')\n",
    "\n",
    "\n",
    "def model_name_to_key_part_prefix(model_name):\n",
    "    match model_name:\n",
    "        case 'XGBoost':\n",
    "            return 'x'\n",
    "        case 'Gaussian Naive Bias':\n",
    "            return 'g'\n",
    "        case 'Random Forest':\n",
    "            return 'r'\n",
    "        case 'Ground Truth':\n",
    "            return 'gt'\n",
    "        case _:\n",
    "            raise ValueError(f'Unknown model name: {model_name}')"
   ]
  },
  {
   "cell_type": "markdown",
   "metadata": {},
   "source": [
    "## Funktion zum Plotten des Diagramms"
   ]
  },
  {
   "cell_type": "code",
   "execution_count": 47,
   "metadata": {
    "ExecuteTime": {
     "end_time": "2023-12-19T12:37:54.810476Z",
     "start_time": "2023-12-19T12:37:54.805189Z"
    },
    "collapsed": false
   },
   "outputs": [],
   "source": [
    "def build_sankey(df, model_name_list):\n",
    "    __NUMBER_OF_TARGETS = 5\n",
    "    flow_numbers_by_model_indices = {}\n",
    "    model_names_and_prefixes = list(\n",
    "        map(lambda model_name: (model_name, model_name_to_key_part_prefix(model_name)), model_name_list)\n",
    "    )\n",
    "\n",
    "    # build keys for each model with the next (e.g. if we have 3 models A, B, C we want to see the flow from A to B and from B to C\n",
    "    for i, current in enumerate(model_names_and_prefixes[:-1]):\n",
    "        (current_model, current_prefix) = current\n",
    "        (next_model, next_prefix) = model_names_and_prefixes[i + 1]\n",
    "        \n",
    "        # build keys from model a to b for each combination of values 0 to 4\n",
    "        for a in range(__NUMBER_OF_TARGETS):\n",
    "            for b in range(__NUMBER_OF_TARGETS):\n",
    "                key_part_1 = f\"{current_prefix}{a}\"\n",
    "                key_part_2 = f\"{next_prefix}{b}\"\n",
    "                key = (key_part_1, key_part_2)\n",
    "                \n",
    "                flow_numbers_by_model_indices[key] = 0\n",
    "\n",
    "        # count up amount of flow from the dataframe\n",
    "        for index, row in df.iterrows():\n",
    "            key_part_1 = f\"{current_prefix}{row[current_model]}\"\n",
    "            key_part_2 = f\"{next_prefix}{row[next_model]}\"\n",
    "            key = (key_part_1, key_part_2)\n",
    "\n",
    "            flow_numbers_by_model_indices[key] = flow_numbers_by_model_indices[key] + 1\n",
    "\n",
    "    # build labels and flow labels\n",
    "    suffix_labels = []\n",
    "    model_name_labels = []\n",
    "    for (model_name, prefix) in model_names_and_prefixes:\n",
    "        for a in range(__NUMBER_OF_TARGETS):\n",
    "            suffix_labels.append(f\"{prefix}{a}\")\n",
    "            model_name_labels.append(f\"{model_name} {integer_target_to_string_target(a)}\")\n",
    "\n",
    "    sources = []\n",
    "    targets = []\n",
    "    flow_values = []\n",
    "\n",
    "    for key in flow_numbers_by_model_indices:\n",
    "        (source, target) = key\n",
    "        source_index = suffix_labels.index(source)\n",
    "        target_index = suffix_labels.index(target)\n",
    "        value = flow_numbers_by_model_indices[key]\n",
    "        sources.append(source_index)\n",
    "        targets.append(target_index)\n",
    "        flow_values.append(value)\n",
    "\n",
    "    fig = go.Figure(data=[go.Sankey(\n",
    "        node=dict(\n",
    "            pad=15,\n",
    "            thickness=20,\n",
    "            line=dict(color=\"black\", width=0.5),\n",
    "            label=model_name_labels,\n",
    "            color=color_node\n",
    "        ),\n",
    "        link=dict(\n",
    "            source=sources,\n",
    "            target=targets,\n",
    "            value=flow_values,\n",
    "            color=color_link\n",
    "        ))])\n",
    "\n",
    "    return fig"
   ]
  },
  {
   "cell_type": "markdown",
   "metadata": {},
   "source": [
    "# Shapley"
   ]
  },
  {
   "cell_type": "code",
   "execution_count": 48,
   "metadata": {},
   "outputs": [],
   "source": [
    "mapping_dict = {\n",
    "    'XGBoost': joblib.load(\"./shapley-values/saved_values/xgboost-shapley_values\"),\n",
    "    'Random Forest': joblib.load(\"./shapley-values/saved_values/randomforest-shapley_values\"),\n",
    "    'Logistic Regression': joblib.load(\"./shapley-values/saved_values/logreg_shapley_values\")\n",
    "}\n",
    "\n",
    "def model_name_to_explanation(value):\n",
    "    return mapping_dict.get(value)"
   ]
  },
  {
   "cell_type": "code",
   "execution_count": 49,
   "metadata": {},
   "outputs": [],
   "source": [
    "def string_target_to_integer_target(value):\n",
    "    mapping_dict = {\n",
    "        'very_high' :0,\n",
    "        'high' :1,\n",
    "        'moderate' :2,\n",
    "        'low' :3,\n",
    "        'very_low' :4\n",
    "    }\n",
    "\n",
    "    return mapping_dict.get(value)"
   ]
  },
  {
   "cell_type": "code",
   "execution_count": 50,
   "metadata": {},
   "outputs": [],
   "source": [
    "tat_fnames = tat.columns.to_list()\n",
    "\n",
    "def find_indexes(fnames, start, end):\n",
    "    try:\n",
    "        start_index = fnames.index(start)\n",
    "        end_index = fnames.index(end)\n",
    "        return start_index, end_index\n",
    "    except ValueError as e:\n",
    "        # Handle the case when either start or end value is not found in the list\n",
    "        print(f\"Error: {e}\")\n",
    "        return None, None"
   ]
  },
  {
   "cell_type": "markdown",
   "metadata": {},
   "source": [
    "# Retraining"
   ]
  },
  {
   "cell_type": "code",
   "execution_count": 51,
   "metadata": {},
   "outputs": [],
   "source": [
    "def get_data(tat, start, end):\n",
    "    numeric_columns = pd.to_numeric(tat.columns, errors='coerce')\n",
    "\n",
    "    # Filter columns based on the interval\n",
    "    filtered_columns = tat.columns[(numeric_columns >= start) & (numeric_columns <= end)]\n",
    "\n",
    "    # Create a new DataFrame with only the filtered columns\n",
    "    tat = tat[filtered_columns]\n",
    "\n",
    "    tat_train, tat_test, targets_train, targets_test = train_test_split(tat, targets, test_size=0.33, random_state=42)\n",
    "\n",
    "    targets_train = targets_train.values.ravel()\n",
    "    targets_test = targets_test.values.ravel()\n",
    "\n",
    "    feature_names = tat.columns.to_list()\n",
    "    return tat_train, tat_test, targets_train, targets_test, feature_names"
   ]
  },
  {
   "cell_type": "code",
   "execution_count": 53,
   "metadata": {},
   "outputs": [
    {
     "name": "stderr",
     "output_type": "stream",
     "text": [
      "/usr/local/lib/python3.11/site-packages/sklearn/base.py:348: InconsistentVersionWarning:\n",
      "\n",
      "Trying to unpickle estimator DecisionTreeClassifier from version 1.3.0 when using version 1.3.2. This might lead to breaking code or invalid results. Use at your own risk. For more info please refer to:\n",
      "https://scikit-learn.org/stable/model_persistence.html#security-maintainability-limitations\n",
      "\n",
      "/usr/local/lib/python3.11/site-packages/sklearn/base.py:348: InconsistentVersionWarning:\n",
      "\n",
      "Trying to unpickle estimator RandomForestClassifier from version 1.3.0 when using version 1.3.2. This might lead to breaking code or invalid results. Use at your own risk. For more info please refer to:\n",
      "https://scikit-learn.org/stable/model_persistence.html#security-maintainability-limitations\n",
      "\n"
     ]
    }
   ],
   "source": [
    "model_list_2 = [\n",
    "    ('XGBoost', joblib.load('./models/best_model_xgboost.pkl'), 'xgboost', joblib.load('./shapley-values/saved_values/xgboost-shapley_values')),\n",
    "    ('Random Forest', joblib.load('./models/best_model_random_forest.pkl'), 'random_forest', joblib.load('./shapley-values/saved_values/randomforest-shapley_values')),\n",
    "    ('Logistic Regression', joblib.load('./models/logreg.pkl'), 'logic_regression', joblib.load('./shapley-values/saved_values/logreg_shapley_values'))\n",
    "]"
   ]
  },
  {
   "cell_type": "code",
   "execution_count": 54,
   "metadata": {},
   "outputs": [],
   "source": [
    "def generate_new_model(model_entry, tat, start, end):\n",
    "    tat_train, tat_test, targets_train, targets_test, feature_names = get_data(tat, start, end)\n",
    "\n",
    "    new_model_name = f\"{model_entry[0]} {start}-{end}\"\n",
    "\n",
    "    match model_entry[2]:\n",
    "        case 'logic_regression':\n",
    "            model = LogisticRegression(random_state=0)\n",
    "            model.fit(tat_train, targets_train)\n",
    "\n",
    "            explainer = shap.Explainer(model, tat_train, feature_names=feature_names)\n",
    "            explanation = explainer(tat_train)\n",
    "            # file_path = f\"../shapley-values/saved_values/{new_model_name}-saved_values\"\n",
    "            # joblib.dump(explanation, file_path)\n",
    "            # model_list_2.append((new_model_name, model, 'logic_regression'))\n",
    "            model_list_2.append((new_model_name, model, 'logic_regression', explanation))\n",
    "            \n",
    "        case 'xgboost':\n",
    "            use_gpu = False\n",
    "            label_encoder = LabelEncoder()\n",
    "            targets_train = label_encoder.fit_transform(targets_train)\n",
    "            print(targets_train)\n",
    "\n",
    "            if use_gpu:\n",
    "                model = xgb.XGBClassifier(learning_rate=0.02, n_estimators=10, objective='multi:softmax',\n",
    "                                        num_class=len(pd.unique(targets_train)), tree_method=\"hist\", device=\"cuda\")\n",
    "            else:\n",
    "                model = xgb.XGBClassifier(learning_rate=0.02, n_estimators=10, objective='multi:softmax',\n",
    "                                        num_class=len(pd.unique(targets_train)))\n",
    "\n",
    "            print(tat_train)\n",
    "            model.fit(tat_train, targets_train)\n",
    "\n",
    "            explainer = shap.TreeExplainer(model, feature_names=feature_names)\n",
    "            explanation = explainer(tat_train)\n",
    "            # file_path = f\"../shapley-values/saved_values/{new_model_name}-saved_value.json\"\n",
    "            # joblib.dump(explanation, file_path)\n",
    "            # model_list_2.append((new_model_name, model, 'xgboost'))\n",
    "            model_list_2.append((new_model_name, model, 'xgboost', explanation))\n",
    "\n",
    "        case 'random_forest':\n",
    "            model = RandomForestClassifier(n_estimators=100, random_state=42, verbose=2)\n",
    "            print('test')\n",
    "            model.fit(tat_train, targets_train)\n",
    "\n",
    "            print('the shap values will be generated now')\n",
    "            explainer = shap.TreeExplainer(model, feature_names=feature_names)\n",
    "            explanation = explainer(tat_train)\n",
    "            # file_path = f\"../shapley-values/saved_values/{new_model_name}-saved_value.json\"\n",
    "            # joblib.dump(explanation, file_path)\n",
    "            # model_list_2.append((new_model_name, model, 'random_forest'))\n",
    "            model_list_2.append((new_model_name, model, 'random_forest', explanation))\n",
    "        case _:\n",
    "            raise Exception('Model is not found.')\n",
    "\n",
    "    return"
   ]
  },
  {
   "cell_type": "code",
   "execution_count": 55,
   "metadata": {},
   "outputs": [],
   "source": [
    "def get_model_by_name(model_list, model_name):\n",
    "    for model_entry in model_list:\n",
    "        if model_name.lower() in model_entry[0].lower():\n",
    "            return model_entry\n",
    "    return None  # Model not found"
   ]
  },
  {
   "cell_type": "markdown",
   "metadata": {},
   "source": [
    "# Application"
   ]
  },
  {
   "cell_type": "code",
   "execution_count": 56,
   "metadata": {},
   "outputs": [],
   "source": [
    "model_list = ['XGBoost', 'Random Forest', 'Logistic Regression']"
   ]
  },
  {
   "cell_type": "code",
   "execution_count": 62,
   "metadata": {
    "ExecuteTime": {
     "end_time": "2023-12-19T12:37:54.982258Z",
     "start_time": "2023-12-19T12:37:54.809609Z"
    }
   },
   "outputs": [
    {
     "data": {
      "text/html": [
       "\n",
       "        <iframe\n",
       "            width=\"100%\"\n",
       "            height=\"650\"\n",
       "            src=\"http://127.0.0.1:8050/\"\n",
       "            frameborder=\"0\"\n",
       "            allowfullscreen\n",
       "            \n",
       "        ></iframe>\n",
       "        "
      ],
      "text/plain": [
       "<IPython.lib.display.IFrame at 0x137e15710>"
      ]
     },
     "metadata": {},
     "output_type": "display_data"
    }
   ],
   "source": [
    "reload=False #Muss nach oben, passiert wenn Button gedrückt\n",
    "if reload==False:\n",
    "    models_name = ['XGBoost', 'Random Forest', 'Gaussian Naive Bias', 'Ground Truth']\n",
    "\n",
    "if reload==True:\n",
    "    models_name.append('NewModel')\n",
    "\n",
    "external_stylesheets = ['https://codepen.io/chriddyp/pen/bWLwgP.css']\n",
    "app = Dash(__name__, external_stylesheets=external_stylesheets)\n",
    "\n",
    "app.layout =html.Div([\n",
    "    html.Div(className=\"row\", children=\"Dashboard\", style={\"textAlign\":\"center\", \"color\":\"blue\", \"fontSize\":30}),\n",
    "    \n",
    "    #erste Zeile Block (Sankey, Retraining)\n",
    "    html.Div(className =\"row\", children = [\n",
    "        #Sankey Block\n",
    "        html.Div(className =\"ten columns\", children = [\n",
    "            html.Div(className =\"two columns\", children = [\n",
    "                #Überschrift Sankey\n",
    "                html.Div(children=\"Sankey Modelle\", style={\"textAlign\":\"left\", \"color\":\"blue\", \"fontSize\":25}),\n",
    "                #Dropdown Sankey\n",
    "                dcc.Dropdown(models_name, placeholder='Select Model 1', id='dropdown_1'),\n",
    "                dcc.Dropdown(models_name, placeholder='Select Model 2', id='dropdown_2'),\n",
    "                dcc.Dropdown(models_name, placeholder='Select Model 3', id='dropdown_3'),\n",
    "                dcc.Dropdown(models_name, placeholder='Select Model 4', id='dropdown_4')\n",
    "            ]),\n",
    "            #Diagramm Sankey\n",
    "            html.Div(className =\"ten columns\", children = [\n",
    "                html.Div(id='cc-output-container')\n",
    "            ]) \n",
    "        ]),#Sankey Block ENDE\n",
    "\n",
    "        #TODO Zwischenstrich\n",
    "\n",
    "        #Retraing Block\n",
    "        html.Div(className =\"two columns\", children = [\n",
    "            #Überschrift Retraining\n",
    "            html.Div(children=\"Retraining\", style={\"textAlign\":\"left\", \"color\":\"blue\", \"fontSize\":25}),\n",
    "            dcc.Dropdown([t[0] for t in model_list], placeholder='Select Model', id='dropdown'),\n",
    "            dcc.Input(type='number', placeholder='Enter Start', id='input_start_1'),\n",
    "            dcc.Input(type='number', placeholder='Enter End', id='input_end_1'),\n",
    "            html.Br(),\n",
    "            html.Button('Retrain', id='btn_retrain'),\n",
    "            html.Div(id='bb-output-container')\n",
    "        ])#Retraing ENDE    \n",
    "    ]),#ENDE erste Zeile Block (Sankey, Retraining)\n",
    "\n",
    "    html.Hr(),\n",
    "\n",
    "    #zweite Zeile Shapley\n",
    "    html.Div(className =\"row\", children = [\n",
    "        #Shapley Block\n",
    "        html.Div(className =\"four columns\", children = [\n",
    "            #Überschrift Shapley\n",
    "            html.Div(children=\"Shapley Values\", style={\"textAlign\":\"left\", \"color\":\"blue\", \"fontSize\":25}),\n",
    "            #Dropdown Shapley\n",
    "            dcc.Dropdown(model_list, placeholder='Select Model', id='dropdown_model'),\n",
    "            dcc.Dropdown(['very_high', 'high', 'moderate', 'low', 'very_low'], placeholder='Select Target', id='dropdown_target'),\n",
    "            dcc.Input(type='text', placeholder='Enter Start', id='input_start_2'),\n",
    "            dcc.Input(type='text', placeholder='Enter End', id='input_end_2'),\n",
    "            dcc.Input(type='number', placeholder='Enter Steps', id='input_steps'),\n",
    "            html.Br(),\n",
    "            html.Button('Generate Plot', id='btn_generate_plot')\n",
    "        ]),\n",
    "        #Diagramm Shapley 1\n",
    "        html.Div(className =\"four columns\", children = [\n",
    "            #html.Div(children=\"Shapley Values\", style={\"textAlign\":\"left\", \"color\":\"blue\", \"fontSize\":25}),\n",
    "            html.Div(id='dd-output-container'),\n",
    "        ]) \n",
    "        #Diagramm Shapley 2\n",
    "        #html.Div(children=\"Shapley Values\", style={\"textAlign\":\"left\", \"color\":\"blue\", \"fontSize\":25}),\n",
    "         #Shapley Block ENDE\n",
    "        \n",
    "    ])#ENDE Zweite Zeile\n",
    "])\n",
    " \n",
    "# SANKEY DASHBOARD\n",
    "@callback(\n",
    "    Output('cc-output-container', 'children'),\n",
    "    [Input('dropdown_1', 'value'), Input('dropdown_2', 'value'), Input('dropdown_3', 'value'),\n",
    "     Input('dropdown_4', 'value')]\n",
    ")\n",
    "def generate_sankey(model_1, model_2, model_3, model_4):\n",
    "    models = [v for v in [model_1, model_2, model_3, model_4] if v is not None]\n",
    "    return dcc.Graph(figure=build_sankey(df, models))\n",
    "\n",
    "# SHAPLEY DASHBOARD\n",
    "@callback(\n",
    "    Output('dd-output-container', 'children'),\n",
    "    State('dropdown_model', 'value'),           # State instead of Input is important for button\n",
    "    State('dropdown_target', 'value'), \n",
    "    State('input_start_2', 'value'),\n",
    "    State('input_end_2', 'value'),\n",
    "    State('input_steps', 'value'),\n",
    "    Input('btn_generate_plot', 'n_clicks'),\n",
    ")\n",
    "def generate_shapley_plots(model, target, start, end, steps, n_clicks):\n",
    "    if n_clicks is None:\n",
    "        return dash.no_update # Do nothing if the button is not clicked\n",
    "    \n",
    "    explanation = model_name_to_explanation(model)\n",
    "    target = string_target_to_integer_target(target)\n",
    "    \n",
    "    if explanation is not None and target is not None:\n",
    "        fig, ax = plt.subplots()\n",
    "        ax.cla() # Clear the previous plot\n",
    "\n",
    "        start_index, end_index = find_indexes(tat_fnames, start, end)\n",
    "        shap.plots.beeswarm(explanation[:, start_index:end_index:steps, target], show=False)\n",
    "        \n",
    "        # Convert Matplotlib figure to base64-encoded string\n",
    "        img_buf = io.BytesIO()\n",
    "        plt.savefig(img_buf, format='svg')\n",
    "\n",
    "        plt.clf() # Clear the entire figure\n",
    "        plt.close() # Close the figure to release memory\n",
    "\n",
    "        img_buf.seek(0)\n",
    "        img_str = \"data:image/svg+xml;base64,\" + base64.b64encode(img_buf.read()).decode('utf-8')\n",
    "\n",
    "        return html.Img(src=img_str)\n",
    "    else:\n",
    "        return\n",
    "    \n",
    "# RETRAINING DASHBOARD\n",
    "@callback(\n",
    "    Output('bb-output-container', 'children'),\n",
    "    State('dropdown', 'value'),\n",
    "    State('input_start_1', 'value'),\n",
    "    State('input_end_1', 'value'),\n",
    "    Input('btn_retrain', 'n_clicks')\n",
    ")\n",
    "def retrain_model(model_name, start, end, n_clicks):\n",
    "    if n_clicks is None:\n",
    "        return dash.no_update  # Do nothing if the button is not clicked\n",
    "    if model_name is None or start is None or end is None:\n",
    "        return dash.no_update  # Do nothing if not all values are provided\n",
    "    \n",
    "    model_entry = get_model_by_name(model_list_2, model_name)\n",
    "\n",
    "    generate_new_model(model_entry, tat, start, end)\n",
    "    print('model has been generated')\n",
    "    return [t[0] for t in model_list_2] # this is not really nice (from a clean code perspective) but it works \\n\n",
    "\n",
    "if __name__ == '__main__':\n",
    "    app.run(debug=True)\n",
    "\n"
   ]
  }
 ],
 "metadata": {
  "kernelspec": {
   "display_name": "Python 3",
   "language": "python",
   "name": "python3"
  },
  "language_info": {
   "codemirror_mode": {
    "name": "ipython",
    "version": 3
   },
   "file_extension": ".py",
   "mimetype": "text/x-python",
   "name": "python",
   "nbconvert_exporter": "python",
   "pygments_lexer": "ipython3",
   "version": "3.11.6"
  }
 },
 "nbformat": 4,
 "nbformat_minor": 2
}
