{
 "cells": [
  {
   "cell_type": "markdown",
   "source": [
    "# Random Forest Classifier"
   ],
   "metadata": {
    "collapsed": false
   },
   "id": "2679b5c9dfa01d7a"
  },
  {
   "cell_type": "markdown",
   "source": [
    "Imports"
   ],
   "metadata": {
    "collapsed": false
   },
   "id": "4c6067d7bd902160"
  },
  {
   "cell_type": "code",
   "execution_count": 1,
   "outputs": [],
   "source": [
    "import time\n",
    "\n",
    "import numpy as np\n",
    "import pandas as pd\n",
    "from sklearn.ensemble import RandomForestClassifier\n",
    "from sklearn.metrics import accuracy_score, classification_report, confusion_matrix\n",
    "from sklearn.metrics import f1_score, make_scorer\n",
    "from sklearn.model_selection import GridSearchCV\n",
    "from sklearn.model_selection import RandomizedSearchCV\n",
    "from sklearn.model_selection import train_test_split\n",
    "\n",
    "from sklearn.preprocessing import StandardScaler\n",
    "\n",
    "import joblib"
   ],
   "metadata": {
    "collapsed": false,
    "ExecuteTime": {
     "end_time": "2023-11-07T10:34:54.923963Z",
     "start_time": "2023-11-07T10:34:53.217084Z"
    }
   },
   "id": "initial_id"
  },
  {
   "cell_type": "markdown",
   "source": [
    "Load data and labels into dataframes"
   ],
   "metadata": {
    "collapsed": false
   },
   "id": "9cf3d872a54fdad1"
  },
  {
   "cell_type": "code",
   "execution_count": 2,
   "outputs": [],
   "source": [
    "df = pd.read_csv(\"./data/lucas_organic_carbon_training_and_test_data_NEW.csv\")\n",
    "labels = pd.read_csv(\"./data/lucas_organic_carbon_target.csv\")"
   ],
   "metadata": {
    "collapsed": false,
    "ExecuteTime": {
     "end_time": "2023-11-07T10:34:59.100189Z",
     "start_time": "2023-11-07T10:34:54.921835Z"
    }
   },
   "id": "e68e88e9657b75b8"
  },
  {
   "cell_type": "code",
   "execution_count": null,
   "outputs": [],
   "source": [
    "df"
   ],
   "metadata": {
    "collapsed": false
   },
   "id": "3952674fd1fe1114"
  },
  {
   "cell_type": "code",
   "execution_count": null,
   "outputs": [],
   "source": [
    "df.describe()"
   ],
   "metadata": {
    "collapsed": false
   },
   "id": "cb36c8a2e074635e"
  },
  {
   "cell_type": "code",
   "execution_count": null,
   "outputs": [],
   "source": [
    "df.shape"
   ],
   "metadata": {
    "collapsed": false
   },
   "id": "de31db613d6070b"
  },
  {
   "cell_type": "code",
   "execution_count": null,
   "outputs": [],
   "source": [
    "labels.shape"
   ],
   "metadata": {
    "collapsed": false
   },
   "id": "21e4c0c4254562e0"
  },
  {
   "cell_type": "markdown",
   "source": [
    "Create Scaler and scala data"
   ],
   "metadata": {
    "collapsed": false
   },
   "id": "2407c939fcd95879"
  },
  {
   "cell_type": "code",
   "execution_count": 3,
   "outputs": [
    {
     "data": {
      "text/plain": "         500.0     500.5     501.0     501.5     502.0     502.5     503.0  \\\n0    -0.317694 -0.318224 -0.318744 -0.319256 -0.319759 -0.320253 -0.320739   \n1     0.256876  0.254926  0.252993  0.251076  0.249174  0.247289  0.245420   \n2     0.091526  0.090582  0.089648  0.088721  0.087803  0.086892  0.085990   \n3    -0.132203 -0.129195 -0.126215 -0.123263 -0.120339 -0.117442 -0.114573   \n4     0.536071  0.533381  0.530712  0.528063  0.525434  0.522825  0.520236   \n...        ...       ...       ...       ...       ...       ...       ...   \n9890  1.068931  1.065211  1.061515  1.057844  1.054196  1.050572  1.046972   \n9891 -0.533231 -0.528060 -0.522935 -0.517854 -0.512817 -0.507825 -0.502875   \n9892  0.557028  0.562643  0.568195  0.573686  0.579116  0.584485  0.589796   \n9893  0.121474  0.111586  0.101796  0.092101  0.082501  0.072994  0.063580   \n9894  0.152914  0.159772  0.166560  0.173278  0.179929  0.186511  0.193027   \n\n         503.5     504.0     504.5  ...    2495.0    2495.5    2496.0  \\\n0    -0.321217 -0.321686 -0.322148  ...  0.320884  0.311196  0.301124   \n1     0.243566  0.241727  0.239904  ...  0.953367  0.949280  0.944598   \n2     0.085095  0.084209  0.083330  ... -0.016399 -0.031121 -0.046161   \n3    -0.111730 -0.108914 -0.106124  ... -0.503614 -0.486400 -0.468538   \n4     0.517667  0.515117  0.512587  ...  0.194378  0.177311  0.159763   \n...        ...       ...       ...  ...       ...       ...       ...   \n9890  1.043396  1.039844  1.036315  ... -1.896294 -1.884456 -1.871355   \n9891 -0.497969 -0.493105 -0.488283  ...  0.317374  0.315407  0.313229   \n9892  0.595047  0.600241  0.605379  ... -1.968334 -1.971239 -1.973170   \n9893  0.054258  0.045026  0.035884  ...  1.528755  1.514539  1.499200   \n9894  0.199477  0.205862  0.212182  ...  0.451743  0.476588  0.501746   \n\n        2496.5    2497.0    2497.5    2498.0    2498.5    2499.0    2499.5  \n0     0.290665  0.279820  0.268590  0.256980  0.244997  0.232651  0.219954  \n1     0.939293  0.933338  0.926704  0.919368  0.911309  0.902508  0.892950  \n2    -0.061504 -0.077135 -0.093032 -0.109173 -0.125532 -0.142080 -0.158787  \n3    -0.450026 -0.430868 -0.411068 -0.390637 -0.369589 -0.347943 -0.325724  \n4     0.141743  0.123262  0.104338  0.084991  0.065242  0.045121  0.024658  \n...        ...       ...       ...       ...       ...       ...       ...  \n9890 -1.856935 -1.841145 -1.823937 -1.805269 -1.785104 -1.763413 -1.740174  \n9891  0.310831  0.308203  0.305338  0.302229  0.298870  0.295256  0.291383  \n9892 -1.974056 -1.973825 -1.972409 -1.969740 -1.965754 -1.960391 -1.953597  \n9893  1.482700  1.465000  1.446070  1.425882  1.404414  1.381652  1.357588  \n9894  0.527179  0.552842  0.578688  0.604665  0.630717  0.656782  0.682799  \n\n[9895 rows x 4000 columns]",
      "text/html": "<div>\n<style scoped>\n    .dataframe tbody tr th:only-of-type {\n        vertical-align: middle;\n    }\n\n    .dataframe tbody tr th {\n        vertical-align: top;\n    }\n\n    .dataframe thead th {\n        text-align: right;\n    }\n</style>\n<table border=\"1\" class=\"dataframe\">\n  <thead>\n    <tr style=\"text-align: right;\">\n      <th></th>\n      <th>500.0</th>\n      <th>500.5</th>\n      <th>501.0</th>\n      <th>501.5</th>\n      <th>502.0</th>\n      <th>502.5</th>\n      <th>503.0</th>\n      <th>503.5</th>\n      <th>504.0</th>\n      <th>504.5</th>\n      <th>...</th>\n      <th>2495.0</th>\n      <th>2495.5</th>\n      <th>2496.0</th>\n      <th>2496.5</th>\n      <th>2497.0</th>\n      <th>2497.5</th>\n      <th>2498.0</th>\n      <th>2498.5</th>\n      <th>2499.0</th>\n      <th>2499.5</th>\n    </tr>\n  </thead>\n  <tbody>\n    <tr>\n      <th>0</th>\n      <td>-0.317694</td>\n      <td>-0.318224</td>\n      <td>-0.318744</td>\n      <td>-0.319256</td>\n      <td>-0.319759</td>\n      <td>-0.320253</td>\n      <td>-0.320739</td>\n      <td>-0.321217</td>\n      <td>-0.321686</td>\n      <td>-0.322148</td>\n      <td>...</td>\n      <td>0.320884</td>\n      <td>0.311196</td>\n      <td>0.301124</td>\n      <td>0.290665</td>\n      <td>0.279820</td>\n      <td>0.268590</td>\n      <td>0.256980</td>\n      <td>0.244997</td>\n      <td>0.232651</td>\n      <td>0.219954</td>\n    </tr>\n    <tr>\n      <th>1</th>\n      <td>0.256876</td>\n      <td>0.254926</td>\n      <td>0.252993</td>\n      <td>0.251076</td>\n      <td>0.249174</td>\n      <td>0.247289</td>\n      <td>0.245420</td>\n      <td>0.243566</td>\n      <td>0.241727</td>\n      <td>0.239904</td>\n      <td>...</td>\n      <td>0.953367</td>\n      <td>0.949280</td>\n      <td>0.944598</td>\n      <td>0.939293</td>\n      <td>0.933338</td>\n      <td>0.926704</td>\n      <td>0.919368</td>\n      <td>0.911309</td>\n      <td>0.902508</td>\n      <td>0.892950</td>\n    </tr>\n    <tr>\n      <th>2</th>\n      <td>0.091526</td>\n      <td>0.090582</td>\n      <td>0.089648</td>\n      <td>0.088721</td>\n      <td>0.087803</td>\n      <td>0.086892</td>\n      <td>0.085990</td>\n      <td>0.085095</td>\n      <td>0.084209</td>\n      <td>0.083330</td>\n      <td>...</td>\n      <td>-0.016399</td>\n      <td>-0.031121</td>\n      <td>-0.046161</td>\n      <td>-0.061504</td>\n      <td>-0.077135</td>\n      <td>-0.093032</td>\n      <td>-0.109173</td>\n      <td>-0.125532</td>\n      <td>-0.142080</td>\n      <td>-0.158787</td>\n    </tr>\n    <tr>\n      <th>3</th>\n      <td>-0.132203</td>\n      <td>-0.129195</td>\n      <td>-0.126215</td>\n      <td>-0.123263</td>\n      <td>-0.120339</td>\n      <td>-0.117442</td>\n      <td>-0.114573</td>\n      <td>-0.111730</td>\n      <td>-0.108914</td>\n      <td>-0.106124</td>\n      <td>...</td>\n      <td>-0.503614</td>\n      <td>-0.486400</td>\n      <td>-0.468538</td>\n      <td>-0.450026</td>\n      <td>-0.430868</td>\n      <td>-0.411068</td>\n      <td>-0.390637</td>\n      <td>-0.369589</td>\n      <td>-0.347943</td>\n      <td>-0.325724</td>\n    </tr>\n    <tr>\n      <th>4</th>\n      <td>0.536071</td>\n      <td>0.533381</td>\n      <td>0.530712</td>\n      <td>0.528063</td>\n      <td>0.525434</td>\n      <td>0.522825</td>\n      <td>0.520236</td>\n      <td>0.517667</td>\n      <td>0.515117</td>\n      <td>0.512587</td>\n      <td>...</td>\n      <td>0.194378</td>\n      <td>0.177311</td>\n      <td>0.159763</td>\n      <td>0.141743</td>\n      <td>0.123262</td>\n      <td>0.104338</td>\n      <td>0.084991</td>\n      <td>0.065242</td>\n      <td>0.045121</td>\n      <td>0.024658</td>\n    </tr>\n    <tr>\n      <th>...</th>\n      <td>...</td>\n      <td>...</td>\n      <td>...</td>\n      <td>...</td>\n      <td>...</td>\n      <td>...</td>\n      <td>...</td>\n      <td>...</td>\n      <td>...</td>\n      <td>...</td>\n      <td>...</td>\n      <td>...</td>\n      <td>...</td>\n      <td>...</td>\n      <td>...</td>\n      <td>...</td>\n      <td>...</td>\n      <td>...</td>\n      <td>...</td>\n      <td>...</td>\n      <td>...</td>\n    </tr>\n    <tr>\n      <th>9890</th>\n      <td>1.068931</td>\n      <td>1.065211</td>\n      <td>1.061515</td>\n      <td>1.057844</td>\n      <td>1.054196</td>\n      <td>1.050572</td>\n      <td>1.046972</td>\n      <td>1.043396</td>\n      <td>1.039844</td>\n      <td>1.036315</td>\n      <td>...</td>\n      <td>-1.896294</td>\n      <td>-1.884456</td>\n      <td>-1.871355</td>\n      <td>-1.856935</td>\n      <td>-1.841145</td>\n      <td>-1.823937</td>\n      <td>-1.805269</td>\n      <td>-1.785104</td>\n      <td>-1.763413</td>\n      <td>-1.740174</td>\n    </tr>\n    <tr>\n      <th>9891</th>\n      <td>-0.533231</td>\n      <td>-0.528060</td>\n      <td>-0.522935</td>\n      <td>-0.517854</td>\n      <td>-0.512817</td>\n      <td>-0.507825</td>\n      <td>-0.502875</td>\n      <td>-0.497969</td>\n      <td>-0.493105</td>\n      <td>-0.488283</td>\n      <td>...</td>\n      <td>0.317374</td>\n      <td>0.315407</td>\n      <td>0.313229</td>\n      <td>0.310831</td>\n      <td>0.308203</td>\n      <td>0.305338</td>\n      <td>0.302229</td>\n      <td>0.298870</td>\n      <td>0.295256</td>\n      <td>0.291383</td>\n    </tr>\n    <tr>\n      <th>9892</th>\n      <td>0.557028</td>\n      <td>0.562643</td>\n      <td>0.568195</td>\n      <td>0.573686</td>\n      <td>0.579116</td>\n      <td>0.584485</td>\n      <td>0.589796</td>\n      <td>0.595047</td>\n      <td>0.600241</td>\n      <td>0.605379</td>\n      <td>...</td>\n      <td>-1.968334</td>\n      <td>-1.971239</td>\n      <td>-1.973170</td>\n      <td>-1.974056</td>\n      <td>-1.973825</td>\n      <td>-1.972409</td>\n      <td>-1.969740</td>\n      <td>-1.965754</td>\n      <td>-1.960391</td>\n      <td>-1.953597</td>\n    </tr>\n    <tr>\n      <th>9893</th>\n      <td>0.121474</td>\n      <td>0.111586</td>\n      <td>0.101796</td>\n      <td>0.092101</td>\n      <td>0.082501</td>\n      <td>0.072994</td>\n      <td>0.063580</td>\n      <td>0.054258</td>\n      <td>0.045026</td>\n      <td>0.035884</td>\n      <td>...</td>\n      <td>1.528755</td>\n      <td>1.514539</td>\n      <td>1.499200</td>\n      <td>1.482700</td>\n      <td>1.465000</td>\n      <td>1.446070</td>\n      <td>1.425882</td>\n      <td>1.404414</td>\n      <td>1.381652</td>\n      <td>1.357588</td>\n    </tr>\n    <tr>\n      <th>9894</th>\n      <td>0.152914</td>\n      <td>0.159772</td>\n      <td>0.166560</td>\n      <td>0.173278</td>\n      <td>0.179929</td>\n      <td>0.186511</td>\n      <td>0.193027</td>\n      <td>0.199477</td>\n      <td>0.205862</td>\n      <td>0.212182</td>\n      <td>...</td>\n      <td>0.451743</td>\n      <td>0.476588</td>\n      <td>0.501746</td>\n      <td>0.527179</td>\n      <td>0.552842</td>\n      <td>0.578688</td>\n      <td>0.604665</td>\n      <td>0.630717</td>\n      <td>0.656782</td>\n      <td>0.682799</td>\n    </tr>\n  </tbody>\n</table>\n<p>9895 rows × 4000 columns</p>\n</div>"
     },
     "execution_count": 3,
     "metadata": {},
     "output_type": "execute_result"
    }
   ],
   "source": [
    "scaler = StandardScaler()\n",
    "scaled_data = scaler.fit_transform(df)\n",
    "scaled_df = pd.DataFrame(scaled_data, columns=df.columns)\n",
    "scaled_df"
   ],
   "metadata": {
    "collapsed": false,
    "ExecuteTime": {
     "end_time": "2023-11-07T10:34:59.556809Z",
     "start_time": "2023-11-07T10:34:59.108654Z"
    }
   },
   "id": "19c17a1154cfb2af"
  },
  {
   "cell_type": "markdown",
   "source": [
    "Split Dataset into Training- and Testset"
   ],
   "metadata": {
    "collapsed": false
   },
   "id": "bc417b9eca330112"
  },
  {
   "cell_type": "code",
   "execution_count": 4,
   "outputs": [],
   "source": [
    "X_train, X_test, y_train, y_test = train_test_split(scaled_data, labels, test_size=0.2, random_state=42)"
   ],
   "metadata": {
    "collapsed": false,
    "ExecuteTime": {
     "end_time": "2023-11-07T10:34:59.911985Z",
     "start_time": "2023-11-07T10:34:59.522473Z"
    }
   },
   "id": "79d5e93b4ac2d29d"
  },
  {
   "cell_type": "code",
   "execution_count": null,
   "outputs": [],
   "source": [
    "X_train.shape"
   ],
   "metadata": {
    "collapsed": false
   },
   "id": "2b90f6314d180169"
  },
  {
   "cell_type": "code",
   "execution_count": null,
   "outputs": [],
   "source": [
    "X_test.shape"
   ],
   "metadata": {
    "collapsed": false
   },
   "id": "bff2139cdb84a638"
  },
  {
   "cell_type": "code",
   "execution_count": null,
   "outputs": [],
   "source": [
    "y_train.shape"
   ],
   "metadata": {
    "collapsed": false
   },
   "id": "5d1fee8756a2a2e5"
  },
  {
   "cell_type": "code",
   "execution_count": null,
   "outputs": [],
   "source": [
    "y_test.shape"
   ],
   "metadata": {
    "collapsed": false
   },
   "id": "2179535e2db29ccc"
  },
  {
   "cell_type": "code",
   "execution_count": null,
   "outputs": [],
   "source": [
    "y_train = y_train['x']"
   ],
   "metadata": {
    "collapsed": false
   },
   "id": "64cdd838b44825b8"
  },
  {
   "cell_type": "markdown",
   "source": [
    "Create Parametergrid for Gridsearch / Randomsearch"
   ],
   "metadata": {
    "collapsed": false
   },
   "id": "77a03004455c26c"
  },
  {
   "cell_type": "code",
   "execution_count": null,
   "outputs": [],
   "source": [
    "param_grid = {\n",
    "    'n_estimators': [int(x) for x in np.linspace(start = 400, stop = 450, num = 8)],\n",
    "    'max_depth': [35],\n",
    "    'min_samples_split': [10],\n",
    "    'min_samples_leaf': [4],\n",
    "    'max_features': ['sqrt'],\n",
    "    'bootstrap': [True]\n",
    "}\n",
    "param_grid"
   ],
   "metadata": {
    "collapsed": false
   },
   "id": "1ef26d2d2190688b"
  },
  {
   "cell_type": "markdown",
   "source": [
    "Create Scoring method"
   ],
   "metadata": {
    "collapsed": false
   },
   "id": "3c2b34ab66310214"
  },
  {
   "cell_type": "code",
   "execution_count": null,
   "outputs": [],
   "source": [
    "scorer = make_scorer(f1_score, average='micro')"
   ],
   "metadata": {
    "collapsed": false
   },
   "id": "9cba741575f100e6"
  },
  {
   "cell_type": "markdown",
   "source": [
    "Run Grid/Randomsearch\n"
   ],
   "metadata": {
    "collapsed": false
   },
   "id": "6861efc33157c064"
  },
  {
   "cell_type": "code",
   "execution_count": null,
   "outputs": [],
   "source": [
    "grid_search = GridSearchCV(\n",
    "    estimator=RandomForestClassifier(n_estimators=100, random_state=42, verbose=2),\n",
    "    param_grid=param_grid,\n",
    "    cv=5,\n",
    "    n_jobs=-1,\n",
    "    scoring=scorer,\n",
    "    verbose=1\n",
    ")\n",
    "\n",
    "fit_time = time.perf_counter()\n",
    "grid_search.fit(X_train, y_train)\n",
    "fit_time = np.round(time.perf_counter() - fit_time)\n",
    "print(f'Total fitting time: {fit_time}s')"
   ],
   "metadata": {
    "collapsed": false
   },
   "id": "e130e57bc0ececcf"
  },
  {
   "cell_type": "markdown",
   "source": [
    "Extract the best classifier, its paramester and the score"
   ],
   "metadata": {
    "collapsed": false
   },
   "id": "158638198a4fce17"
  },
  {
   "cell_type": "code",
   "execution_count": null,
   "outputs": [],
   "source": [
    "best_clf = grid_search.best_estimator_\n",
    "best_params = grid_search.best_params_\n",
    "best_score = grid_search.best_score_"
   ],
   "metadata": {
    "collapsed": false
   },
   "id": "e0a60a48ef2dd695"
  },
  {
   "cell_type": "code",
   "execution_count": null,
   "outputs": [],
   "source": [
    "print(f\"best params {best_params}\")"
   ],
   "metadata": {
    "collapsed": false
   },
   "id": "6b3100c8ac110a32"
  },
  {
   "cell_type": "code",
   "execution_count": null,
   "outputs": [],
   "source": [
    "print(f\"best score {best_score}\")"
   ],
   "metadata": {
    "collapsed": false
   },
   "id": "4f40458189722813"
  },
  {
   "cell_type": "markdown",
   "source": [
    "# Make predictions on the test set and show model metrics"
   ],
   "metadata": {
    "collapsed": false
   },
   "id": "8dd626f6d7e4c39d"
  },
  {
   "cell_type": "code",
   "execution_count": null,
   "outputs": [],
   "source": [
    "y_pred = grid_search.best_estimator_.predict(X_test)\n",
    "\n",
    "# Evaluate the model\n",
    "accuracy = accuracy_score(y_test, y_pred)\n",
    "print(\"Accuracy:\", accuracy)\n",
    "\n",
    "print(\"Classification Report:\")\n",
    "print(classification_report(y_test, y_pred))\n",
    "\n",
    "print(\"Confusion Matrix:\")\n",
    "print(confusion_matrix(y_test, y_pred))"
   ],
   "metadata": {
    "collapsed": false
   },
   "id": "44684ac5e3db79ad"
  },
  {
   "cell_type": "markdown",
   "source": [
    "Save model"
   ],
   "metadata": {
    "collapsed": false
   },
   "id": "9171f582ae2cf47f"
  },
  {
   "cell_type": "code",
   "execution_count": null,
   "outputs": [],
   "source": [
    "joblib.dump(best_clf, './models/random_forest.pkl')"
   ],
   "metadata": {
    "collapsed": false
   },
   "id": "5a7376be94ec70c7"
  },
  {
   "cell_type": "markdown",
   "source": [
    "Load model"
   ],
   "metadata": {
    "collapsed": false
   },
   "id": "e33962c09d952562"
  },
  {
   "cell_type": "code",
   "execution_count": 7,
   "outputs": [
    {
     "data": {
      "text/plain": "RandomForestClassifier(max_depth=35, min_samples_leaf=4, min_samples_split=10,\n                       n_estimators=450, random_state=42, verbose=2)",
      "text/html": "<style>#sk-container-id-2 {color: black;}#sk-container-id-2 pre{padding: 0;}#sk-container-id-2 div.sk-toggleable {background-color: white;}#sk-container-id-2 label.sk-toggleable__label {cursor: pointer;display: block;width: 100%;margin-bottom: 0;padding: 0.3em;box-sizing: border-box;text-align: center;}#sk-container-id-2 label.sk-toggleable__label-arrow:before {content: \"▸\";float: left;margin-right: 0.25em;color: #696969;}#sk-container-id-2 label.sk-toggleable__label-arrow:hover:before {color: black;}#sk-container-id-2 div.sk-estimator:hover label.sk-toggleable__label-arrow:before {color: black;}#sk-container-id-2 div.sk-toggleable__content {max-height: 0;max-width: 0;overflow: hidden;text-align: left;background-color: #f0f8ff;}#sk-container-id-2 div.sk-toggleable__content pre {margin: 0.2em;color: black;border-radius: 0.25em;background-color: #f0f8ff;}#sk-container-id-2 input.sk-toggleable__control:checked~div.sk-toggleable__content {max-height: 200px;max-width: 100%;overflow: auto;}#sk-container-id-2 input.sk-toggleable__control:checked~label.sk-toggleable__label-arrow:before {content: \"▾\";}#sk-container-id-2 div.sk-estimator input.sk-toggleable__control:checked~label.sk-toggleable__label {background-color: #d4ebff;}#sk-container-id-2 div.sk-label input.sk-toggleable__control:checked~label.sk-toggleable__label {background-color: #d4ebff;}#sk-container-id-2 input.sk-hidden--visually {border: 0;clip: rect(1px 1px 1px 1px);clip: rect(1px, 1px, 1px, 1px);height: 1px;margin: -1px;overflow: hidden;padding: 0;position: absolute;width: 1px;}#sk-container-id-2 div.sk-estimator {font-family: monospace;background-color: #f0f8ff;border: 1px dotted black;border-radius: 0.25em;box-sizing: border-box;margin-bottom: 0.5em;}#sk-container-id-2 div.sk-estimator:hover {background-color: #d4ebff;}#sk-container-id-2 div.sk-parallel-item::after {content: \"\";width: 100%;border-bottom: 1px solid gray;flex-grow: 1;}#sk-container-id-2 div.sk-label:hover label.sk-toggleable__label {background-color: #d4ebff;}#sk-container-id-2 div.sk-serial::before {content: \"\";position: absolute;border-left: 1px solid gray;box-sizing: border-box;top: 0;bottom: 0;left: 50%;z-index: 0;}#sk-container-id-2 div.sk-serial {display: flex;flex-direction: column;align-items: center;background-color: white;padding-right: 0.2em;padding-left: 0.2em;position: relative;}#sk-container-id-2 div.sk-item {position: relative;z-index: 1;}#sk-container-id-2 div.sk-parallel {display: flex;align-items: stretch;justify-content: center;background-color: white;position: relative;}#sk-container-id-2 div.sk-item::before, #sk-container-id-2 div.sk-parallel-item::before {content: \"\";position: absolute;border-left: 1px solid gray;box-sizing: border-box;top: 0;bottom: 0;left: 50%;z-index: -1;}#sk-container-id-2 div.sk-parallel-item {display: flex;flex-direction: column;z-index: 1;position: relative;background-color: white;}#sk-container-id-2 div.sk-parallel-item:first-child::after {align-self: flex-end;width: 50%;}#sk-container-id-2 div.sk-parallel-item:last-child::after {align-self: flex-start;width: 50%;}#sk-container-id-2 div.sk-parallel-item:only-child::after {width: 0;}#sk-container-id-2 div.sk-dashed-wrapped {border: 1px dashed gray;margin: 0 0.4em 0.5em 0.4em;box-sizing: border-box;padding-bottom: 0.4em;background-color: white;}#sk-container-id-2 div.sk-label label {font-family: monospace;font-weight: bold;display: inline-block;line-height: 1.2em;}#sk-container-id-2 div.sk-label-container {text-align: center;}#sk-container-id-2 div.sk-container {/* jupyter's `normalize.less` sets `[hidden] { display: none; }` but bootstrap.min.css set `[hidden] { display: none !important; }` so we also need the `!important` here to be able to override the default hidden behavior on the sphinx rendered scikit-learn.org. See: https://github.com/scikit-learn/scikit-learn/issues/21755 */display: inline-block !important;position: relative;}#sk-container-id-2 div.sk-text-repr-fallback {display: none;}</style><div id=\"sk-container-id-2\" class=\"sk-top-container\"><div class=\"sk-text-repr-fallback\"><pre>RandomForestClassifier(max_depth=35, min_samples_leaf=4, min_samples_split=10,\n                       n_estimators=450, random_state=42, verbose=2)</pre><b>In a Jupyter environment, please rerun this cell to show the HTML representation or trust the notebook. <br />On GitHub, the HTML representation is unable to render, please try loading this page with nbviewer.org.</b></div><div class=\"sk-container\" hidden><div class=\"sk-item\"><div class=\"sk-estimator sk-toggleable\"><input class=\"sk-toggleable__control sk-hidden--visually\" id=\"sk-estimator-id-2\" type=\"checkbox\" checked><label for=\"sk-estimator-id-2\" class=\"sk-toggleable__label sk-toggleable__label-arrow\">RandomForestClassifier</label><div class=\"sk-toggleable__content\"><pre>RandomForestClassifier(max_depth=35, min_samples_leaf=4, min_samples_split=10,\n                       n_estimators=450, random_state=42, verbose=2)</pre></div></div></div></div></div>"
     },
     "execution_count": 7,
     "metadata": {},
     "output_type": "execute_result"
    }
   ],
   "source": [
    "model = joblib.load('./models/best_model_random_forest.pkl')\n",
    "model"
   ],
   "metadata": {
    "collapsed": false,
    "ExecuteTime": {
     "end_time": "2023-11-07T13:16:40.003531Z",
     "start_time": "2023-11-07T13:16:39.862472Z"
    }
   },
   "id": "f7bc43ef495f918"
  },
  {
   "cell_type": "code",
   "execution_count": 8,
   "outputs": [
    {
     "name": "stdout",
     "output_type": "stream",
     "text": [
      "Accuracy: 0.7842344618494189\n",
      "Classification Report:\n",
      "              precision    recall  f1-score   support\n",
      "\n",
      "        high       0.60      0.52      0.56       130\n",
      "         low       0.37      0.09      0.15       224\n",
      "    moderate       0.49      0.36      0.42       190\n",
      "   very_high       0.71      0.61      0.65        28\n",
      "    very_low       0.84      0.98      0.90      1407\n",
      "\n",
      "    accuracy                           0.78      1979\n",
      "   macro avg       0.60      0.51      0.54      1979\n",
      "weighted avg       0.73      0.78      0.74      1979\n"
     ]
    },
    {
     "name": "stderr",
     "output_type": "stream",
     "text": [
      "[Parallel(n_jobs=1)]: Using backend SequentialBackend with 1 concurrent workers.\n",
      "[Parallel(n_jobs=1)]: Done   1 out of   1 | elapsed:    0.0s remaining:    0.0s\n",
      "[Parallel(n_jobs=1)]: Done 450 out of 450 | elapsed:    0.2s finished\n"
     ]
    }
   ],
   "source": [
    "y_pred = model.predict(X_test)\n",
    "accuracy = accuracy_score(y_test, y_pred)\n",
    "print(\"Accuracy:\", accuracy)\n",
    "print(\"Classification Report:\")\n",
    "print(classification_report(y_test, y_pred))\n",
    "\n"
   ],
   "metadata": {
    "collapsed": false,
    "ExecuteTime": {
     "end_time": "2023-11-07T13:16:42.577798Z",
     "start_time": "2023-11-07T13:16:42.289066Z"
    }
   },
   "id": "2a73bb7cdcb15e84"
  },
  {
   "cell_type": "code",
   "execution_count": 11,
   "outputs": [
    {
     "data": {
      "text/plain": "0.7447171403439661"
     },
     "execution_count": 11,
     "metadata": {},
     "output_type": "execute_result"
    }
   ],
   "source": [
    "f1 = f1_score(y_test, y_pred, average='weighted')\n",
    "f1"
   ],
   "metadata": {
    "collapsed": false,
    "ExecuteTime": {
     "end_time": "2023-11-07T13:43:41.319363Z",
     "start_time": "2023-11-07T13:43:41.288382Z"
    }
   },
   "id": "e5239e7d3c07ca83"
  }
 ],
 "metadata": {
  "kernelspec": {
   "display_name": "Python 3",
   "language": "python",
   "name": "python3"
  },
  "language_info": {
   "codemirror_mode": {
    "name": "ipython",
    "version": 2
   },
   "file_extension": ".py",
   "mimetype": "text/x-python",
   "name": "python",
   "nbconvert_exporter": "python",
   "pygments_lexer": "ipython2",
   "version": "2.7.6"
  }
 },
 "nbformat": 4,
 "nbformat_minor": 5
}
