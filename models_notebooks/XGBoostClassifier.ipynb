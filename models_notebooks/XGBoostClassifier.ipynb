{
 "cells": [
  {
   "cell_type": "markdown",
   "source": [
    "# XGBoost Classifier (Gradient-Boosting-Verfahren)"
   ],
   "metadata": {
    "collapsed": false
   },
   "id": "faa4de3034305535"
  },
  {
   "cell_type": "markdown",
   "source": [
    "Imports"
   ],
   "metadata": {
    "collapsed": false
   },
   "id": "168e2170f2953d97"
  },
  {
   "cell_type": "code",
   "execution_count": 17,
   "outputs": [],
   "source": [
    "import time\n",
    "import pandas as pd\n",
    "from sklearn.metrics import accuracy_score, classification_report, confusion_matrix\n",
    "from sklearn.metrics import f1_score, make_scorer\n",
    "from sklearn.model_selection import GridSearchCV\n",
    "# from sklearn.model_selection import RandomizedSearchCV\n",
    "from sklearn.model_selection import train_test_split\n",
    "from sklearn.preprocessing import StandardScaler\n",
    "from sklearn.preprocessing import LabelEncoder\n",
    "import numpy as np\n",
    "import joblib\n",
    "\n",
    "import xgboost as xgb"
   ],
   "metadata": {
    "collapsed": false,
    "ExecuteTime": {
     "end_time": "2023-11-14T12:27:15.138718Z",
     "start_time": "2023-11-14T12:27:15.138111Z"
    }
   },
   "id": "initial_id"
  },
  {
   "cell_type": "markdown",
   "source": [
    "Config for XGBoost"
   ],
   "metadata": {
    "collapsed": false
   },
   "id": "6dddd579573275f0"
  },
  {
   "cell_type": "code",
   "execution_count": 18,
   "outputs": [],
   "source": [
    "pre_dispatch_jobs = 12\n",
    "useGpu = False"
   ],
   "metadata": {
    "collapsed": false,
    "ExecuteTime": {
     "end_time": "2023-11-14T12:27:15.139163Z",
     "start_time": "2023-11-14T12:27:15.138305Z"
    }
   },
   "id": "d5c3086ec72c641"
  },
  {
   "cell_type": "markdown",
   "source": [
    "Load data and labels into dataframes"
   ],
   "metadata": {
    "collapsed": false
   },
   "id": "1739d83b228cbbab"
  },
  {
   "cell_type": "code",
   "execution_count": 19,
   "outputs": [],
   "source": [
    "df = pd.read_csv(\"./data/lucas_organic_carbon_training_and_test_data_NEW.csv\")\n",
    "labels = pd.read_csv(\"./data/lucas_organic_carbon_target.csv\")"
   ],
   "metadata": {
    "collapsed": false,
    "ExecuteTime": {
     "end_time": "2023-11-14T12:27:19.364325Z",
     "start_time": "2023-11-14T12:27:15.138346Z"
    }
   },
   "id": "b4cbc410f0089d5c"
  },
  {
   "cell_type": "code",
   "execution_count": 31,
   "outputs": [
    {
     "data": {
      "text/plain": "             500.0        500.5        501.0        501.5        502.0  \\\ncount  9895.000000  9895.000000  9895.000000  9895.000000  9895.000000   \nmean      0.000318     0.000320     0.000322     0.000323     0.000325   \nstd       0.000130     0.000131     0.000132     0.000132     0.000133   \nmin       0.000016     0.000016     0.000016     0.000017     0.000017   \n25%       0.000221     0.000223     0.000224     0.000226     0.000227   \n50%       0.000310     0.000312     0.000314     0.000316     0.000318   \n75%       0.000408     0.000410     0.000412     0.000415     0.000417   \nmax       0.000876     0.000881     0.000887     0.000892     0.000897   \n\n             502.5        503.0        503.5        504.0        504.5  ...  \\\ncount  9895.000000  9895.000000  9895.000000  9895.000000  9895.000000  ...   \nmean      0.000327     0.000329     0.000331     0.000333     0.000335  ...   \nstd       0.000134     0.000134     0.000135     0.000136     0.000136  ...   \nmin       0.000017     0.000017     0.000018     0.000018     0.000018  ...   \n25%       0.000229     0.000230     0.000231     0.000233     0.000234  ...   \n50%       0.000320     0.000321     0.000323     0.000325     0.000327  ...   \n75%       0.000419     0.000422     0.000424     0.000426     0.000429  ...   \nmax       0.000902     0.000907     0.000912     0.000917     0.000923  ...   \n\n            2495.0       2495.5       2496.0       2496.5       2497.0  \\\ncount  9895.000000  9895.000000  9895.000000  9895.000000  9895.000000   \nmean     -0.000085    -0.000082    -0.000079    -0.000076    -0.000073   \nstd       0.000047     0.000046     0.000046     0.000045     0.000045   \nmin      -0.000558    -0.000557    -0.000556    -0.000555    -0.000554   \n25%      -0.000110    -0.000107    -0.000104    -0.000100    -0.000097   \n50%      -0.000077    -0.000074    -0.000071    -0.000068    -0.000065   \n75%      -0.000051    -0.000049    -0.000046    -0.000043    -0.000040   \nmax       0.000033     0.000035     0.000039     0.000043     0.000047   \n\n            2497.5       2498.0       2498.5       2499.0       2499.5  \ncount  9895.000000  9895.000000  9895.000000  9895.000000  9895.000000  \nmean     -0.000070    -0.000067    -0.000064    -0.000061    -0.000058  \nstd       0.000044     0.000044     0.000044     0.000043     0.000043  \nmin      -0.000554    -0.000553    -0.000552    -0.000551    -0.000550  \n25%      -0.000094    -0.000091    -0.000088    -0.000085    -0.000082  \n50%      -0.000062    -0.000059    -0.000056    -0.000053    -0.000050  \n75%      -0.000038    -0.000035    -0.000032    -0.000029    -0.000026  \nmax       0.000051     0.000055     0.000060     0.000064     0.000068  \n\n[8 rows x 4000 columns]",
      "text/html": "<div>\n<style scoped>\n    .dataframe tbody tr th:only-of-type {\n        vertical-align: middle;\n    }\n\n    .dataframe tbody tr th {\n        vertical-align: top;\n    }\n\n    .dataframe thead th {\n        text-align: right;\n    }\n</style>\n<table border=\"1\" class=\"dataframe\">\n  <thead>\n    <tr style=\"text-align: right;\">\n      <th></th>\n      <th>500.0</th>\n      <th>500.5</th>\n      <th>501.0</th>\n      <th>501.5</th>\n      <th>502.0</th>\n      <th>502.5</th>\n      <th>503.0</th>\n      <th>503.5</th>\n      <th>504.0</th>\n      <th>504.5</th>\n      <th>...</th>\n      <th>2495.0</th>\n      <th>2495.5</th>\n      <th>2496.0</th>\n      <th>2496.5</th>\n      <th>2497.0</th>\n      <th>2497.5</th>\n      <th>2498.0</th>\n      <th>2498.5</th>\n      <th>2499.0</th>\n      <th>2499.5</th>\n    </tr>\n  </thead>\n  <tbody>\n    <tr>\n      <th>count</th>\n      <td>9895.000000</td>\n      <td>9895.000000</td>\n      <td>9895.000000</td>\n      <td>9895.000000</td>\n      <td>9895.000000</td>\n      <td>9895.000000</td>\n      <td>9895.000000</td>\n      <td>9895.000000</td>\n      <td>9895.000000</td>\n      <td>9895.000000</td>\n      <td>...</td>\n      <td>9895.000000</td>\n      <td>9895.000000</td>\n      <td>9895.000000</td>\n      <td>9895.000000</td>\n      <td>9895.000000</td>\n      <td>9895.000000</td>\n      <td>9895.000000</td>\n      <td>9895.000000</td>\n      <td>9895.000000</td>\n      <td>9895.000000</td>\n    </tr>\n    <tr>\n      <th>mean</th>\n      <td>0.000318</td>\n      <td>0.000320</td>\n      <td>0.000322</td>\n      <td>0.000323</td>\n      <td>0.000325</td>\n      <td>0.000327</td>\n      <td>0.000329</td>\n      <td>0.000331</td>\n      <td>0.000333</td>\n      <td>0.000335</td>\n      <td>...</td>\n      <td>-0.000085</td>\n      <td>-0.000082</td>\n      <td>-0.000079</td>\n      <td>-0.000076</td>\n      <td>-0.000073</td>\n      <td>-0.000070</td>\n      <td>-0.000067</td>\n      <td>-0.000064</td>\n      <td>-0.000061</td>\n      <td>-0.000058</td>\n    </tr>\n    <tr>\n      <th>std</th>\n      <td>0.000130</td>\n      <td>0.000131</td>\n      <td>0.000132</td>\n      <td>0.000132</td>\n      <td>0.000133</td>\n      <td>0.000134</td>\n      <td>0.000134</td>\n      <td>0.000135</td>\n      <td>0.000136</td>\n      <td>0.000136</td>\n      <td>...</td>\n      <td>0.000047</td>\n      <td>0.000046</td>\n      <td>0.000046</td>\n      <td>0.000045</td>\n      <td>0.000045</td>\n      <td>0.000044</td>\n      <td>0.000044</td>\n      <td>0.000044</td>\n      <td>0.000043</td>\n      <td>0.000043</td>\n    </tr>\n    <tr>\n      <th>min</th>\n      <td>0.000016</td>\n      <td>0.000016</td>\n      <td>0.000016</td>\n      <td>0.000017</td>\n      <td>0.000017</td>\n      <td>0.000017</td>\n      <td>0.000017</td>\n      <td>0.000018</td>\n      <td>0.000018</td>\n      <td>0.000018</td>\n      <td>...</td>\n      <td>-0.000558</td>\n      <td>-0.000557</td>\n      <td>-0.000556</td>\n      <td>-0.000555</td>\n      <td>-0.000554</td>\n      <td>-0.000554</td>\n      <td>-0.000553</td>\n      <td>-0.000552</td>\n      <td>-0.000551</td>\n      <td>-0.000550</td>\n    </tr>\n    <tr>\n      <th>25%</th>\n      <td>0.000221</td>\n      <td>0.000223</td>\n      <td>0.000224</td>\n      <td>0.000226</td>\n      <td>0.000227</td>\n      <td>0.000229</td>\n      <td>0.000230</td>\n      <td>0.000231</td>\n      <td>0.000233</td>\n      <td>0.000234</td>\n      <td>...</td>\n      <td>-0.000110</td>\n      <td>-0.000107</td>\n      <td>-0.000104</td>\n      <td>-0.000100</td>\n      <td>-0.000097</td>\n      <td>-0.000094</td>\n      <td>-0.000091</td>\n      <td>-0.000088</td>\n      <td>-0.000085</td>\n      <td>-0.000082</td>\n    </tr>\n    <tr>\n      <th>50%</th>\n      <td>0.000310</td>\n      <td>0.000312</td>\n      <td>0.000314</td>\n      <td>0.000316</td>\n      <td>0.000318</td>\n      <td>0.000320</td>\n      <td>0.000321</td>\n      <td>0.000323</td>\n      <td>0.000325</td>\n      <td>0.000327</td>\n      <td>...</td>\n      <td>-0.000077</td>\n      <td>-0.000074</td>\n      <td>-0.000071</td>\n      <td>-0.000068</td>\n      <td>-0.000065</td>\n      <td>-0.000062</td>\n      <td>-0.000059</td>\n      <td>-0.000056</td>\n      <td>-0.000053</td>\n      <td>-0.000050</td>\n    </tr>\n    <tr>\n      <th>75%</th>\n      <td>0.000408</td>\n      <td>0.000410</td>\n      <td>0.000412</td>\n      <td>0.000415</td>\n      <td>0.000417</td>\n      <td>0.000419</td>\n      <td>0.000422</td>\n      <td>0.000424</td>\n      <td>0.000426</td>\n      <td>0.000429</td>\n      <td>...</td>\n      <td>-0.000051</td>\n      <td>-0.000049</td>\n      <td>-0.000046</td>\n      <td>-0.000043</td>\n      <td>-0.000040</td>\n      <td>-0.000038</td>\n      <td>-0.000035</td>\n      <td>-0.000032</td>\n      <td>-0.000029</td>\n      <td>-0.000026</td>\n    </tr>\n    <tr>\n      <th>max</th>\n      <td>0.000876</td>\n      <td>0.000881</td>\n      <td>0.000887</td>\n      <td>0.000892</td>\n      <td>0.000897</td>\n      <td>0.000902</td>\n      <td>0.000907</td>\n      <td>0.000912</td>\n      <td>0.000917</td>\n      <td>0.000923</td>\n      <td>...</td>\n      <td>0.000033</td>\n      <td>0.000035</td>\n      <td>0.000039</td>\n      <td>0.000043</td>\n      <td>0.000047</td>\n      <td>0.000051</td>\n      <td>0.000055</td>\n      <td>0.000060</td>\n      <td>0.000064</td>\n      <td>0.000068</td>\n    </tr>\n  </tbody>\n</table>\n<p>8 rows × 4000 columns</p>\n</div>"
     },
     "execution_count": 31,
     "metadata": {},
     "output_type": "execute_result"
    }
   ],
   "source": [
    "df.describe()"
   ],
   "metadata": {
    "collapsed": false,
    "ExecuteTime": {
     "end_time": "2023-11-14T12:29:01.307608Z",
     "start_time": "2023-11-14T12:28:57.984172Z"
    }
   },
   "id": "7d5cc82ced1a146"
  },
  {
   "cell_type": "markdown",
   "source": [
    "Create Scaler and scala data"
   ],
   "metadata": {
    "collapsed": false
   },
   "id": "39fad3e092fb7bb"
  },
  {
   "cell_type": "code",
   "execution_count": 21,
   "outputs": [
    {
     "data": {
      "text/plain": "         500.0     500.5     501.0     501.5     502.0     502.5     503.0  \\\n0    -0.317694 -0.318224 -0.318744 -0.319256 -0.319759 -0.320253 -0.320739   \n1     0.256876  0.254926  0.252993  0.251076  0.249174  0.247289  0.245420   \n2     0.091526  0.090582  0.089648  0.088721  0.087803  0.086892  0.085990   \n3    -0.132203 -0.129195 -0.126215 -0.123263 -0.120339 -0.117442 -0.114573   \n4     0.536071  0.533381  0.530712  0.528063  0.525434  0.522825  0.520236   \n...        ...       ...       ...       ...       ...       ...       ...   \n9890  1.068931  1.065211  1.061515  1.057844  1.054196  1.050572  1.046972   \n9891 -0.533231 -0.528060 -0.522935 -0.517854 -0.512817 -0.507825 -0.502875   \n9892  0.557028  0.562643  0.568195  0.573686  0.579116  0.584485  0.589796   \n9893  0.121474  0.111586  0.101796  0.092101  0.082501  0.072994  0.063580   \n9894  0.152914  0.159772  0.166560  0.173278  0.179929  0.186511  0.193027   \n\n         503.5     504.0     504.5  ...    2495.0    2495.5    2496.0  \\\n0    -0.321217 -0.321686 -0.322148  ...  0.320884  0.311196  0.301124   \n1     0.243566  0.241727  0.239904  ...  0.953367  0.949280  0.944598   \n2     0.085095  0.084209  0.083330  ... -0.016399 -0.031121 -0.046161   \n3    -0.111730 -0.108914 -0.106124  ... -0.503614 -0.486400 -0.468538   \n4     0.517667  0.515117  0.512587  ...  0.194378  0.177311  0.159763   \n...        ...       ...       ...  ...       ...       ...       ...   \n9890  1.043396  1.039844  1.036315  ... -1.896294 -1.884456 -1.871355   \n9891 -0.497969 -0.493105 -0.488283  ...  0.317374  0.315407  0.313229   \n9892  0.595047  0.600241  0.605379  ... -1.968334 -1.971239 -1.973170   \n9893  0.054258  0.045026  0.035884  ...  1.528755  1.514539  1.499200   \n9894  0.199477  0.205862  0.212182  ...  0.451743  0.476588  0.501746   \n\n        2496.5    2497.0    2497.5    2498.0    2498.5    2499.0    2499.5  \n0     0.290665  0.279820  0.268590  0.256980  0.244997  0.232651  0.219954  \n1     0.939293  0.933338  0.926704  0.919368  0.911309  0.902508  0.892950  \n2    -0.061504 -0.077135 -0.093032 -0.109173 -0.125532 -0.142080 -0.158787  \n3    -0.450026 -0.430868 -0.411068 -0.390637 -0.369589 -0.347943 -0.325724  \n4     0.141743  0.123262  0.104338  0.084991  0.065242  0.045121  0.024658  \n...        ...       ...       ...       ...       ...       ...       ...  \n9890 -1.856935 -1.841145 -1.823937 -1.805269 -1.785104 -1.763413 -1.740174  \n9891  0.310831  0.308203  0.305338  0.302229  0.298870  0.295256  0.291383  \n9892 -1.974056 -1.973825 -1.972409 -1.969740 -1.965754 -1.960391 -1.953597  \n9893  1.482700  1.465000  1.446070  1.425882  1.404414  1.381652  1.357588  \n9894  0.527179  0.552842  0.578688  0.604665  0.630717  0.656782  0.682799  \n\n[9895 rows x 4000 columns]",
      "text/html": "<div>\n<style scoped>\n    .dataframe tbody tr th:only-of-type {\n        vertical-align: middle;\n    }\n\n    .dataframe tbody tr th {\n        vertical-align: top;\n    }\n\n    .dataframe thead th {\n        text-align: right;\n    }\n</style>\n<table border=\"1\" class=\"dataframe\">\n  <thead>\n    <tr style=\"text-align: right;\">\n      <th></th>\n      <th>500.0</th>\n      <th>500.5</th>\n      <th>501.0</th>\n      <th>501.5</th>\n      <th>502.0</th>\n      <th>502.5</th>\n      <th>503.0</th>\n      <th>503.5</th>\n      <th>504.0</th>\n      <th>504.5</th>\n      <th>...</th>\n      <th>2495.0</th>\n      <th>2495.5</th>\n      <th>2496.0</th>\n      <th>2496.5</th>\n      <th>2497.0</th>\n      <th>2497.5</th>\n      <th>2498.0</th>\n      <th>2498.5</th>\n      <th>2499.0</th>\n      <th>2499.5</th>\n    </tr>\n  </thead>\n  <tbody>\n    <tr>\n      <th>0</th>\n      <td>-0.317694</td>\n      <td>-0.318224</td>\n      <td>-0.318744</td>\n      <td>-0.319256</td>\n      <td>-0.319759</td>\n      <td>-0.320253</td>\n      <td>-0.320739</td>\n      <td>-0.321217</td>\n      <td>-0.321686</td>\n      <td>-0.322148</td>\n      <td>...</td>\n      <td>0.320884</td>\n      <td>0.311196</td>\n      <td>0.301124</td>\n      <td>0.290665</td>\n      <td>0.279820</td>\n      <td>0.268590</td>\n      <td>0.256980</td>\n      <td>0.244997</td>\n      <td>0.232651</td>\n      <td>0.219954</td>\n    </tr>\n    <tr>\n      <th>1</th>\n      <td>0.256876</td>\n      <td>0.254926</td>\n      <td>0.252993</td>\n      <td>0.251076</td>\n      <td>0.249174</td>\n      <td>0.247289</td>\n      <td>0.245420</td>\n      <td>0.243566</td>\n      <td>0.241727</td>\n      <td>0.239904</td>\n      <td>...</td>\n      <td>0.953367</td>\n      <td>0.949280</td>\n      <td>0.944598</td>\n      <td>0.939293</td>\n      <td>0.933338</td>\n      <td>0.926704</td>\n      <td>0.919368</td>\n      <td>0.911309</td>\n      <td>0.902508</td>\n      <td>0.892950</td>\n    </tr>\n    <tr>\n      <th>2</th>\n      <td>0.091526</td>\n      <td>0.090582</td>\n      <td>0.089648</td>\n      <td>0.088721</td>\n      <td>0.087803</td>\n      <td>0.086892</td>\n      <td>0.085990</td>\n      <td>0.085095</td>\n      <td>0.084209</td>\n      <td>0.083330</td>\n      <td>...</td>\n      <td>-0.016399</td>\n      <td>-0.031121</td>\n      <td>-0.046161</td>\n      <td>-0.061504</td>\n      <td>-0.077135</td>\n      <td>-0.093032</td>\n      <td>-0.109173</td>\n      <td>-0.125532</td>\n      <td>-0.142080</td>\n      <td>-0.158787</td>\n    </tr>\n    <tr>\n      <th>3</th>\n      <td>-0.132203</td>\n      <td>-0.129195</td>\n      <td>-0.126215</td>\n      <td>-0.123263</td>\n      <td>-0.120339</td>\n      <td>-0.117442</td>\n      <td>-0.114573</td>\n      <td>-0.111730</td>\n      <td>-0.108914</td>\n      <td>-0.106124</td>\n      <td>...</td>\n      <td>-0.503614</td>\n      <td>-0.486400</td>\n      <td>-0.468538</td>\n      <td>-0.450026</td>\n      <td>-0.430868</td>\n      <td>-0.411068</td>\n      <td>-0.390637</td>\n      <td>-0.369589</td>\n      <td>-0.347943</td>\n      <td>-0.325724</td>\n    </tr>\n    <tr>\n      <th>4</th>\n      <td>0.536071</td>\n      <td>0.533381</td>\n      <td>0.530712</td>\n      <td>0.528063</td>\n      <td>0.525434</td>\n      <td>0.522825</td>\n      <td>0.520236</td>\n      <td>0.517667</td>\n      <td>0.515117</td>\n      <td>0.512587</td>\n      <td>...</td>\n      <td>0.194378</td>\n      <td>0.177311</td>\n      <td>0.159763</td>\n      <td>0.141743</td>\n      <td>0.123262</td>\n      <td>0.104338</td>\n      <td>0.084991</td>\n      <td>0.065242</td>\n      <td>0.045121</td>\n      <td>0.024658</td>\n    </tr>\n    <tr>\n      <th>...</th>\n      <td>...</td>\n      <td>...</td>\n      <td>...</td>\n      <td>...</td>\n      <td>...</td>\n      <td>...</td>\n      <td>...</td>\n      <td>...</td>\n      <td>...</td>\n      <td>...</td>\n      <td>...</td>\n      <td>...</td>\n      <td>...</td>\n      <td>...</td>\n      <td>...</td>\n      <td>...</td>\n      <td>...</td>\n      <td>...</td>\n      <td>...</td>\n      <td>...</td>\n      <td>...</td>\n    </tr>\n    <tr>\n      <th>9890</th>\n      <td>1.068931</td>\n      <td>1.065211</td>\n      <td>1.061515</td>\n      <td>1.057844</td>\n      <td>1.054196</td>\n      <td>1.050572</td>\n      <td>1.046972</td>\n      <td>1.043396</td>\n      <td>1.039844</td>\n      <td>1.036315</td>\n      <td>...</td>\n      <td>-1.896294</td>\n      <td>-1.884456</td>\n      <td>-1.871355</td>\n      <td>-1.856935</td>\n      <td>-1.841145</td>\n      <td>-1.823937</td>\n      <td>-1.805269</td>\n      <td>-1.785104</td>\n      <td>-1.763413</td>\n      <td>-1.740174</td>\n    </tr>\n    <tr>\n      <th>9891</th>\n      <td>-0.533231</td>\n      <td>-0.528060</td>\n      <td>-0.522935</td>\n      <td>-0.517854</td>\n      <td>-0.512817</td>\n      <td>-0.507825</td>\n      <td>-0.502875</td>\n      <td>-0.497969</td>\n      <td>-0.493105</td>\n      <td>-0.488283</td>\n      <td>...</td>\n      <td>0.317374</td>\n      <td>0.315407</td>\n      <td>0.313229</td>\n      <td>0.310831</td>\n      <td>0.308203</td>\n      <td>0.305338</td>\n      <td>0.302229</td>\n      <td>0.298870</td>\n      <td>0.295256</td>\n      <td>0.291383</td>\n    </tr>\n    <tr>\n      <th>9892</th>\n      <td>0.557028</td>\n      <td>0.562643</td>\n      <td>0.568195</td>\n      <td>0.573686</td>\n      <td>0.579116</td>\n      <td>0.584485</td>\n      <td>0.589796</td>\n      <td>0.595047</td>\n      <td>0.600241</td>\n      <td>0.605379</td>\n      <td>...</td>\n      <td>-1.968334</td>\n      <td>-1.971239</td>\n      <td>-1.973170</td>\n      <td>-1.974056</td>\n      <td>-1.973825</td>\n      <td>-1.972409</td>\n      <td>-1.969740</td>\n      <td>-1.965754</td>\n      <td>-1.960391</td>\n      <td>-1.953597</td>\n    </tr>\n    <tr>\n      <th>9893</th>\n      <td>0.121474</td>\n      <td>0.111586</td>\n      <td>0.101796</td>\n      <td>0.092101</td>\n      <td>0.082501</td>\n      <td>0.072994</td>\n      <td>0.063580</td>\n      <td>0.054258</td>\n      <td>0.045026</td>\n      <td>0.035884</td>\n      <td>...</td>\n      <td>1.528755</td>\n      <td>1.514539</td>\n      <td>1.499200</td>\n      <td>1.482700</td>\n      <td>1.465000</td>\n      <td>1.446070</td>\n      <td>1.425882</td>\n      <td>1.404414</td>\n      <td>1.381652</td>\n      <td>1.357588</td>\n    </tr>\n    <tr>\n      <th>9894</th>\n      <td>0.152914</td>\n      <td>0.159772</td>\n      <td>0.166560</td>\n      <td>0.173278</td>\n      <td>0.179929</td>\n      <td>0.186511</td>\n      <td>0.193027</td>\n      <td>0.199477</td>\n      <td>0.205862</td>\n      <td>0.212182</td>\n      <td>...</td>\n      <td>0.451743</td>\n      <td>0.476588</td>\n      <td>0.501746</td>\n      <td>0.527179</td>\n      <td>0.552842</td>\n      <td>0.578688</td>\n      <td>0.604665</td>\n      <td>0.630717</td>\n      <td>0.656782</td>\n      <td>0.682799</td>\n    </tr>\n  </tbody>\n</table>\n<p>9895 rows × 4000 columns</p>\n</div>"
     },
     "execution_count": 21,
     "metadata": {},
     "output_type": "execute_result"
    }
   ],
   "source": [
    "# TODO: Maybe try a z-transfromtion stead of the standardscaler\n",
    "scaler = StandardScaler()\n",
    "scaled_data = scaler.fit_transform(df)\n",
    "scaled_df = pd.DataFrame(scaled_data, columns=df.columns)\n",
    "scaled_df"
   ],
   "metadata": {
    "collapsed": false,
    "ExecuteTime": {
     "end_time": "2023-11-14T12:27:19.745874Z",
     "start_time": "2023-11-14T12:27:19.381516Z"
    }
   },
   "id": "75e96b70268eeea5"
  },
  {
   "cell_type": "markdown",
   "source": [
    "Use lable encoder to transform high, low, etc to 1, 2, 3, 4, 5"
   ],
   "metadata": {
    "collapsed": false
   },
   "id": "eacdcb5c19415721"
  },
  {
   "cell_type": "code",
   "execution_count": 22,
   "outputs": [],
   "source": [
    "label_encoder = LabelEncoder()\n",
    "labels.x = label_encoder.fit_transform(labels.x)"
   ],
   "metadata": {
    "collapsed": false,
    "ExecuteTime": {
     "end_time": "2023-11-14T12:27:19.748295Z",
     "start_time": "2023-11-14T12:27:19.746798Z"
    }
   },
   "id": "2960e9f266c30ec8"
  },
  {
   "cell_type": "markdown",
   "source": [
    "Split Dataset into Training- and Testset"
   ],
   "metadata": {
    "collapsed": false
   },
   "id": "faf64fcb7826e5b"
  },
  {
   "cell_type": "code",
   "execution_count": 23,
   "outputs": [],
   "source": [
    "X_train, X_test, y_train, y_test = train_test_split(scaled_data, labels, test_size=0.2, random_state=42)"
   ],
   "metadata": {
    "collapsed": false,
    "ExecuteTime": {
     "end_time": "2023-11-14T12:27:20.087307Z",
     "start_time": "2023-11-14T12:27:19.748441Z"
    }
   },
   "id": "b1f249160c50def9"
  },
  {
   "cell_type": "markdown",
   "source": [
    "Create XGBoost Classifier"
   ],
   "metadata": {
    "collapsed": false
   },
   "id": "ec07d0f403953f87"
  },
  {
   "cell_type": "code",
   "execution_count": 24,
   "outputs": [
    {
     "data": {
      "text/plain": "XGBClassifier(base_score=None, booster=None, callbacks=None,\n              colsample_bylevel=None, colsample_bynode=None,\n              colsample_bytree=None, device=None, early_stopping_rounds=None,\n              enable_categorical=False, eval_metric=None, feature_types=None,\n              gamma=None, grow_policy=None, importance_type=None,\n              interaction_constraints=None, learning_rate=0.02, max_bin=None,\n              max_cat_threshold=None, max_cat_to_onehot=None,\n              max_delta_step=None, max_depth=None, max_leaves=None,\n              min_child_weight=None, missing=nan, monotone_constraints=None,\n              multi_strategy=None, n_estimators=10, n_jobs=None, num_class=5,\n              num_parallel_tree=None, ...)",
      "text/html": "<style>#sk-container-id-2 {color: black;}#sk-container-id-2 pre{padding: 0;}#sk-container-id-2 div.sk-toggleable {background-color: white;}#sk-container-id-2 label.sk-toggleable__label {cursor: pointer;display: block;width: 100%;margin-bottom: 0;padding: 0.3em;box-sizing: border-box;text-align: center;}#sk-container-id-2 label.sk-toggleable__label-arrow:before {content: \"▸\";float: left;margin-right: 0.25em;color: #696969;}#sk-container-id-2 label.sk-toggleable__label-arrow:hover:before {color: black;}#sk-container-id-2 div.sk-estimator:hover label.sk-toggleable__label-arrow:before {color: black;}#sk-container-id-2 div.sk-toggleable__content {max-height: 0;max-width: 0;overflow: hidden;text-align: left;background-color: #f0f8ff;}#sk-container-id-2 div.sk-toggleable__content pre {margin: 0.2em;color: black;border-radius: 0.25em;background-color: #f0f8ff;}#sk-container-id-2 input.sk-toggleable__control:checked~div.sk-toggleable__content {max-height: 200px;max-width: 100%;overflow: auto;}#sk-container-id-2 input.sk-toggleable__control:checked~label.sk-toggleable__label-arrow:before {content: \"▾\";}#sk-container-id-2 div.sk-estimator input.sk-toggleable__control:checked~label.sk-toggleable__label {background-color: #d4ebff;}#sk-container-id-2 div.sk-label input.sk-toggleable__control:checked~label.sk-toggleable__label {background-color: #d4ebff;}#sk-container-id-2 input.sk-hidden--visually {border: 0;clip: rect(1px 1px 1px 1px);clip: rect(1px, 1px, 1px, 1px);height: 1px;margin: -1px;overflow: hidden;padding: 0;position: absolute;width: 1px;}#sk-container-id-2 div.sk-estimator {font-family: monospace;background-color: #f0f8ff;border: 1px dotted black;border-radius: 0.25em;box-sizing: border-box;margin-bottom: 0.5em;}#sk-container-id-2 div.sk-estimator:hover {background-color: #d4ebff;}#sk-container-id-2 div.sk-parallel-item::after {content: \"\";width: 100%;border-bottom: 1px solid gray;flex-grow: 1;}#sk-container-id-2 div.sk-label:hover label.sk-toggleable__label {background-color: #d4ebff;}#sk-container-id-2 div.sk-serial::before {content: \"\";position: absolute;border-left: 1px solid gray;box-sizing: border-box;top: 0;bottom: 0;left: 50%;z-index: 0;}#sk-container-id-2 div.sk-serial {display: flex;flex-direction: column;align-items: center;background-color: white;padding-right: 0.2em;padding-left: 0.2em;position: relative;}#sk-container-id-2 div.sk-item {position: relative;z-index: 1;}#sk-container-id-2 div.sk-parallel {display: flex;align-items: stretch;justify-content: center;background-color: white;position: relative;}#sk-container-id-2 div.sk-item::before, #sk-container-id-2 div.sk-parallel-item::before {content: \"\";position: absolute;border-left: 1px solid gray;box-sizing: border-box;top: 0;bottom: 0;left: 50%;z-index: -1;}#sk-container-id-2 div.sk-parallel-item {display: flex;flex-direction: column;z-index: 1;position: relative;background-color: white;}#sk-container-id-2 div.sk-parallel-item:first-child::after {align-self: flex-end;width: 50%;}#sk-container-id-2 div.sk-parallel-item:last-child::after {align-self: flex-start;width: 50%;}#sk-container-id-2 div.sk-parallel-item:only-child::after {width: 0;}#sk-container-id-2 div.sk-dashed-wrapped {border: 1px dashed gray;margin: 0 0.4em 0.5em 0.4em;box-sizing: border-box;padding-bottom: 0.4em;background-color: white;}#sk-container-id-2 div.sk-label label {font-family: monospace;font-weight: bold;display: inline-block;line-height: 1.2em;}#sk-container-id-2 div.sk-label-container {text-align: center;}#sk-container-id-2 div.sk-container {/* jupyter's `normalize.less` sets `[hidden] { display: none; }` but bootstrap.min.css set `[hidden] { display: none !important; }` so we also need the `!important` here to be able to override the default hidden behavior on the sphinx rendered scikit-learn.org. See: https://github.com/scikit-learn/scikit-learn/issues/21755 */display: inline-block !important;position: relative;}#sk-container-id-2 div.sk-text-repr-fallback {display: none;}</style><div id=\"sk-container-id-2\" class=\"sk-top-container\"><div class=\"sk-text-repr-fallback\"><pre>XGBClassifier(base_score=None, booster=None, callbacks=None,\n              colsample_bylevel=None, colsample_bynode=None,\n              colsample_bytree=None, device=None, early_stopping_rounds=None,\n              enable_categorical=False, eval_metric=None, feature_types=None,\n              gamma=None, grow_policy=None, importance_type=None,\n              interaction_constraints=None, learning_rate=0.02, max_bin=None,\n              max_cat_threshold=None, max_cat_to_onehot=None,\n              max_delta_step=None, max_depth=None, max_leaves=None,\n              min_child_weight=None, missing=nan, monotone_constraints=None,\n              multi_strategy=None, n_estimators=10, n_jobs=None, num_class=5,\n              num_parallel_tree=None, ...)</pre><b>In a Jupyter environment, please rerun this cell to show the HTML representation or trust the notebook. <br />On GitHub, the HTML representation is unable to render, please try loading this page with nbviewer.org.</b></div><div class=\"sk-container\" hidden><div class=\"sk-item\"><div class=\"sk-estimator sk-toggleable\"><input class=\"sk-toggleable__control sk-hidden--visually\" id=\"sk-estimator-id-2\" type=\"checkbox\" checked><label for=\"sk-estimator-id-2\" class=\"sk-toggleable__label sk-toggleable__label-arrow\">XGBClassifier</label><div class=\"sk-toggleable__content\"><pre>XGBClassifier(base_score=None, booster=None, callbacks=None,\n              colsample_bylevel=None, colsample_bynode=None,\n              colsample_bytree=None, device=None, early_stopping_rounds=None,\n              enable_categorical=False, eval_metric=None, feature_types=None,\n              gamma=None, grow_policy=None, importance_type=None,\n              interaction_constraints=None, learning_rate=0.02, max_bin=None,\n              max_cat_threshold=None, max_cat_to_onehot=None,\n              max_delta_step=None, max_depth=None, max_leaves=None,\n              min_child_weight=None, missing=nan, monotone_constraints=None,\n              multi_strategy=None, n_estimators=10, n_jobs=None, num_class=5,\n              num_parallel_tree=None, ...)</pre></div></div></div></div></div>"
     },
     "execution_count": 24,
     "metadata": {},
     "output_type": "execute_result"
    }
   ],
   "source": [
    "if useGpu:\n",
    "    clf = xgb.XGBClassifier(learning_rate=0.02, n_estimators=10, objective='multi:softmax',\n",
    "                            num_class=len(pd.unique(labels.x)), tree_method = \"hist\", device = \"cuda\")\n",
    "else:\n",
    "    clf = xgb.XGBClassifier(learning_rate=0.02, n_estimators=10, objective='multi:softmax',\n",
    "                            num_class=len(pd.unique(labels.x)))\n",
    "    \n",
    "clf"
   ],
   "metadata": {
    "collapsed": false,
    "ExecuteTime": {
     "end_time": "2023-11-14T12:27:20.097394Z",
     "start_time": "2023-11-14T12:27:20.088869Z"
    }
   },
   "id": "4534403da2794be6"
  },
  {
   "cell_type": "markdown",
   "source": [
    "Create Parametergrid for Gridsearch / Randomsearch"
   ],
   "metadata": {
    "collapsed": false
   },
   "id": "9978689ca2ca5a2a"
  },
  {
   "cell_type": "code",
   "execution_count": 25,
   "outputs": [
    {
     "data": {
      "text/plain": "{'subsample': [0.6, 0.8, 1.0],\n 'colsample_bytree': [1.0, 1.2],\n 'gamma': [1],\n 'min_child_weight': [5, 10],\n 'max_depth': [3],\n 'n_estimators': [550, 583, 616, 650],\n 'learning_rate': [0.1, 0.05, 0.15]}"
     },
     "execution_count": 25,
     "metadata": {},
     "output_type": "execute_result"
    }
   ],
   "source": [
    "param_grid = {\n",
    "    'subsample': [0.6, 0.8, 1.0],\n",
    "    'colsample_bytree': [1.0, 1.2],\n",
    "    'gamma': [1],\n",
    "    'min_child_weight': [5, 10],\n",
    "    'max_depth': [3],\n",
    "    'n_estimators': [int(x) for x in np.linspace(start = 550, stop = 650, num = 4)],\n",
    "    'learning_rate': [0.1, 0.05, 0.15]\n",
    "}\n",
    "param_grid"
   ],
   "metadata": {
    "collapsed": false,
    "ExecuteTime": {
     "end_time": "2023-11-14T12:27:20.098568Z",
     "start_time": "2023-11-14T12:27:20.094935Z"
    }
   },
   "id": "5af4b9c67bfa0843"
  },
  {
   "cell_type": "markdown",
   "source": [
    "Create Scoring method"
   ],
   "metadata": {
    "collapsed": false
   },
   "id": "df1858faa98723b5"
  },
  {
   "cell_type": "code",
   "execution_count": 26,
   "outputs": [],
   "source": [
    "scorer = make_scorer(f1_score, average='micro')"
   ],
   "metadata": {
    "collapsed": false,
    "ExecuteTime": {
     "end_time": "2023-11-14T12:27:20.100841Z",
     "start_time": "2023-11-14T12:27:20.098155Z"
    }
   },
   "id": "1b7d66cf9374702b"
  },
  {
   "cell_type": "markdown",
   "source": [
    "Run Grid/Randomsearch"
   ],
   "metadata": {
    "collapsed": false
   },
   "id": "b44579bd749453ba"
  },
  {
   "cell_type": "code",
   "execution_count": 27,
   "outputs": [
    {
     "name": "stdout",
     "output_type": "stream",
     "text": [
      "Fitting 5 folds for each of 144 candidates, totalling 720 fits\n"
     ]
    },
    {
     "ename": "KeyboardInterrupt",
     "evalue": "",
     "output_type": "error",
     "traceback": [
      "\u001B[0;31m---------------------------------------------------------------------------\u001B[0m",
      "\u001B[0;31mKeyboardInterrupt\u001B[0m                         Traceback (most recent call last)",
      "Cell \u001B[0;32mIn[27], line 5\u001B[0m\n\u001B[1;32m      1\u001B[0m grid_search \u001B[38;5;241m=\u001B[39m GridSearchCV(clf, param_grid, cv\u001B[38;5;241m=\u001B[39m\u001B[38;5;241m5\u001B[39m, refit\u001B[38;5;241m=\u001B[39m\u001B[38;5;28;01mTrue\u001B[39;00m, verbose\u001B[38;5;241m=\u001B[39m\u001B[38;5;241m3\u001B[39m, n_jobs\u001B[38;5;241m=\u001B[39m\u001B[38;5;241m-\u001B[39m\u001B[38;5;241m1\u001B[39m,\n\u001B[1;32m      2\u001B[0m                     pre_dispatch\u001B[38;5;241m=\u001B[39mpre_dispatch_jobs)\n\u001B[1;32m      4\u001B[0m fit_time \u001B[38;5;241m=\u001B[39m time\u001B[38;5;241m.\u001B[39mperf_counter()\n\u001B[0;32m----> 5\u001B[0m grid_search\u001B[38;5;241m.\u001B[39mfit(X_train, y_train)\n\u001B[1;32m      6\u001B[0m fit_time \u001B[38;5;241m=\u001B[39m np\u001B[38;5;241m.\u001B[39mround(time\u001B[38;5;241m.\u001B[39mperf_counter() \u001B[38;5;241m-\u001B[39m fit_time)\n\u001B[1;32m      7\u001B[0m \u001B[38;5;28mprint\u001B[39m(\u001B[38;5;124mf\u001B[39m\u001B[38;5;124m\"\u001B[39m\u001B[38;5;124mTotal Time to fit \u001B[39m\u001B[38;5;132;01m{\u001B[39;00mfit_time\u001B[38;5;132;01m}\u001B[39;00m\u001B[38;5;124m\"\u001B[39m)\n",
      "File \u001B[0;32m~/anaconda3/lib/python3.11/site-packages/sklearn/base.py:1151\u001B[0m, in \u001B[0;36m_fit_context.<locals>.decorator.<locals>.wrapper\u001B[0;34m(estimator, *args, **kwargs)\u001B[0m\n\u001B[1;32m   1144\u001B[0m     estimator\u001B[38;5;241m.\u001B[39m_validate_params()\n\u001B[1;32m   1146\u001B[0m \u001B[38;5;28;01mwith\u001B[39;00m config_context(\n\u001B[1;32m   1147\u001B[0m     skip_parameter_validation\u001B[38;5;241m=\u001B[39m(\n\u001B[1;32m   1148\u001B[0m         prefer_skip_nested_validation \u001B[38;5;129;01mor\u001B[39;00m global_skip_validation\n\u001B[1;32m   1149\u001B[0m     )\n\u001B[1;32m   1150\u001B[0m ):\n\u001B[0;32m-> 1151\u001B[0m     \u001B[38;5;28;01mreturn\u001B[39;00m fit_method(estimator, \u001B[38;5;241m*\u001B[39margs, \u001B[38;5;241m*\u001B[39m\u001B[38;5;241m*\u001B[39mkwargs)\n",
      "File \u001B[0;32m~/anaconda3/lib/python3.11/site-packages/sklearn/model_selection/_search.py:898\u001B[0m, in \u001B[0;36mBaseSearchCV.fit\u001B[0;34m(self, X, y, groups, **fit_params)\u001B[0m\n\u001B[1;32m    892\u001B[0m     results \u001B[38;5;241m=\u001B[39m \u001B[38;5;28mself\u001B[39m\u001B[38;5;241m.\u001B[39m_format_results(\n\u001B[1;32m    893\u001B[0m         all_candidate_params, n_splits, all_out, all_more_results\n\u001B[1;32m    894\u001B[0m     )\n\u001B[1;32m    896\u001B[0m     \u001B[38;5;28;01mreturn\u001B[39;00m results\n\u001B[0;32m--> 898\u001B[0m \u001B[38;5;28mself\u001B[39m\u001B[38;5;241m.\u001B[39m_run_search(evaluate_candidates)\n\u001B[1;32m    900\u001B[0m \u001B[38;5;66;03m# multimetric is determined here because in the case of a callable\u001B[39;00m\n\u001B[1;32m    901\u001B[0m \u001B[38;5;66;03m# self.scoring the return type is only known after calling\u001B[39;00m\n\u001B[1;32m    902\u001B[0m first_test_score \u001B[38;5;241m=\u001B[39m all_out[\u001B[38;5;241m0\u001B[39m][\u001B[38;5;124m\"\u001B[39m\u001B[38;5;124mtest_scores\u001B[39m\u001B[38;5;124m\"\u001B[39m]\n",
      "File \u001B[0;32m~/anaconda3/lib/python3.11/site-packages/sklearn/model_selection/_search.py:1419\u001B[0m, in \u001B[0;36mGridSearchCV._run_search\u001B[0;34m(self, evaluate_candidates)\u001B[0m\n\u001B[1;32m   1417\u001B[0m \u001B[38;5;28;01mdef\u001B[39;00m \u001B[38;5;21m_run_search\u001B[39m(\u001B[38;5;28mself\u001B[39m, evaluate_candidates):\n\u001B[1;32m   1418\u001B[0m \u001B[38;5;250m    \u001B[39m\u001B[38;5;124;03m\"\"\"Search all candidates in param_grid\"\"\"\u001B[39;00m\n\u001B[0;32m-> 1419\u001B[0m     evaluate_candidates(ParameterGrid(\u001B[38;5;28mself\u001B[39m\u001B[38;5;241m.\u001B[39mparam_grid))\n",
      "File \u001B[0;32m~/anaconda3/lib/python3.11/site-packages/sklearn/model_selection/_search.py:845\u001B[0m, in \u001B[0;36mBaseSearchCV.fit.<locals>.evaluate_candidates\u001B[0;34m(candidate_params, cv, more_results)\u001B[0m\n\u001B[1;32m    837\u001B[0m \u001B[38;5;28;01mif\u001B[39;00m \u001B[38;5;28mself\u001B[39m\u001B[38;5;241m.\u001B[39mverbose \u001B[38;5;241m>\u001B[39m \u001B[38;5;241m0\u001B[39m:\n\u001B[1;32m    838\u001B[0m     \u001B[38;5;28mprint\u001B[39m(\n\u001B[1;32m    839\u001B[0m         \u001B[38;5;124m\"\u001B[39m\u001B[38;5;124mFitting \u001B[39m\u001B[38;5;132;01m{0}\u001B[39;00m\u001B[38;5;124m folds for each of \u001B[39m\u001B[38;5;132;01m{1}\u001B[39;00m\u001B[38;5;124m candidates,\u001B[39m\u001B[38;5;124m\"\u001B[39m\n\u001B[1;32m    840\u001B[0m         \u001B[38;5;124m\"\u001B[39m\u001B[38;5;124m totalling \u001B[39m\u001B[38;5;132;01m{2}\u001B[39;00m\u001B[38;5;124m fits\u001B[39m\u001B[38;5;124m\"\u001B[39m\u001B[38;5;241m.\u001B[39mformat(\n\u001B[1;32m    841\u001B[0m             n_splits, n_candidates, n_candidates \u001B[38;5;241m*\u001B[39m n_splits\n\u001B[1;32m    842\u001B[0m         )\n\u001B[1;32m    843\u001B[0m     )\n\u001B[0;32m--> 845\u001B[0m out \u001B[38;5;241m=\u001B[39m parallel(\n\u001B[1;32m    846\u001B[0m     delayed(_fit_and_score)(\n\u001B[1;32m    847\u001B[0m         clone(base_estimator),\n\u001B[1;32m    848\u001B[0m         X,\n\u001B[1;32m    849\u001B[0m         y,\n\u001B[1;32m    850\u001B[0m         train\u001B[38;5;241m=\u001B[39mtrain,\n\u001B[1;32m    851\u001B[0m         test\u001B[38;5;241m=\u001B[39mtest,\n\u001B[1;32m    852\u001B[0m         parameters\u001B[38;5;241m=\u001B[39mparameters,\n\u001B[1;32m    853\u001B[0m         split_progress\u001B[38;5;241m=\u001B[39m(split_idx, n_splits),\n\u001B[1;32m    854\u001B[0m         candidate_progress\u001B[38;5;241m=\u001B[39m(cand_idx, n_candidates),\n\u001B[1;32m    855\u001B[0m         \u001B[38;5;241m*\u001B[39m\u001B[38;5;241m*\u001B[39mfit_and_score_kwargs,\n\u001B[1;32m    856\u001B[0m     )\n\u001B[1;32m    857\u001B[0m     \u001B[38;5;28;01mfor\u001B[39;00m (cand_idx, parameters), (split_idx, (train, test)) \u001B[38;5;129;01min\u001B[39;00m product(\n\u001B[1;32m    858\u001B[0m         \u001B[38;5;28menumerate\u001B[39m(candidate_params), \u001B[38;5;28menumerate\u001B[39m(cv\u001B[38;5;241m.\u001B[39msplit(X, y, groups))\n\u001B[1;32m    859\u001B[0m     )\n\u001B[1;32m    860\u001B[0m )\n\u001B[1;32m    862\u001B[0m \u001B[38;5;28;01mif\u001B[39;00m \u001B[38;5;28mlen\u001B[39m(out) \u001B[38;5;241m<\u001B[39m \u001B[38;5;241m1\u001B[39m:\n\u001B[1;32m    863\u001B[0m     \u001B[38;5;28;01mraise\u001B[39;00m \u001B[38;5;167;01mValueError\u001B[39;00m(\n\u001B[1;32m    864\u001B[0m         \u001B[38;5;124m\"\u001B[39m\u001B[38;5;124mNo fits were performed. \u001B[39m\u001B[38;5;124m\"\u001B[39m\n\u001B[1;32m    865\u001B[0m         \u001B[38;5;124m\"\u001B[39m\u001B[38;5;124mWas the CV iterator empty? \u001B[39m\u001B[38;5;124m\"\u001B[39m\n\u001B[1;32m    866\u001B[0m         \u001B[38;5;124m\"\u001B[39m\u001B[38;5;124mWere there no candidates?\u001B[39m\u001B[38;5;124m\"\u001B[39m\n\u001B[1;32m    867\u001B[0m     )\n",
      "File \u001B[0;32m~/anaconda3/lib/python3.11/site-packages/sklearn/utils/parallel.py:65\u001B[0m, in \u001B[0;36mParallel.__call__\u001B[0;34m(self, iterable)\u001B[0m\n\u001B[1;32m     60\u001B[0m config \u001B[38;5;241m=\u001B[39m get_config()\n\u001B[1;32m     61\u001B[0m iterable_with_config \u001B[38;5;241m=\u001B[39m (\n\u001B[1;32m     62\u001B[0m     (_with_config(delayed_func, config), args, kwargs)\n\u001B[1;32m     63\u001B[0m     \u001B[38;5;28;01mfor\u001B[39;00m delayed_func, args, kwargs \u001B[38;5;129;01min\u001B[39;00m iterable\n\u001B[1;32m     64\u001B[0m )\n\u001B[0;32m---> 65\u001B[0m \u001B[38;5;28;01mreturn\u001B[39;00m \u001B[38;5;28msuper\u001B[39m()\u001B[38;5;241m.\u001B[39m\u001B[38;5;21m__call__\u001B[39m(iterable_with_config)\n",
      "File \u001B[0;32m~/anaconda3/lib/python3.11/site-packages/joblib/parallel.py:1098\u001B[0m, in \u001B[0;36mParallel.__call__\u001B[0;34m(self, iterable)\u001B[0m\n\u001B[1;32m   1095\u001B[0m     \u001B[38;5;28mself\u001B[39m\u001B[38;5;241m.\u001B[39m_iterating \u001B[38;5;241m=\u001B[39m \u001B[38;5;28;01mFalse\u001B[39;00m\n\u001B[1;32m   1097\u001B[0m \u001B[38;5;28;01mwith\u001B[39;00m \u001B[38;5;28mself\u001B[39m\u001B[38;5;241m.\u001B[39m_backend\u001B[38;5;241m.\u001B[39mretrieval_context():\n\u001B[0;32m-> 1098\u001B[0m     \u001B[38;5;28mself\u001B[39m\u001B[38;5;241m.\u001B[39mretrieve()\n\u001B[1;32m   1099\u001B[0m \u001B[38;5;66;03m# Make sure that we get a last message telling us we are done\u001B[39;00m\n\u001B[1;32m   1100\u001B[0m elapsed_time \u001B[38;5;241m=\u001B[39m time\u001B[38;5;241m.\u001B[39mtime() \u001B[38;5;241m-\u001B[39m \u001B[38;5;28mself\u001B[39m\u001B[38;5;241m.\u001B[39m_start_time\n",
      "File \u001B[0;32m~/anaconda3/lib/python3.11/site-packages/joblib/parallel.py:975\u001B[0m, in \u001B[0;36mParallel.retrieve\u001B[0;34m(self)\u001B[0m\n\u001B[1;32m    973\u001B[0m \u001B[38;5;28;01mtry\u001B[39;00m:\n\u001B[1;32m    974\u001B[0m     \u001B[38;5;28;01mif\u001B[39;00m \u001B[38;5;28mgetattr\u001B[39m(\u001B[38;5;28mself\u001B[39m\u001B[38;5;241m.\u001B[39m_backend, \u001B[38;5;124m'\u001B[39m\u001B[38;5;124msupports_timeout\u001B[39m\u001B[38;5;124m'\u001B[39m, \u001B[38;5;28;01mFalse\u001B[39;00m):\n\u001B[0;32m--> 975\u001B[0m         \u001B[38;5;28mself\u001B[39m\u001B[38;5;241m.\u001B[39m_output\u001B[38;5;241m.\u001B[39mextend(job\u001B[38;5;241m.\u001B[39mget(timeout\u001B[38;5;241m=\u001B[39m\u001B[38;5;28mself\u001B[39m\u001B[38;5;241m.\u001B[39mtimeout))\n\u001B[1;32m    976\u001B[0m     \u001B[38;5;28;01melse\u001B[39;00m:\n\u001B[1;32m    977\u001B[0m         \u001B[38;5;28mself\u001B[39m\u001B[38;5;241m.\u001B[39m_output\u001B[38;5;241m.\u001B[39mextend(job\u001B[38;5;241m.\u001B[39mget())\n",
      "File \u001B[0;32m~/anaconda3/lib/python3.11/site-packages/joblib/_parallel_backends.py:567\u001B[0m, in \u001B[0;36mLokyBackend.wrap_future_result\u001B[0;34m(future, timeout)\u001B[0m\n\u001B[1;32m    564\u001B[0m \u001B[38;5;250m\u001B[39m\u001B[38;5;124;03m\"\"\"Wrapper for Future.result to implement the same behaviour as\u001B[39;00m\n\u001B[1;32m    565\u001B[0m \u001B[38;5;124;03mAsyncResults.get from multiprocessing.\"\"\"\u001B[39;00m\n\u001B[1;32m    566\u001B[0m \u001B[38;5;28;01mtry\u001B[39;00m:\n\u001B[0;32m--> 567\u001B[0m     \u001B[38;5;28;01mreturn\u001B[39;00m future\u001B[38;5;241m.\u001B[39mresult(timeout\u001B[38;5;241m=\u001B[39mtimeout)\n\u001B[1;32m    568\u001B[0m \u001B[38;5;28;01mexcept\u001B[39;00m CfTimeoutError \u001B[38;5;28;01mas\u001B[39;00m e:\n\u001B[1;32m    569\u001B[0m     \u001B[38;5;28;01mraise\u001B[39;00m \u001B[38;5;167;01mTimeoutError\u001B[39;00m \u001B[38;5;28;01mfrom\u001B[39;00m \u001B[38;5;21;01me\u001B[39;00m\n",
      "File \u001B[0;32m~/anaconda3/lib/python3.11/concurrent/futures/_base.py:451\u001B[0m, in \u001B[0;36mFuture.result\u001B[0;34m(self, timeout)\u001B[0m\n\u001B[1;32m    448\u001B[0m \u001B[38;5;28;01melif\u001B[39;00m \u001B[38;5;28mself\u001B[39m\u001B[38;5;241m.\u001B[39m_state \u001B[38;5;241m==\u001B[39m FINISHED:\n\u001B[1;32m    449\u001B[0m     \u001B[38;5;28;01mreturn\u001B[39;00m \u001B[38;5;28mself\u001B[39m\u001B[38;5;241m.\u001B[39m__get_result()\n\u001B[0;32m--> 451\u001B[0m \u001B[38;5;28mself\u001B[39m\u001B[38;5;241m.\u001B[39m_condition\u001B[38;5;241m.\u001B[39mwait(timeout)\n\u001B[1;32m    453\u001B[0m \u001B[38;5;28;01mif\u001B[39;00m \u001B[38;5;28mself\u001B[39m\u001B[38;5;241m.\u001B[39m_state \u001B[38;5;129;01min\u001B[39;00m [CANCELLED, CANCELLED_AND_NOTIFIED]:\n\u001B[1;32m    454\u001B[0m     \u001B[38;5;28;01mraise\u001B[39;00m CancelledError()\n",
      "File \u001B[0;32m~/anaconda3/lib/python3.11/threading.py:320\u001B[0m, in \u001B[0;36mCondition.wait\u001B[0;34m(self, timeout)\u001B[0m\n\u001B[1;32m    318\u001B[0m \u001B[38;5;28;01mtry\u001B[39;00m:    \u001B[38;5;66;03m# restore state no matter what (e.g., KeyboardInterrupt)\u001B[39;00m\n\u001B[1;32m    319\u001B[0m     \u001B[38;5;28;01mif\u001B[39;00m timeout \u001B[38;5;129;01mis\u001B[39;00m \u001B[38;5;28;01mNone\u001B[39;00m:\n\u001B[0;32m--> 320\u001B[0m         waiter\u001B[38;5;241m.\u001B[39macquire()\n\u001B[1;32m    321\u001B[0m         gotit \u001B[38;5;241m=\u001B[39m \u001B[38;5;28;01mTrue\u001B[39;00m\n\u001B[1;32m    322\u001B[0m     \u001B[38;5;28;01melse\u001B[39;00m:\n",
      "\u001B[0;31mKeyboardInterrupt\u001B[0m: "
     ]
    }
   ],
   "source": [
    "grid_search = GridSearchCV(clf, param_grid, cv=5, refit=True, verbose=3, n_jobs=-1,\n",
    "                    pre_dispatch=pre_dispatch_jobs)\n",
    "\n",
    "fit_time = time.perf_counter()\n",
    "grid_search.fit(X_train, y_train)\n",
    "fit_time = np.round(time.perf_counter() - fit_time)\n",
    "print(f\"Total Time to fit {fit_time}\")"
   ],
   "metadata": {
    "collapsed": false,
    "ExecuteTime": {
     "end_time": "2023-11-14T12:27:29.764129Z",
     "start_time": "2023-11-14T12:27:20.100260Z"
    }
   },
   "id": "c72f2a5e5e178c7a"
  },
  {
   "cell_type": "markdown",
   "source": [
    "Extract the best classifier, its paramester and the score"
   ],
   "metadata": {
    "collapsed": false
   },
   "id": "1f65bb274e47da89"
  },
  {
   "cell_type": "code",
   "execution_count": null,
   "outputs": [],
   "source": [
    "best_clf = grid_search.best_estimator_\n",
    "best_params = grid_search.best_params_\n",
    "best_score = grid_search.best_score_"
   ],
   "metadata": {
    "collapsed": false,
    "ExecuteTime": {
     "end_time": "2023-11-14T12:27:29.766422Z",
     "start_time": "2023-11-14T12:27:29.764736Z"
    }
   },
   "id": "885e03497f9784ea"
  },
  {
   "cell_type": "markdown",
   "source": [
    "Run predictions on test-data and show model metrics"
   ],
   "metadata": {
    "collapsed": false
   },
   "id": "6a499a12dbe3821d"
  },
  {
   "cell_type": "code",
   "execution_count": null,
   "outputs": [],
   "source": [
    "# Make predictions on the test set\n",
    "y_pred = best_clf.predict(X_test)\n",
    "\n",
    "# Evaluate the model\n",
    "accuracy = accuracy_score(y_test, y_pred)\n",
    "print(\"Accuracy:\", accuracy)\n",
    "\n",
    "print(\"Classification Report:\")\n",
    "print(classification_report(y_test, y_pred))\n",
    "\n",
    "print(\"Confusion Matrix:\")\n",
    "print(confusion_matrix(y_test, y_pred))"
   ],
   "metadata": {
    "collapsed": false,
    "ExecuteTime": {
     "start_time": "2023-11-14T12:27:29.765786Z"
    }
   },
   "id": "e92d849fd40bd7b1"
  },
  {
   "cell_type": "markdown",
   "source": [
    "Save model"
   ],
   "metadata": {
    "collapsed": false
   },
   "id": "b831544e7794318c"
  },
  {
   "cell_type": "code",
   "execution_count": null,
   "outputs": [],
   "source": [
    "joblib.dump(best_clf, './models/xgboost.pkl')"
   ],
   "metadata": {
    "collapsed": false,
    "ExecuteTime": {
     "end_time": "2023-11-14T12:27:29.767548Z",
     "start_time": "2023-11-14T12:27:29.766837Z"
    }
   },
   "id": "a4115073e0a0dde"
  },
  {
   "cell_type": "markdown",
   "source": [
    "Load model"
   ],
   "metadata": {
    "collapsed": false
   },
   "id": "e9378e9a47c93573"
  },
  {
   "cell_type": "code",
   "execution_count": 28,
   "outputs": [
    {
     "name": "stderr",
     "output_type": "stream",
     "text": [
      "/Users/moritzlindner/anaconda3/lib/python3.11/site-packages/xgboost/core.py:160: UserWarning: [13:27:39] WARNING: /Users/runner/work/xgboost/xgboost/src/gbm/gbtree.cc:385: Changing updater from `grow_gpu_hist` to `grow_quantile_histmaker`.\n",
      "  warnings.warn(smsg, UserWarning)\n"
     ]
    },
    {
     "data": {
      "text/plain": "XGBClassifier(base_score=None, booster=None, callbacks=None,\n              colsample_bylevel=None, colsample_bynode=None,\n              colsample_bytree=1.0, device='cuda', early_stopping_rounds=None,\n              enable_categorical=False, eval_metric=None, feature_types=None,\n              gamma=1, grow_policy=None, importance_type=None,\n              interaction_constraints=None, learning_rate=0.05, max_bin=None,\n              max_cat_threshold=None, max_cat_to_onehot=None,\n              max_delta_step=None, max_depth=3, max_leaves=None,\n              min_child_weight=5, missing=nan, monotone_constraints=None,\n              multi_strategy=None, n_estimators=550, n_jobs=None, num_class=5,\n              num_parallel_tree=None, ...)",
      "text/html": "<style>#sk-container-id-3 {color: black;}#sk-container-id-3 pre{padding: 0;}#sk-container-id-3 div.sk-toggleable {background-color: white;}#sk-container-id-3 label.sk-toggleable__label {cursor: pointer;display: block;width: 100%;margin-bottom: 0;padding: 0.3em;box-sizing: border-box;text-align: center;}#sk-container-id-3 label.sk-toggleable__label-arrow:before {content: \"▸\";float: left;margin-right: 0.25em;color: #696969;}#sk-container-id-3 label.sk-toggleable__label-arrow:hover:before {color: black;}#sk-container-id-3 div.sk-estimator:hover label.sk-toggleable__label-arrow:before {color: black;}#sk-container-id-3 div.sk-toggleable__content {max-height: 0;max-width: 0;overflow: hidden;text-align: left;background-color: #f0f8ff;}#sk-container-id-3 div.sk-toggleable__content pre {margin: 0.2em;color: black;border-radius: 0.25em;background-color: #f0f8ff;}#sk-container-id-3 input.sk-toggleable__control:checked~div.sk-toggleable__content {max-height: 200px;max-width: 100%;overflow: auto;}#sk-container-id-3 input.sk-toggleable__control:checked~label.sk-toggleable__label-arrow:before {content: \"▾\";}#sk-container-id-3 div.sk-estimator input.sk-toggleable__control:checked~label.sk-toggleable__label {background-color: #d4ebff;}#sk-container-id-3 div.sk-label input.sk-toggleable__control:checked~label.sk-toggleable__label {background-color: #d4ebff;}#sk-container-id-3 input.sk-hidden--visually {border: 0;clip: rect(1px 1px 1px 1px);clip: rect(1px, 1px, 1px, 1px);height: 1px;margin: -1px;overflow: hidden;padding: 0;position: absolute;width: 1px;}#sk-container-id-3 div.sk-estimator {font-family: monospace;background-color: #f0f8ff;border: 1px dotted black;border-radius: 0.25em;box-sizing: border-box;margin-bottom: 0.5em;}#sk-container-id-3 div.sk-estimator:hover {background-color: #d4ebff;}#sk-container-id-3 div.sk-parallel-item::after {content: \"\";width: 100%;border-bottom: 1px solid gray;flex-grow: 1;}#sk-container-id-3 div.sk-label:hover label.sk-toggleable__label {background-color: #d4ebff;}#sk-container-id-3 div.sk-serial::before {content: \"\";position: absolute;border-left: 1px solid gray;box-sizing: border-box;top: 0;bottom: 0;left: 50%;z-index: 0;}#sk-container-id-3 div.sk-serial {display: flex;flex-direction: column;align-items: center;background-color: white;padding-right: 0.2em;padding-left: 0.2em;position: relative;}#sk-container-id-3 div.sk-item {position: relative;z-index: 1;}#sk-container-id-3 div.sk-parallel {display: flex;align-items: stretch;justify-content: center;background-color: white;position: relative;}#sk-container-id-3 div.sk-item::before, #sk-container-id-3 div.sk-parallel-item::before {content: \"\";position: absolute;border-left: 1px solid gray;box-sizing: border-box;top: 0;bottom: 0;left: 50%;z-index: -1;}#sk-container-id-3 div.sk-parallel-item {display: flex;flex-direction: column;z-index: 1;position: relative;background-color: white;}#sk-container-id-3 div.sk-parallel-item:first-child::after {align-self: flex-end;width: 50%;}#sk-container-id-3 div.sk-parallel-item:last-child::after {align-self: flex-start;width: 50%;}#sk-container-id-3 div.sk-parallel-item:only-child::after {width: 0;}#sk-container-id-3 div.sk-dashed-wrapped {border: 1px dashed gray;margin: 0 0.4em 0.5em 0.4em;box-sizing: border-box;padding-bottom: 0.4em;background-color: white;}#sk-container-id-3 div.sk-label label {font-family: monospace;font-weight: bold;display: inline-block;line-height: 1.2em;}#sk-container-id-3 div.sk-label-container {text-align: center;}#sk-container-id-3 div.sk-container {/* jupyter's `normalize.less` sets `[hidden] { display: none; }` but bootstrap.min.css set `[hidden] { display: none !important; }` so we also need the `!important` here to be able to override the default hidden behavior on the sphinx rendered scikit-learn.org. See: https://github.com/scikit-learn/scikit-learn/issues/21755 */display: inline-block !important;position: relative;}#sk-container-id-3 div.sk-text-repr-fallback {display: none;}</style><div id=\"sk-container-id-3\" class=\"sk-top-container\"><div class=\"sk-text-repr-fallback\"><pre>XGBClassifier(base_score=None, booster=None, callbacks=None,\n              colsample_bylevel=None, colsample_bynode=None,\n              colsample_bytree=1.0, device=&#x27;cuda&#x27;, early_stopping_rounds=None,\n              enable_categorical=False, eval_metric=None, feature_types=None,\n              gamma=1, grow_policy=None, importance_type=None,\n              interaction_constraints=None, learning_rate=0.05, max_bin=None,\n              max_cat_threshold=None, max_cat_to_onehot=None,\n              max_delta_step=None, max_depth=3, max_leaves=None,\n              min_child_weight=5, missing=nan, monotone_constraints=None,\n              multi_strategy=None, n_estimators=550, n_jobs=None, num_class=5,\n              num_parallel_tree=None, ...)</pre><b>In a Jupyter environment, please rerun this cell to show the HTML representation or trust the notebook. <br />On GitHub, the HTML representation is unable to render, please try loading this page with nbviewer.org.</b></div><div class=\"sk-container\" hidden><div class=\"sk-item\"><div class=\"sk-estimator sk-toggleable\"><input class=\"sk-toggleable__control sk-hidden--visually\" id=\"sk-estimator-id-3\" type=\"checkbox\" checked><label for=\"sk-estimator-id-3\" class=\"sk-toggleable__label sk-toggleable__label-arrow\">XGBClassifier</label><div class=\"sk-toggleable__content\"><pre>XGBClassifier(base_score=None, booster=None, callbacks=None,\n              colsample_bylevel=None, colsample_bynode=None,\n              colsample_bytree=1.0, device=&#x27;cuda&#x27;, early_stopping_rounds=None,\n              enable_categorical=False, eval_metric=None, feature_types=None,\n              gamma=1, grow_policy=None, importance_type=None,\n              interaction_constraints=None, learning_rate=0.05, max_bin=None,\n              max_cat_threshold=None, max_cat_to_onehot=None,\n              max_delta_step=None, max_depth=3, max_leaves=None,\n              min_child_weight=5, missing=nan, monotone_constraints=None,\n              multi_strategy=None, n_estimators=550, n_jobs=None, num_class=5,\n              num_parallel_tree=None, ...)</pre></div></div></div></div></div>"
     },
     "execution_count": 28,
     "metadata": {},
     "output_type": "execute_result"
    }
   ],
   "source": [
    "model = joblib.load('./models/best_model_xgboost.pkl')\n",
    "model"
   ],
   "metadata": {
    "collapsed": false,
    "ExecuteTime": {
     "end_time": "2023-11-14T12:27:39.097974Z",
     "start_time": "2023-11-14T12:27:38.943830Z"
    }
   },
   "id": "ec685f8f208e0c26"
  },
  {
   "cell_type": "code",
   "execution_count": 29,
   "outputs": [
    {
     "name": "stdout",
     "output_type": "stream",
     "text": [
      "Accuracy: 0.7887822132390097\n",
      "Classification Report:\n",
      "              precision    recall  f1-score   support\n",
      "\n",
      "           0       0.60      0.59      0.59       130\n",
      "           1       0.36      0.14      0.21       224\n",
      "           2       0.45      0.38      0.41       190\n",
      "           3       0.65      0.54      0.59        28\n",
      "           4       0.87      0.97      0.91      1407\n",
      "\n",
      "    accuracy                           0.79      1979\n",
      "   macro avg       0.58      0.52      0.54      1979\n",
      "weighted avg       0.75      0.79      0.76      1979\n",
      "\n",
      "Confusion Matrix:\n",
      "[[  77    7   31    7    8]\n",
      " [   6   32   38    0  148]\n",
      " [  30   30   72    1   57]\n",
      " [  11    0    2   15    0]\n",
      " [   5   19   18    0 1365]]\n"
     ]
    }
   ],
   "source": [
    "# Make predictions on the test set\n",
    "y_pred = model.predict(X_test)\n",
    "\n",
    "# Evaluate the model\n",
    "accuracy = accuracy_score(y_test, y_pred)\n",
    "print(\"Accuracy:\", accuracy)\n",
    "\n",
    "print(\"Classification Report:\")\n",
    "print(classification_report(y_test, y_pred))\n",
    "\n",
    "print(\"Confusion Matrix:\")\n",
    "print(confusion_matrix(y_test, y_pred))"
   ],
   "metadata": {
    "collapsed": false,
    "ExecuteTime": {
     "end_time": "2023-11-14T12:27:39.166282Z",
     "start_time": "2023-11-14T12:27:39.097766Z"
    }
   },
   "id": "45f09fe4dce11c25"
  },
  {
   "cell_type": "code",
   "execution_count": 32,
   "outputs": [
    {
     "ename": "AttributeError",
     "evalue": "'numpy.ndarray' object has no attribute 'describe'",
     "output_type": "error",
     "traceback": [
      "\u001B[0;31m---------------------------------------------------------------------------\u001B[0m",
      "\u001B[0;31mAttributeError\u001B[0m                            Traceback (most recent call last)",
      "Cell \u001B[0;32mIn[32], line 1\u001B[0m\n\u001B[0;32m----> 1\u001B[0m X_test\u001B[38;5;241m.\u001B[39mdescribe()\n",
      "\u001B[0;31mAttributeError\u001B[0m: 'numpy.ndarray' object has no attribute 'describe'"
     ]
    }
   ],
   "source": [
    "X_test.describe()"
   ],
   "metadata": {
    "collapsed": false,
    "ExecuteTime": {
     "end_time": "2023-11-14T12:31:18.138029Z",
     "start_time": "2023-11-14T12:31:18.062400Z"
    }
   },
   "id": "226042fd4572537d"
  },
  {
   "cell_type": "code",
   "execution_count": 30,
   "outputs": [
    {
     "data": {
      "text/plain": "array([4, 2, 3, 1, 0], dtype=int32)"
     },
     "execution_count": 30,
     "metadata": {},
     "output_type": "execute_result"
    }
   ],
   "source": [
    "pd.unique(y_pred)"
   ],
   "metadata": {
    "collapsed": false,
    "ExecuteTime": {
     "end_time": "2023-11-14T12:28:08.505205Z",
     "start_time": "2023-11-14T12:28:08.494703Z"
    }
   },
   "id": "be0f0fee97d6b394"
  },
  {
   "cell_type": "code",
   "execution_count": null,
   "outputs": [],
   "source": [
    "f1 = f1_score(y_test, y_pred, average='weighted')\n",
    "f1"
   ],
   "metadata": {
    "collapsed": false,
    "ExecuteTime": {
     "start_time": "2023-11-14T12:27:29.770018Z"
    }
   },
   "id": "76af563d8bcd62ee"
  }
 ],
 "metadata": {
  "kernelspec": {
   "display_name": "Python 3",
   "language": "python",
   "name": "python3"
  },
  "language_info": {
   "codemirror_mode": {
    "name": "ipython",
    "version": 2
   },
   "file_extension": ".py",
   "mimetype": "text/x-python",
   "name": "python",
   "nbconvert_exporter": "python",
   "pygments_lexer": "ipython2",
   "version": "2.7.6"
  }
 },
 "nbformat": 4,
 "nbformat_minor": 5
}
