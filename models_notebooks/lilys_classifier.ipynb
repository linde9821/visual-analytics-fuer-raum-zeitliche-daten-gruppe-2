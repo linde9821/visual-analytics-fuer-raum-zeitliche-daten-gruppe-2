{
 "cells": [
  {
   "cell_type": "markdown",
   "id": "bee76d056b3ab8af",
   "metadata": {
    "collapsed": false
   },
   "source": [
    "# Import libs"
   ]
  },
  {
   "cell_type": "code",
   "execution_count": 2,
   "id": "initial_id",
   "metadata": {
    "collapsed": false,
    "ExecuteTime": {
     "end_time": "2024-02-05T19:35:44.234882Z",
     "start_time": "2024-02-05T19:33:20.397111Z"
    }
   },
   "outputs": [],
   "source": [
    "import pandas as pd\n",
    "import matplotlib.pyplot as plt\n",
    "from adjustText import adjust_text\n",
    "import shap"
   ]
  },
  {
   "cell_type": "markdown",
   "id": "3b4614ff0a03f175",
   "metadata": {
    "collapsed": false
   },
   "source": [
    "# Read csv into df and show data"
   ]
  },
  {
   "cell_type": "code",
   "execution_count": 5,
   "id": "e3f635d4c5286e54",
   "metadata": {
    "collapsed": false,
    "ExecuteTime": {
     "end_time": "2024-02-05T22:45:26.268397Z",
     "start_time": "2024-02-05T22:45:26.012357Z"
    }
   },
   "outputs": [
    {
     "data": {
      "text/plain": "         500.0     502.0     504.0     506.0     508.0     510.0     512.0  \\\n0     0.000276  0.000283  0.000289  0.000296  0.000302  0.000309  0.000315   \n1     0.000300  0.000309  0.000318  0.000327  0.000336  0.000345  0.000353   \n2     0.000388  0.000395  0.000403  0.000410  0.000418  0.000426  0.000433   \n3     0.000362  0.000371  0.000379  0.000388  0.000397  0.000406  0.000414   \n4     0.000357  0.000365  0.000372  0.000379  0.000387  0.000394  0.000402   \n...        ...       ...       ...       ...       ...       ...       ...   \n1946  0.000194  0.000201  0.000208  0.000216  0.000223  0.000230  0.000238   \n1947  0.000347  0.000354  0.000361  0.000368  0.000375  0.000382  0.000388   \n1948  0.000224  0.000232  0.000239  0.000247  0.000254  0.000262  0.000269   \n1949  0.000305  0.000310  0.000315  0.000320  0.000325  0.000330  0.000335   \n1950  0.000107  0.000110  0.000113  0.000117  0.000120  0.000123  0.000126   \n\n         514.0     516.0     518.0  ...    2480.0    2482.0    2484.0  \\\n0     0.000321  0.000327  0.000333  ... -0.000138 -0.000132 -0.000124   \n1     0.000362  0.000369  0.000376  ... -0.000199 -0.000195 -0.000188   \n2     0.000440  0.000446  0.000451  ... -0.000142 -0.000135 -0.000126   \n3     0.000422  0.000429  0.000434  ... -0.000136 -0.000128 -0.000118   \n4     0.000408  0.000414  0.000419  ... -0.000149 -0.000142 -0.000134   \n...        ...       ...       ...  ...       ...       ...       ...   \n1946  0.000245  0.000251  0.000258  ... -0.000097 -0.000093 -0.000088   \n1947  0.000394  0.000398  0.000402  ... -0.000068 -0.000065 -0.000061   \n1948  0.000277  0.000286  0.000294  ... -0.000268 -0.000258 -0.000245   \n1949  0.000339  0.000343  0.000346  ... -0.000188 -0.000177 -0.000164   \n1950  0.000129  0.000131  0.000133  ... -0.000196 -0.000186 -0.000175   \n\n        2486.0    2488.0    2490.0    2492.0    2494.0    2496.0    2498.0  \n0    -0.000115 -0.000104 -0.000095 -0.000085 -0.000075 -0.000065 -0.000056  \n1    -0.000178 -0.000165 -0.000150 -0.000133 -0.000117 -0.000100 -0.000084  \n2    -0.000117 -0.000107 -0.000098 -0.000089 -0.000080 -0.000072 -0.000063  \n3    -0.000108 -0.000099 -0.000090 -0.000081 -0.000073 -0.000064 -0.000056  \n4    -0.000124 -0.000114 -0.000102 -0.000089 -0.000077 -0.000065 -0.000053  \n...        ...       ...       ...       ...       ...       ...       ...  \n1946 -0.000082 -0.000074 -0.000067 -0.000059 -0.000050 -0.000042 -0.000034  \n1947 -0.000057 -0.000051 -0.000045 -0.000039 -0.000033 -0.000027 -0.000021  \n1948 -0.000229 -0.000210 -0.000190 -0.000168 -0.000147 -0.000126 -0.000104  \n1949 -0.000148 -0.000130 -0.000111 -0.000092 -0.000073 -0.000054 -0.000035  \n1950 -0.000163 -0.000152 -0.000142 -0.000132 -0.000122 -0.000112 -0.000102  \n\n[1951 rows x 1000 columns]",
      "text/html": "<div>\n<style scoped>\n    .dataframe tbody tr th:only-of-type {\n        vertical-align: middle;\n    }\n\n    .dataframe tbody tr th {\n        vertical-align: top;\n    }\n\n    .dataframe thead th {\n        text-align: right;\n    }\n</style>\n<table border=\"1\" class=\"dataframe\">\n  <thead>\n    <tr style=\"text-align: right;\">\n      <th></th>\n      <th>500.0</th>\n      <th>502.0</th>\n      <th>504.0</th>\n      <th>506.0</th>\n      <th>508.0</th>\n      <th>510.0</th>\n      <th>512.0</th>\n      <th>514.0</th>\n      <th>516.0</th>\n      <th>518.0</th>\n      <th>...</th>\n      <th>2480.0</th>\n      <th>2482.0</th>\n      <th>2484.0</th>\n      <th>2486.0</th>\n      <th>2488.0</th>\n      <th>2490.0</th>\n      <th>2492.0</th>\n      <th>2494.0</th>\n      <th>2496.0</th>\n      <th>2498.0</th>\n    </tr>\n  </thead>\n  <tbody>\n    <tr>\n      <th>0</th>\n      <td>0.000276</td>\n      <td>0.000283</td>\n      <td>0.000289</td>\n      <td>0.000296</td>\n      <td>0.000302</td>\n      <td>0.000309</td>\n      <td>0.000315</td>\n      <td>0.000321</td>\n      <td>0.000327</td>\n      <td>0.000333</td>\n      <td>...</td>\n      <td>-0.000138</td>\n      <td>-0.000132</td>\n      <td>-0.000124</td>\n      <td>-0.000115</td>\n      <td>-0.000104</td>\n      <td>-0.000095</td>\n      <td>-0.000085</td>\n      <td>-0.000075</td>\n      <td>-0.000065</td>\n      <td>-0.000056</td>\n    </tr>\n    <tr>\n      <th>1</th>\n      <td>0.000300</td>\n      <td>0.000309</td>\n      <td>0.000318</td>\n      <td>0.000327</td>\n      <td>0.000336</td>\n      <td>0.000345</td>\n      <td>0.000353</td>\n      <td>0.000362</td>\n      <td>0.000369</td>\n      <td>0.000376</td>\n      <td>...</td>\n      <td>-0.000199</td>\n      <td>-0.000195</td>\n      <td>-0.000188</td>\n      <td>-0.000178</td>\n      <td>-0.000165</td>\n      <td>-0.000150</td>\n      <td>-0.000133</td>\n      <td>-0.000117</td>\n      <td>-0.000100</td>\n      <td>-0.000084</td>\n    </tr>\n    <tr>\n      <th>2</th>\n      <td>0.000388</td>\n      <td>0.000395</td>\n      <td>0.000403</td>\n      <td>0.000410</td>\n      <td>0.000418</td>\n      <td>0.000426</td>\n      <td>0.000433</td>\n      <td>0.000440</td>\n      <td>0.000446</td>\n      <td>0.000451</td>\n      <td>...</td>\n      <td>-0.000142</td>\n      <td>-0.000135</td>\n      <td>-0.000126</td>\n      <td>-0.000117</td>\n      <td>-0.000107</td>\n      <td>-0.000098</td>\n      <td>-0.000089</td>\n      <td>-0.000080</td>\n      <td>-0.000072</td>\n      <td>-0.000063</td>\n    </tr>\n    <tr>\n      <th>3</th>\n      <td>0.000362</td>\n      <td>0.000371</td>\n      <td>0.000379</td>\n      <td>0.000388</td>\n      <td>0.000397</td>\n      <td>0.000406</td>\n      <td>0.000414</td>\n      <td>0.000422</td>\n      <td>0.000429</td>\n      <td>0.000434</td>\n      <td>...</td>\n      <td>-0.000136</td>\n      <td>-0.000128</td>\n      <td>-0.000118</td>\n      <td>-0.000108</td>\n      <td>-0.000099</td>\n      <td>-0.000090</td>\n      <td>-0.000081</td>\n      <td>-0.000073</td>\n      <td>-0.000064</td>\n      <td>-0.000056</td>\n    </tr>\n    <tr>\n      <th>4</th>\n      <td>0.000357</td>\n      <td>0.000365</td>\n      <td>0.000372</td>\n      <td>0.000379</td>\n      <td>0.000387</td>\n      <td>0.000394</td>\n      <td>0.000402</td>\n      <td>0.000408</td>\n      <td>0.000414</td>\n      <td>0.000419</td>\n      <td>...</td>\n      <td>-0.000149</td>\n      <td>-0.000142</td>\n      <td>-0.000134</td>\n      <td>-0.000124</td>\n      <td>-0.000114</td>\n      <td>-0.000102</td>\n      <td>-0.000089</td>\n      <td>-0.000077</td>\n      <td>-0.000065</td>\n      <td>-0.000053</td>\n    </tr>\n    <tr>\n      <th>...</th>\n      <td>...</td>\n      <td>...</td>\n      <td>...</td>\n      <td>...</td>\n      <td>...</td>\n      <td>...</td>\n      <td>...</td>\n      <td>...</td>\n      <td>...</td>\n      <td>...</td>\n      <td>...</td>\n      <td>...</td>\n      <td>...</td>\n      <td>...</td>\n      <td>...</td>\n      <td>...</td>\n      <td>...</td>\n      <td>...</td>\n      <td>...</td>\n      <td>...</td>\n      <td>...</td>\n    </tr>\n    <tr>\n      <th>1946</th>\n      <td>0.000194</td>\n      <td>0.000201</td>\n      <td>0.000208</td>\n      <td>0.000216</td>\n      <td>0.000223</td>\n      <td>0.000230</td>\n      <td>0.000238</td>\n      <td>0.000245</td>\n      <td>0.000251</td>\n      <td>0.000258</td>\n      <td>...</td>\n      <td>-0.000097</td>\n      <td>-0.000093</td>\n      <td>-0.000088</td>\n      <td>-0.000082</td>\n      <td>-0.000074</td>\n      <td>-0.000067</td>\n      <td>-0.000059</td>\n      <td>-0.000050</td>\n      <td>-0.000042</td>\n      <td>-0.000034</td>\n    </tr>\n    <tr>\n      <th>1947</th>\n      <td>0.000347</td>\n      <td>0.000354</td>\n      <td>0.000361</td>\n      <td>0.000368</td>\n      <td>0.000375</td>\n      <td>0.000382</td>\n      <td>0.000388</td>\n      <td>0.000394</td>\n      <td>0.000398</td>\n      <td>0.000402</td>\n      <td>...</td>\n      <td>-0.000068</td>\n      <td>-0.000065</td>\n      <td>-0.000061</td>\n      <td>-0.000057</td>\n      <td>-0.000051</td>\n      <td>-0.000045</td>\n      <td>-0.000039</td>\n      <td>-0.000033</td>\n      <td>-0.000027</td>\n      <td>-0.000021</td>\n    </tr>\n    <tr>\n      <th>1948</th>\n      <td>0.000224</td>\n      <td>0.000232</td>\n      <td>0.000239</td>\n      <td>0.000247</td>\n      <td>0.000254</td>\n      <td>0.000262</td>\n      <td>0.000269</td>\n      <td>0.000277</td>\n      <td>0.000286</td>\n      <td>0.000294</td>\n      <td>...</td>\n      <td>-0.000268</td>\n      <td>-0.000258</td>\n      <td>-0.000245</td>\n      <td>-0.000229</td>\n      <td>-0.000210</td>\n      <td>-0.000190</td>\n      <td>-0.000168</td>\n      <td>-0.000147</td>\n      <td>-0.000126</td>\n      <td>-0.000104</td>\n    </tr>\n    <tr>\n      <th>1949</th>\n      <td>0.000305</td>\n      <td>0.000310</td>\n      <td>0.000315</td>\n      <td>0.000320</td>\n      <td>0.000325</td>\n      <td>0.000330</td>\n      <td>0.000335</td>\n      <td>0.000339</td>\n      <td>0.000343</td>\n      <td>0.000346</td>\n      <td>...</td>\n      <td>-0.000188</td>\n      <td>-0.000177</td>\n      <td>-0.000164</td>\n      <td>-0.000148</td>\n      <td>-0.000130</td>\n      <td>-0.000111</td>\n      <td>-0.000092</td>\n      <td>-0.000073</td>\n      <td>-0.000054</td>\n      <td>-0.000035</td>\n    </tr>\n    <tr>\n      <th>1950</th>\n      <td>0.000107</td>\n      <td>0.000110</td>\n      <td>0.000113</td>\n      <td>0.000117</td>\n      <td>0.000120</td>\n      <td>0.000123</td>\n      <td>0.000126</td>\n      <td>0.000129</td>\n      <td>0.000131</td>\n      <td>0.000133</td>\n      <td>...</td>\n      <td>-0.000196</td>\n      <td>-0.000186</td>\n      <td>-0.000175</td>\n      <td>-0.000163</td>\n      <td>-0.000152</td>\n      <td>-0.000142</td>\n      <td>-0.000132</td>\n      <td>-0.000122</td>\n      <td>-0.000112</td>\n      <td>-0.000102</td>\n    </tr>\n  </tbody>\n</table>\n<p>1951 rows × 1000 columns</p>\n</div>"
     },
     "execution_count": 5,
     "metadata": {},
     "output_type": "execute_result"
    }
   ],
   "source": [
    "tat = pd.read_csv(\"../data/16_lucas_organic_carbon_training_and_test_data.csv\")\n",
    "tat # training and test"
   ]
  },
  {
   "cell_type": "code",
   "execution_count": 6,
   "id": "0dbed4fc",
   "metadata": {
    "ExecuteTime": {
     "end_time": "2024-02-05T22:45:30.037841Z",
     "start_time": "2024-02-05T22:45:30.024384Z"
    }
   },
   "outputs": [
    {
     "data": {
      "text/plain": "              x\n0      very_low\n1      moderate\n2           low\n3           low\n4           low\n...         ...\n1946        low\n1947   very_low\n1948   moderate\n1949       high\n1950  very_high\n\n[1951 rows x 1 columns]",
      "text/html": "<div>\n<style scoped>\n    .dataframe tbody tr th:only-of-type {\n        vertical-align: middle;\n    }\n\n    .dataframe tbody tr th {\n        vertical-align: top;\n    }\n\n    .dataframe thead th {\n        text-align: right;\n    }\n</style>\n<table border=\"1\" class=\"dataframe\">\n  <thead>\n    <tr style=\"text-align: right;\">\n      <th></th>\n      <th>x</th>\n    </tr>\n  </thead>\n  <tbody>\n    <tr>\n      <th>0</th>\n      <td>very_low</td>\n    </tr>\n    <tr>\n      <th>1</th>\n      <td>moderate</td>\n    </tr>\n    <tr>\n      <th>2</th>\n      <td>low</td>\n    </tr>\n    <tr>\n      <th>3</th>\n      <td>low</td>\n    </tr>\n    <tr>\n      <th>4</th>\n      <td>low</td>\n    </tr>\n    <tr>\n      <th>...</th>\n      <td>...</td>\n    </tr>\n    <tr>\n      <th>1946</th>\n      <td>low</td>\n    </tr>\n    <tr>\n      <th>1947</th>\n      <td>very_low</td>\n    </tr>\n    <tr>\n      <th>1948</th>\n      <td>moderate</td>\n    </tr>\n    <tr>\n      <th>1949</th>\n      <td>high</td>\n    </tr>\n    <tr>\n      <th>1950</th>\n      <td>very_high</td>\n    </tr>\n  </tbody>\n</table>\n<p>1951 rows × 1 columns</p>\n</div>"
     },
     "execution_count": 6,
     "metadata": {},
     "output_type": "execute_result"
    }
   ],
   "source": [
    "targets = pd.read_csv(\"../data/16_lucas_organic_carbon_target.csv\")\n",
    "targets"
   ]
  },
  {
   "attachments": {},
   "cell_type": "markdown",
   "id": "0afbf6e6",
   "metadata": {},
   "source": [
    "# Split data into train und test substets"
   ]
  },
  {
   "cell_type": "code",
   "execution_count": 7,
   "id": "957eb39c",
   "metadata": {
    "ExecuteTime": {
     "end_time": "2024-02-05T22:45:32.268118Z",
     "start_time": "2024-02-05T22:45:32.242810Z"
    }
   },
   "outputs": [
    {
     "data": {
      "text/plain": "         500.0     502.0     504.0     506.0     508.0     510.0     512.0  \\\n1615  0.000072  0.000075  0.000078  0.000082  0.000085  0.000088  0.000091   \n1406  0.000053  0.000055  0.000058  0.000060  0.000063  0.000065  0.000067   \n1905  0.000034  0.000035  0.000036  0.000038  0.000039  0.000040  0.000041   \n1580  0.000213  0.000221  0.000229  0.000237  0.000246  0.000254  0.000262   \n307   0.000332  0.000341  0.000350  0.000358  0.000367  0.000376  0.000384   \n...        ...       ...       ...       ...       ...       ...       ...   \n426   0.000229  0.000236  0.000242  0.000249  0.000256  0.000262  0.000269   \n1910  0.000417  0.000427  0.000438  0.000448  0.000458  0.000469  0.000479   \n1646  0.000378  0.000385  0.000392  0.000399  0.000406  0.000413  0.000421   \n1601  0.000335  0.000341  0.000347  0.000354  0.000360  0.000366  0.000373   \n1144  0.000380  0.000390  0.000400  0.000410  0.000420  0.000429  0.000439   \n\n         514.0     516.0     518.0  ...    2480.0    2482.0    2484.0  \\\n1615  0.000094  0.000097  0.000099  ... -0.000131 -0.000123 -0.000114   \n1406  0.000070  0.000071  0.000073  ... -0.000132 -0.000124 -0.000116   \n1905  0.000042  0.000043  0.000044  ... -0.000102 -0.000096 -0.000090   \n1580  0.000270  0.000277  0.000284  ... -0.000121 -0.000115 -0.000106   \n307   0.000392  0.000399  0.000405  ... -0.000082 -0.000079 -0.000075   \n...        ...       ...       ...  ...       ...       ...       ...   \n426   0.000275  0.000280  0.000286  ... -0.000187 -0.000179 -0.000168   \n1910  0.000489  0.000498  0.000507  ... -0.000163 -0.000163 -0.000160   \n1646  0.000428  0.000435  0.000442  ... -0.000175 -0.000168 -0.000159   \n1601  0.000380  0.000386  0.000394  ... -0.000309 -0.000296 -0.000281   \n1144  0.000447  0.000453  0.000459  ... -0.000255 -0.000246 -0.000234   \n\n        2486.0    2488.0    2490.0    2492.0    2494.0    2496.0    2498.0  \n1615 -0.000104 -0.000093 -0.000082 -0.000071 -0.000059 -0.000048 -0.000037  \n1406 -0.000106 -0.000096 -0.000086 -0.000077 -0.000067 -0.000058 -0.000049  \n1905 -0.000084 -0.000077 -0.000072 -0.000067 -0.000062 -0.000057 -0.000052  \n1580 -0.000097 -0.000088 -0.000079 -0.000070 -0.000061 -0.000052 -0.000042  \n307  -0.000069 -0.000062 -0.000054 -0.000045 -0.000036 -0.000027 -0.000018  \n...        ...       ...       ...       ...       ...       ...       ...  \n426  -0.000155 -0.000141 -0.000125 -0.000109 -0.000093 -0.000076 -0.000060  \n1910 -0.000154 -0.000145 -0.000133 -0.000121 -0.000108 -0.000096 -0.000083  \n1646 -0.000149 -0.000138 -0.000125 -0.000111 -0.000098 -0.000084 -0.000071  \n1601 -0.000263 -0.000244 -0.000223 -0.000201 -0.000180 -0.000158 -0.000137  \n1144 -0.000221 -0.000206 -0.000191 -0.000175 -0.000159 -0.000143 -0.000127  \n\n[391 rows x 1000 columns]",
      "text/html": "<div>\n<style scoped>\n    .dataframe tbody tr th:only-of-type {\n        vertical-align: middle;\n    }\n\n    .dataframe tbody tr th {\n        vertical-align: top;\n    }\n\n    .dataframe thead th {\n        text-align: right;\n    }\n</style>\n<table border=\"1\" class=\"dataframe\">\n  <thead>\n    <tr style=\"text-align: right;\">\n      <th></th>\n      <th>500.0</th>\n      <th>502.0</th>\n      <th>504.0</th>\n      <th>506.0</th>\n      <th>508.0</th>\n      <th>510.0</th>\n      <th>512.0</th>\n      <th>514.0</th>\n      <th>516.0</th>\n      <th>518.0</th>\n      <th>...</th>\n      <th>2480.0</th>\n      <th>2482.0</th>\n      <th>2484.0</th>\n      <th>2486.0</th>\n      <th>2488.0</th>\n      <th>2490.0</th>\n      <th>2492.0</th>\n      <th>2494.0</th>\n      <th>2496.0</th>\n      <th>2498.0</th>\n    </tr>\n  </thead>\n  <tbody>\n    <tr>\n      <th>1615</th>\n      <td>0.000072</td>\n      <td>0.000075</td>\n      <td>0.000078</td>\n      <td>0.000082</td>\n      <td>0.000085</td>\n      <td>0.000088</td>\n      <td>0.000091</td>\n      <td>0.000094</td>\n      <td>0.000097</td>\n      <td>0.000099</td>\n      <td>...</td>\n      <td>-0.000131</td>\n      <td>-0.000123</td>\n      <td>-0.000114</td>\n      <td>-0.000104</td>\n      <td>-0.000093</td>\n      <td>-0.000082</td>\n      <td>-0.000071</td>\n      <td>-0.000059</td>\n      <td>-0.000048</td>\n      <td>-0.000037</td>\n    </tr>\n    <tr>\n      <th>1406</th>\n      <td>0.000053</td>\n      <td>0.000055</td>\n      <td>0.000058</td>\n      <td>0.000060</td>\n      <td>0.000063</td>\n      <td>0.000065</td>\n      <td>0.000067</td>\n      <td>0.000070</td>\n      <td>0.000071</td>\n      <td>0.000073</td>\n      <td>...</td>\n      <td>-0.000132</td>\n      <td>-0.000124</td>\n      <td>-0.000116</td>\n      <td>-0.000106</td>\n      <td>-0.000096</td>\n      <td>-0.000086</td>\n      <td>-0.000077</td>\n      <td>-0.000067</td>\n      <td>-0.000058</td>\n      <td>-0.000049</td>\n    </tr>\n    <tr>\n      <th>1905</th>\n      <td>0.000034</td>\n      <td>0.000035</td>\n      <td>0.000036</td>\n      <td>0.000038</td>\n      <td>0.000039</td>\n      <td>0.000040</td>\n      <td>0.000041</td>\n      <td>0.000042</td>\n      <td>0.000043</td>\n      <td>0.000044</td>\n      <td>...</td>\n      <td>-0.000102</td>\n      <td>-0.000096</td>\n      <td>-0.000090</td>\n      <td>-0.000084</td>\n      <td>-0.000077</td>\n      <td>-0.000072</td>\n      <td>-0.000067</td>\n      <td>-0.000062</td>\n      <td>-0.000057</td>\n      <td>-0.000052</td>\n    </tr>\n    <tr>\n      <th>1580</th>\n      <td>0.000213</td>\n      <td>0.000221</td>\n      <td>0.000229</td>\n      <td>0.000237</td>\n      <td>0.000246</td>\n      <td>0.000254</td>\n      <td>0.000262</td>\n      <td>0.000270</td>\n      <td>0.000277</td>\n      <td>0.000284</td>\n      <td>...</td>\n      <td>-0.000121</td>\n      <td>-0.000115</td>\n      <td>-0.000106</td>\n      <td>-0.000097</td>\n      <td>-0.000088</td>\n      <td>-0.000079</td>\n      <td>-0.000070</td>\n      <td>-0.000061</td>\n      <td>-0.000052</td>\n      <td>-0.000042</td>\n    </tr>\n    <tr>\n      <th>307</th>\n      <td>0.000332</td>\n      <td>0.000341</td>\n      <td>0.000350</td>\n      <td>0.000358</td>\n      <td>0.000367</td>\n      <td>0.000376</td>\n      <td>0.000384</td>\n      <td>0.000392</td>\n      <td>0.000399</td>\n      <td>0.000405</td>\n      <td>...</td>\n      <td>-0.000082</td>\n      <td>-0.000079</td>\n      <td>-0.000075</td>\n      <td>-0.000069</td>\n      <td>-0.000062</td>\n      <td>-0.000054</td>\n      <td>-0.000045</td>\n      <td>-0.000036</td>\n      <td>-0.000027</td>\n      <td>-0.000018</td>\n    </tr>\n    <tr>\n      <th>...</th>\n      <td>...</td>\n      <td>...</td>\n      <td>...</td>\n      <td>...</td>\n      <td>...</td>\n      <td>...</td>\n      <td>...</td>\n      <td>...</td>\n      <td>...</td>\n      <td>...</td>\n      <td>...</td>\n      <td>...</td>\n      <td>...</td>\n      <td>...</td>\n      <td>...</td>\n      <td>...</td>\n      <td>...</td>\n      <td>...</td>\n      <td>...</td>\n      <td>...</td>\n      <td>...</td>\n    </tr>\n    <tr>\n      <th>426</th>\n      <td>0.000229</td>\n      <td>0.000236</td>\n      <td>0.000242</td>\n      <td>0.000249</td>\n      <td>0.000256</td>\n      <td>0.000262</td>\n      <td>0.000269</td>\n      <td>0.000275</td>\n      <td>0.000280</td>\n      <td>0.000286</td>\n      <td>...</td>\n      <td>-0.000187</td>\n      <td>-0.000179</td>\n      <td>-0.000168</td>\n      <td>-0.000155</td>\n      <td>-0.000141</td>\n      <td>-0.000125</td>\n      <td>-0.000109</td>\n      <td>-0.000093</td>\n      <td>-0.000076</td>\n      <td>-0.000060</td>\n    </tr>\n    <tr>\n      <th>1910</th>\n      <td>0.000417</td>\n      <td>0.000427</td>\n      <td>0.000438</td>\n      <td>0.000448</td>\n      <td>0.000458</td>\n      <td>0.000469</td>\n      <td>0.000479</td>\n      <td>0.000489</td>\n      <td>0.000498</td>\n      <td>0.000507</td>\n      <td>...</td>\n      <td>-0.000163</td>\n      <td>-0.000163</td>\n      <td>-0.000160</td>\n      <td>-0.000154</td>\n      <td>-0.000145</td>\n      <td>-0.000133</td>\n      <td>-0.000121</td>\n      <td>-0.000108</td>\n      <td>-0.000096</td>\n      <td>-0.000083</td>\n    </tr>\n    <tr>\n      <th>1646</th>\n      <td>0.000378</td>\n      <td>0.000385</td>\n      <td>0.000392</td>\n      <td>0.000399</td>\n      <td>0.000406</td>\n      <td>0.000413</td>\n      <td>0.000421</td>\n      <td>0.000428</td>\n      <td>0.000435</td>\n      <td>0.000442</td>\n      <td>...</td>\n      <td>-0.000175</td>\n      <td>-0.000168</td>\n      <td>-0.000159</td>\n      <td>-0.000149</td>\n      <td>-0.000138</td>\n      <td>-0.000125</td>\n      <td>-0.000111</td>\n      <td>-0.000098</td>\n      <td>-0.000084</td>\n      <td>-0.000071</td>\n    </tr>\n    <tr>\n      <th>1601</th>\n      <td>0.000335</td>\n      <td>0.000341</td>\n      <td>0.000347</td>\n      <td>0.000354</td>\n      <td>0.000360</td>\n      <td>0.000366</td>\n      <td>0.000373</td>\n      <td>0.000380</td>\n      <td>0.000386</td>\n      <td>0.000394</td>\n      <td>...</td>\n      <td>-0.000309</td>\n      <td>-0.000296</td>\n      <td>-0.000281</td>\n      <td>-0.000263</td>\n      <td>-0.000244</td>\n      <td>-0.000223</td>\n      <td>-0.000201</td>\n      <td>-0.000180</td>\n      <td>-0.000158</td>\n      <td>-0.000137</td>\n    </tr>\n    <tr>\n      <th>1144</th>\n      <td>0.000380</td>\n      <td>0.000390</td>\n      <td>0.000400</td>\n      <td>0.000410</td>\n      <td>0.000420</td>\n      <td>0.000429</td>\n      <td>0.000439</td>\n      <td>0.000447</td>\n      <td>0.000453</td>\n      <td>0.000459</td>\n      <td>...</td>\n      <td>-0.000255</td>\n      <td>-0.000246</td>\n      <td>-0.000234</td>\n      <td>-0.000221</td>\n      <td>-0.000206</td>\n      <td>-0.000191</td>\n      <td>-0.000175</td>\n      <td>-0.000159</td>\n      <td>-0.000143</td>\n      <td>-0.000127</td>\n    </tr>\n  </tbody>\n</table>\n<p>391 rows × 1000 columns</p>\n</div>"
     },
     "execution_count": 7,
     "metadata": {},
     "output_type": "execute_result"
    }
   ],
   "source": [
    "from sklearn.model_selection import train_test_split\n",
    "tat_train, tat_test, targets_train, targets_test = train_test_split(tat, targets, test_size=0.2, random_state=42)\n",
    "tat_test"
   ]
  },
  {
   "cell_type": "code",
   "execution_count": 5,
   "id": "843b8311",
   "metadata": {
    "ExecuteTime": {
     "end_time": "2023-11-07T10:22:03.040587Z",
     "start_time": "2023-11-07T10:22:03.035942Z"
    }
   },
   "outputs": [
    {
     "data": {
      "text/plain": "         500.0     500.5     501.0     501.5     502.0     502.5     503.0  \\\n326   0.000256  0.000257  0.000259  0.000260  0.000261  0.000263  0.000264   \n1039  0.000237  0.000239  0.000240  0.000242  0.000243  0.000245  0.000246   \n8104  0.000101  0.000102  0.000103  0.000104  0.000104  0.000105  0.000106   \n4913  0.000380  0.000382  0.000384  0.000385  0.000387  0.000389  0.000391   \n2499  0.000327  0.000329  0.000330  0.000332  0.000333  0.000335  0.000337   \n...        ...       ...       ...       ...       ...       ...       ...   \n5734  0.000362  0.000365  0.000368  0.000370  0.000373  0.000376  0.000378   \n5191  0.000391  0.000392  0.000394  0.000396  0.000398  0.000399  0.000401   \n5390  0.000168  0.000169  0.000170  0.000171  0.000172  0.000173  0.000173   \n860   0.000178  0.000180  0.000181  0.000183  0.000184  0.000186  0.000188   \n7270  0.000339  0.000341  0.000343  0.000345  0.000347  0.000349  0.000351   \n\n         503.5     504.0     504.5  ...    2495.0    2495.5    2496.0  \\\n326   0.000266  0.000267  0.000268  ... -0.000052 -0.000045 -0.000038   \n1039  0.000248  0.000249  0.000251  ... -0.000081 -0.000078 -0.000075   \n8104  0.000107  0.000108  0.000109  ... -0.000143 -0.000141 -0.000139   \n4913  0.000393  0.000394  0.000396  ... -0.000047 -0.000044 -0.000041   \n2499  0.000338  0.000340  0.000341  ... -0.000083 -0.000082 -0.000081   \n...        ...       ...       ...  ...       ...       ...       ...   \n5734  0.000381  0.000384  0.000386  ... -0.000122 -0.000119 -0.000117   \n5191  0.000403  0.000404  0.000406  ... -0.000053 -0.000052 -0.000051   \n5390  0.000174  0.000175  0.000176  ... -0.000064 -0.000061 -0.000059   \n860   0.000189  0.000191  0.000192  ... -0.000076 -0.000073 -0.000071   \n7270  0.000353  0.000355  0.000357  ... -0.000118 -0.000113 -0.000108   \n\n        2496.5    2497.0    2497.5    2498.0    2498.5    2499.0    2499.5  \n326  -0.000031 -0.000024 -0.000016 -0.000009 -0.000002  0.000005  0.000012  \n1039 -0.000073 -0.000070 -0.000067 -0.000064 -0.000061 -0.000059 -0.000056  \n8104 -0.000138 -0.000136 -0.000134 -0.000132 -0.000130 -0.000128 -0.000126  \n4913 -0.000038 -0.000035 -0.000032 -0.000029 -0.000026 -0.000023 -0.000020  \n2499 -0.000079 -0.000078 -0.000077 -0.000076 -0.000075 -0.000073 -0.000072  \n...        ...       ...       ...       ...       ...       ...       ...  \n5734 -0.000114 -0.000112 -0.000110 -0.000107 -0.000105 -0.000102 -0.000100  \n5191 -0.000050 -0.000049 -0.000048 -0.000046 -0.000045 -0.000044 -0.000043  \n5390 -0.000056 -0.000053 -0.000050 -0.000048 -0.000045 -0.000042 -0.000040  \n860  -0.000068 -0.000065 -0.000062 -0.000059 -0.000056 -0.000053 -0.000050  \n7270 -0.000104 -0.000099 -0.000094 -0.000089 -0.000084 -0.000079 -0.000074  \n\n[6629 rows x 4000 columns]",
      "text/html": "<div>\n<style scoped>\n    .dataframe tbody tr th:only-of-type {\n        vertical-align: middle;\n    }\n\n    .dataframe tbody tr th {\n        vertical-align: top;\n    }\n\n    .dataframe thead th {\n        text-align: right;\n    }\n</style>\n<table border=\"1\" class=\"dataframe\">\n  <thead>\n    <tr style=\"text-align: right;\">\n      <th></th>\n      <th>500.0</th>\n      <th>500.5</th>\n      <th>501.0</th>\n      <th>501.5</th>\n      <th>502.0</th>\n      <th>502.5</th>\n      <th>503.0</th>\n      <th>503.5</th>\n      <th>504.0</th>\n      <th>504.5</th>\n      <th>...</th>\n      <th>2495.0</th>\n      <th>2495.5</th>\n      <th>2496.0</th>\n      <th>2496.5</th>\n      <th>2497.0</th>\n      <th>2497.5</th>\n      <th>2498.0</th>\n      <th>2498.5</th>\n      <th>2499.0</th>\n      <th>2499.5</th>\n    </tr>\n  </thead>\n  <tbody>\n    <tr>\n      <th>326</th>\n      <td>0.000256</td>\n      <td>0.000257</td>\n      <td>0.000259</td>\n      <td>0.000260</td>\n      <td>0.000261</td>\n      <td>0.000263</td>\n      <td>0.000264</td>\n      <td>0.000266</td>\n      <td>0.000267</td>\n      <td>0.000268</td>\n      <td>...</td>\n      <td>-0.000052</td>\n      <td>-0.000045</td>\n      <td>-0.000038</td>\n      <td>-0.000031</td>\n      <td>-0.000024</td>\n      <td>-0.000016</td>\n      <td>-0.000009</td>\n      <td>-0.000002</td>\n      <td>0.000005</td>\n      <td>0.000012</td>\n    </tr>\n    <tr>\n      <th>1039</th>\n      <td>0.000237</td>\n      <td>0.000239</td>\n      <td>0.000240</td>\n      <td>0.000242</td>\n      <td>0.000243</td>\n      <td>0.000245</td>\n      <td>0.000246</td>\n      <td>0.000248</td>\n      <td>0.000249</td>\n      <td>0.000251</td>\n      <td>...</td>\n      <td>-0.000081</td>\n      <td>-0.000078</td>\n      <td>-0.000075</td>\n      <td>-0.000073</td>\n      <td>-0.000070</td>\n      <td>-0.000067</td>\n      <td>-0.000064</td>\n      <td>-0.000061</td>\n      <td>-0.000059</td>\n      <td>-0.000056</td>\n    </tr>\n    <tr>\n      <th>8104</th>\n      <td>0.000101</td>\n      <td>0.000102</td>\n      <td>0.000103</td>\n      <td>0.000104</td>\n      <td>0.000104</td>\n      <td>0.000105</td>\n      <td>0.000106</td>\n      <td>0.000107</td>\n      <td>0.000108</td>\n      <td>0.000109</td>\n      <td>...</td>\n      <td>-0.000143</td>\n      <td>-0.000141</td>\n      <td>-0.000139</td>\n      <td>-0.000138</td>\n      <td>-0.000136</td>\n      <td>-0.000134</td>\n      <td>-0.000132</td>\n      <td>-0.000130</td>\n      <td>-0.000128</td>\n      <td>-0.000126</td>\n    </tr>\n    <tr>\n      <th>4913</th>\n      <td>0.000380</td>\n      <td>0.000382</td>\n      <td>0.000384</td>\n      <td>0.000385</td>\n      <td>0.000387</td>\n      <td>0.000389</td>\n      <td>0.000391</td>\n      <td>0.000393</td>\n      <td>0.000394</td>\n      <td>0.000396</td>\n      <td>...</td>\n      <td>-0.000047</td>\n      <td>-0.000044</td>\n      <td>-0.000041</td>\n      <td>-0.000038</td>\n      <td>-0.000035</td>\n      <td>-0.000032</td>\n      <td>-0.000029</td>\n      <td>-0.000026</td>\n      <td>-0.000023</td>\n      <td>-0.000020</td>\n    </tr>\n    <tr>\n      <th>2499</th>\n      <td>0.000327</td>\n      <td>0.000329</td>\n      <td>0.000330</td>\n      <td>0.000332</td>\n      <td>0.000333</td>\n      <td>0.000335</td>\n      <td>0.000337</td>\n      <td>0.000338</td>\n      <td>0.000340</td>\n      <td>0.000341</td>\n      <td>...</td>\n      <td>-0.000083</td>\n      <td>-0.000082</td>\n      <td>-0.000081</td>\n      <td>-0.000079</td>\n      <td>-0.000078</td>\n      <td>-0.000077</td>\n      <td>-0.000076</td>\n      <td>-0.000075</td>\n      <td>-0.000073</td>\n      <td>-0.000072</td>\n    </tr>\n    <tr>\n      <th>...</th>\n      <td>...</td>\n      <td>...</td>\n      <td>...</td>\n      <td>...</td>\n      <td>...</td>\n      <td>...</td>\n      <td>...</td>\n      <td>...</td>\n      <td>...</td>\n      <td>...</td>\n      <td>...</td>\n      <td>...</td>\n      <td>...</td>\n      <td>...</td>\n      <td>...</td>\n      <td>...</td>\n      <td>...</td>\n      <td>...</td>\n      <td>...</td>\n      <td>...</td>\n      <td>...</td>\n    </tr>\n    <tr>\n      <th>5734</th>\n      <td>0.000362</td>\n      <td>0.000365</td>\n      <td>0.000368</td>\n      <td>0.000370</td>\n      <td>0.000373</td>\n      <td>0.000376</td>\n      <td>0.000378</td>\n      <td>0.000381</td>\n      <td>0.000384</td>\n      <td>0.000386</td>\n      <td>...</td>\n      <td>-0.000122</td>\n      <td>-0.000119</td>\n      <td>-0.000117</td>\n      <td>-0.000114</td>\n      <td>-0.000112</td>\n      <td>-0.000110</td>\n      <td>-0.000107</td>\n      <td>-0.000105</td>\n      <td>-0.000102</td>\n      <td>-0.000100</td>\n    </tr>\n    <tr>\n      <th>5191</th>\n      <td>0.000391</td>\n      <td>0.000392</td>\n      <td>0.000394</td>\n      <td>0.000396</td>\n      <td>0.000398</td>\n      <td>0.000399</td>\n      <td>0.000401</td>\n      <td>0.000403</td>\n      <td>0.000404</td>\n      <td>0.000406</td>\n      <td>...</td>\n      <td>-0.000053</td>\n      <td>-0.000052</td>\n      <td>-0.000051</td>\n      <td>-0.000050</td>\n      <td>-0.000049</td>\n      <td>-0.000048</td>\n      <td>-0.000046</td>\n      <td>-0.000045</td>\n      <td>-0.000044</td>\n      <td>-0.000043</td>\n    </tr>\n    <tr>\n      <th>5390</th>\n      <td>0.000168</td>\n      <td>0.000169</td>\n      <td>0.000170</td>\n      <td>0.000171</td>\n      <td>0.000172</td>\n      <td>0.000173</td>\n      <td>0.000173</td>\n      <td>0.000174</td>\n      <td>0.000175</td>\n      <td>0.000176</td>\n      <td>...</td>\n      <td>-0.000064</td>\n      <td>-0.000061</td>\n      <td>-0.000059</td>\n      <td>-0.000056</td>\n      <td>-0.000053</td>\n      <td>-0.000050</td>\n      <td>-0.000048</td>\n      <td>-0.000045</td>\n      <td>-0.000042</td>\n      <td>-0.000040</td>\n    </tr>\n    <tr>\n      <th>860</th>\n      <td>0.000178</td>\n      <td>0.000180</td>\n      <td>0.000181</td>\n      <td>0.000183</td>\n      <td>0.000184</td>\n      <td>0.000186</td>\n      <td>0.000188</td>\n      <td>0.000189</td>\n      <td>0.000191</td>\n      <td>0.000192</td>\n      <td>...</td>\n      <td>-0.000076</td>\n      <td>-0.000073</td>\n      <td>-0.000071</td>\n      <td>-0.000068</td>\n      <td>-0.000065</td>\n      <td>-0.000062</td>\n      <td>-0.000059</td>\n      <td>-0.000056</td>\n      <td>-0.000053</td>\n      <td>-0.000050</td>\n    </tr>\n    <tr>\n      <th>7270</th>\n      <td>0.000339</td>\n      <td>0.000341</td>\n      <td>0.000343</td>\n      <td>0.000345</td>\n      <td>0.000347</td>\n      <td>0.000349</td>\n      <td>0.000351</td>\n      <td>0.000353</td>\n      <td>0.000355</td>\n      <td>0.000357</td>\n      <td>...</td>\n      <td>-0.000118</td>\n      <td>-0.000113</td>\n      <td>-0.000108</td>\n      <td>-0.000104</td>\n      <td>-0.000099</td>\n      <td>-0.000094</td>\n      <td>-0.000089</td>\n      <td>-0.000084</td>\n      <td>-0.000079</td>\n      <td>-0.000074</td>\n    </tr>\n  </tbody>\n</table>\n<p>6629 rows × 4000 columns</p>\n</div>"
     },
     "execution_count": 5,
     "metadata": {},
     "output_type": "execute_result"
    }
   ],
   "source": [
    "tat_train"
   ]
  },
  {
   "cell_type": "code",
   "execution_count": 6,
   "id": "24f69cbd",
   "metadata": {
    "ExecuteTime": {
     "end_time": "2023-11-07T10:22:03.048231Z",
     "start_time": "2023-11-07T10:22:03.038683Z"
    }
   },
   "outputs": [
    {
     "data": {
      "text/plain": "              x\n6476   very_low\n1496       high\n2225        low\n932         low\n7908  very_high\n...         ...\n2481   very_low\n7210   very_low\n8354   very_low\n2706        low\n4560        low\n\n[3266 rows x 1 columns]",
      "text/html": "<div>\n<style scoped>\n    .dataframe tbody tr th:only-of-type {\n        vertical-align: middle;\n    }\n\n    .dataframe tbody tr th {\n        vertical-align: top;\n    }\n\n    .dataframe thead th {\n        text-align: right;\n    }\n</style>\n<table border=\"1\" class=\"dataframe\">\n  <thead>\n    <tr style=\"text-align: right;\">\n      <th></th>\n      <th>x</th>\n    </tr>\n  </thead>\n  <tbody>\n    <tr>\n      <th>6476</th>\n      <td>very_low</td>\n    </tr>\n    <tr>\n      <th>1496</th>\n      <td>high</td>\n    </tr>\n    <tr>\n      <th>2225</th>\n      <td>low</td>\n    </tr>\n    <tr>\n      <th>932</th>\n      <td>low</td>\n    </tr>\n    <tr>\n      <th>7908</th>\n      <td>very_high</td>\n    </tr>\n    <tr>\n      <th>...</th>\n      <td>...</td>\n    </tr>\n    <tr>\n      <th>2481</th>\n      <td>very_low</td>\n    </tr>\n    <tr>\n      <th>7210</th>\n      <td>very_low</td>\n    </tr>\n    <tr>\n      <th>8354</th>\n      <td>very_low</td>\n    </tr>\n    <tr>\n      <th>2706</th>\n      <td>low</td>\n    </tr>\n    <tr>\n      <th>4560</th>\n      <td>low</td>\n    </tr>\n  </tbody>\n</table>\n<p>3266 rows × 1 columns</p>\n</div>"
     },
     "execution_count": 6,
     "metadata": {},
     "output_type": "execute_result"
    }
   ],
   "source": [
    "targets_test"
   ]
  },
  {
   "cell_type": "code",
   "execution_count": 7,
   "id": "5848084b",
   "metadata": {
    "ExecuteTime": {
     "end_time": "2023-11-07T10:22:03.068345Z",
     "start_time": "2023-11-07T10:22:03.051535Z"
    }
   },
   "outputs": [
    {
     "data": {
      "text/plain": "             x\n326   moderate\n1039      high\n8104  moderate\n4913  very_low\n2499  very_low\n...        ...\n5734  very_low\n5191  very_low\n5390  very_low\n860        low\n7270  very_low\n\n[6629 rows x 1 columns]",
      "text/html": "<div>\n<style scoped>\n    .dataframe tbody tr th:only-of-type {\n        vertical-align: middle;\n    }\n\n    .dataframe tbody tr th {\n        vertical-align: top;\n    }\n\n    .dataframe thead th {\n        text-align: right;\n    }\n</style>\n<table border=\"1\" class=\"dataframe\">\n  <thead>\n    <tr style=\"text-align: right;\">\n      <th></th>\n      <th>x</th>\n    </tr>\n  </thead>\n  <tbody>\n    <tr>\n      <th>326</th>\n      <td>moderate</td>\n    </tr>\n    <tr>\n      <th>1039</th>\n      <td>high</td>\n    </tr>\n    <tr>\n      <th>8104</th>\n      <td>moderate</td>\n    </tr>\n    <tr>\n      <th>4913</th>\n      <td>very_low</td>\n    </tr>\n    <tr>\n      <th>2499</th>\n      <td>very_low</td>\n    </tr>\n    <tr>\n      <th>...</th>\n      <td>...</td>\n    </tr>\n    <tr>\n      <th>5734</th>\n      <td>very_low</td>\n    </tr>\n    <tr>\n      <th>5191</th>\n      <td>very_low</td>\n    </tr>\n    <tr>\n      <th>5390</th>\n      <td>very_low</td>\n    </tr>\n    <tr>\n      <th>860</th>\n      <td>low</td>\n    </tr>\n    <tr>\n      <th>7270</th>\n      <td>very_low</td>\n    </tr>\n  </tbody>\n</table>\n<p>6629 rows × 1 columns</p>\n</div>"
     },
     "execution_count": 7,
     "metadata": {},
     "output_type": "execute_result"
    }
   ],
   "source": [
    "targets_train"
   ]
  },
  {
   "attachments": {},
   "cell_type": "markdown",
   "id": "5724b114",
   "metadata": {},
   "source": [
    "Reshape `targets_train` and `targets_test` from a column vector to a 1d array:"
   ]
  },
  {
   "cell_type": "code",
   "execution_count": 8,
   "id": "538b3e99",
   "metadata": {
    "ExecuteTime": {
     "end_time": "2024-02-05T22:45:39.141597Z",
     "start_time": "2024-02-05T22:45:39.134726Z"
    }
   },
   "outputs": [
    {
     "data": {
      "text/plain": "array(['moderate', 'high', 'low', ..., 'low', 'moderate', 'very_high'],\n      dtype=object)"
     },
     "execution_count": 8,
     "metadata": {},
     "output_type": "execute_result"
    }
   ],
   "source": [
    "targets_train = targets_train.values.ravel()\n",
    "targets_train"
   ]
  },
  {
   "cell_type": "code",
   "execution_count": 9,
   "id": "a975e824",
   "metadata": {
    "ExecuteTime": {
     "end_time": "2024-02-05T22:45:41.142629Z",
     "start_time": "2024-02-05T22:45:41.133987Z"
    }
   },
   "outputs": [
    {
     "data": {
      "text/plain": "array(['moderate', 'high', 'high', 'very_high', 'low', 'very_high',\n       'high', 'very_low', 'very_high', 'moderate', 'moderate', 'high',\n       'high', 'moderate', 'very_low', 'high', 'low', 'low', 'moderate',\n       'high', 'moderate', 'very_low', 'low', 'very_low', 'low', 'high',\n       'very_low', 'low', 'low', 'low', 'very_low', 'high', 'high',\n       'moderate', 'very_low', 'moderate', 'moderate', 'high', 'very_low',\n       'moderate', 'low', 'low', 'high', 'high', 'very_low', 'very_low',\n       'moderate', 'very_low', 'high', 'very_low', 'low', 'very_low',\n       'moderate', 'low', 'low', 'high', 'very_low', 'moderate',\n       'moderate', 'very_low', 'very_low', 'moderate', 'low', 'low',\n       'moderate', 'high', 'low', 'low', 'very_low', 'low', 'high', 'low',\n       'very_low', 'low', 'moderate', 'very_low', 'low', 'moderate',\n       'very_low', 'very_high', 'very_low', 'very_low', 'moderate', 'low',\n       'high', 'moderate', 'moderate', 'low', 'moderate', 'low',\n       'moderate', 'high', 'low', 'low', 'high', 'moderate', 'low',\n       'very_low', 'low', 'moderate', 'low', 'high', 'very_low',\n       'very_low', 'moderate', 'high', 'high', 'very_low', 'high',\n       'moderate', 'moderate', 'moderate', 'high', 'very_high', 'low',\n       'high', 'high', 'low', 'moderate', 'very_low', 'low', 'moderate',\n       'low', 'high', 'very_low', 'moderate', 'low', 'high', 'very_high',\n       'low', 'moderate', 'very_low', 'low', 'very_low', 'low', 'low',\n       'high', 'low', 'low', 'moderate', 'high', 'very_low', 'low',\n       'very_high', 'moderate', 'very_low', 'low', 'very_low', 'high',\n       'moderate', 'low', 'moderate', 'very_low', 'very_high', 'high',\n       'very_low', 'high', 'moderate', 'high', 'very_low', 'low',\n       'very_low', 'very_high', 'very_low', 'moderate', 'high',\n       'very_low', 'moderate', 'very_high', 'very_low', 'low', 'high',\n       'very_low', 'very_low', 'moderate', 'moderate', 'low', 'moderate',\n       'very_low', 'moderate', 'low', 'high', 'high', 'moderate', 'high',\n       'low', 'moderate', 'very_high', 'low', 'very_low', 'low', 'high',\n       'low', 'very_low', 'high', 'low', 'moderate', 'high', 'low',\n       'very_low', 'moderate', 'moderate', 'high', 'high', 'moderate',\n       'low', 'low', 'moderate', 'moderate', 'very_low', 'very_low',\n       'low', 'very_low', 'high', 'low', 'very_high', 'moderate', 'low',\n       'high', 'low', 'very_low', 'moderate', 'moderate', 'high',\n       'moderate', 'moderate', 'low', 'moderate', 'low', 'very_low',\n       'low', 'moderate', 'very_low', 'moderate', 'moderate', 'moderate',\n       'low', 'moderate', 'high', 'very_low', 'very_low', 'very_low',\n       'very_low', 'moderate', 'high', 'very_high', 'very_low', 'low',\n       'very_low', 'moderate', 'very_low', 'low', 'moderate', 'very_high',\n       'low', 'low', 'moderate', 'low', 'low', 'high', 'moderate',\n       'very_low', 'high', 'high', 'low', 'high', 'moderate', 'low',\n       'low', 'moderate', 'moderate', 'very_low', 'very_low', 'moderate',\n       'moderate', 'low', 'low', 'very_low', 'high', 'moderate', 'low',\n       'very_low', 'moderate', 'very_low', 'low', 'very_low', 'moderate',\n       'low', 'high', 'very_low', 'very_high', 'low', 'very_low', 'low',\n       'moderate', 'very_high', 'high', 'high', 'moderate', 'moderate',\n       'very_low', 'low', 'very_low', 'very_low', 'very_low', 'low',\n       'moderate', 'moderate', 'moderate', 'high', 'high', 'low',\n       'very_high', 'moderate', 'low', 'low', 'very_low', 'low', 'low',\n       'moderate', 'very_high', 'low', 'very_low', 'moderate', 'very_low',\n       'low', 'very_low', 'very_low', 'low', 'very_low', 'very_low',\n       'very_low', 'moderate', 'low', 'very_low', 'moderate', 'very_low',\n       'very_low', 'very_low', 'high', 'moderate', 'moderate', 'moderate',\n       'moderate', 'low', 'very_low', 'very_high', 'low', 'high', 'low',\n       'very_high', 'low', 'low', 'low', 'very_high', 'low', 'low',\n       'moderate', 'very_low', 'low', 'moderate', 'high', 'moderate',\n       'moderate', 'very_high', 'very_low', 'moderate', 'moderate', 'low',\n       'very_low', 'low', 'high', 'low', 'low', 'high', 'very_low',\n       'very_low', 'high', 'high', 'moderate', 'moderate', 'moderate',\n       'low', 'low', 'very_low', 'very_low', 'low', 'very_low',\n       'very_low', 'very_low', 'moderate'], dtype=object)"
     },
     "execution_count": 9,
     "metadata": {},
     "output_type": "execute_result"
    }
   ],
   "source": [
    "targets_test = targets_test.values.ravel()\n",
    "targets_test"
   ]
  },
  {
   "attachments": {},
   "cell_type": "markdown",
   "id": "2c51a99e",
   "metadata": {},
   "source": [
    "# Implementations of classifiers"
   ]
  },
  {
   "attachments": {},
   "cell_type": "markdown",
   "id": "b5069adf",
   "metadata": {},
   "source": [
    "### Implement a k-NN Classifier"
   ]
  },
  {
   "cell_type": "code",
   "execution_count": 10,
   "id": "cc4a51d4",
   "metadata": {
    "ExecuteTime": {
     "end_time": "2023-11-07T10:22:04.045701Z",
     "start_time": "2023-11-07T10:22:03.073036Z"
    }
   },
   "outputs": [
    {
     "ename": "AttributeError",
     "evalue": "'Flags' object has no attribute 'c_contiguous'",
     "output_type": "error",
     "traceback": [
      "\u001B[0;31m---------------------------------------------------------------------------\u001B[0m",
      "\u001B[0;31mAttributeError\u001B[0m                            Traceback (most recent call last)",
      "Cell \u001B[0;32mIn[10], line 4\u001B[0m\n\u001B[1;32m      2\u001B[0m knn \u001B[38;5;241m=\u001B[39m neighbors\u001B[38;5;241m.\u001B[39mKNeighborsClassifier(n_neighbors\u001B[38;5;241m=\u001B[39m\u001B[38;5;241m5\u001B[39m)  \u001B[38;5;66;03m# default number of neighbors = 5\u001B[39;00m\n\u001B[1;32m      3\u001B[0m knn\u001B[38;5;241m.\u001B[39mfit(tat_train, targets_train)\n\u001B[0;32m----> 4\u001B[0m knn\u001B[38;5;241m.\u001B[39mscore(tat_test, targets_test)\n",
      "File \u001B[0;32m~/anaconda3/lib/python3.11/site-packages/sklearn/base.py:705\u001B[0m, in \u001B[0;36mClassifierMixin.score\u001B[0;34m(self, X, y, sample_weight)\u001B[0m\n\u001B[1;32m    680\u001B[0m \u001B[38;5;250m\u001B[39m\u001B[38;5;124;03m\"\"\"\u001B[39;00m\n\u001B[1;32m    681\u001B[0m \u001B[38;5;124;03mReturn the mean accuracy on the given test data and labels.\u001B[39;00m\n\u001B[1;32m    682\u001B[0m \n\u001B[0;32m   (...)\u001B[0m\n\u001B[1;32m    701\u001B[0m \u001B[38;5;124;03m    Mean accuracy of ``self.predict(X)`` w.r.t. `y`.\u001B[39;00m\n\u001B[1;32m    702\u001B[0m \u001B[38;5;124;03m\"\"\"\u001B[39;00m\n\u001B[1;32m    703\u001B[0m \u001B[38;5;28;01mfrom\u001B[39;00m \u001B[38;5;21;01m.\u001B[39;00m\u001B[38;5;21;01mmetrics\u001B[39;00m \u001B[38;5;28;01mimport\u001B[39;00m accuracy_score\n\u001B[0;32m--> 705\u001B[0m \u001B[38;5;28;01mreturn\u001B[39;00m accuracy_score(y, \u001B[38;5;28mself\u001B[39m\u001B[38;5;241m.\u001B[39mpredict(X), sample_weight\u001B[38;5;241m=\u001B[39msample_weight)\n",
      "File \u001B[0;32m~/anaconda3/lib/python3.11/site-packages/sklearn/neighbors/_classification.py:246\u001B[0m, in \u001B[0;36mKNeighborsClassifier.predict\u001B[0;34m(self, X)\u001B[0m\n\u001B[1;32m    244\u001B[0m check_is_fitted(\u001B[38;5;28mself\u001B[39m, \u001B[38;5;124m\"\u001B[39m\u001B[38;5;124m_fit_method\u001B[39m\u001B[38;5;124m\"\u001B[39m)\n\u001B[1;32m    245\u001B[0m \u001B[38;5;28;01mif\u001B[39;00m \u001B[38;5;28mself\u001B[39m\u001B[38;5;241m.\u001B[39mweights \u001B[38;5;241m==\u001B[39m \u001B[38;5;124m\"\u001B[39m\u001B[38;5;124muniform\u001B[39m\u001B[38;5;124m\"\u001B[39m:\n\u001B[0;32m--> 246\u001B[0m     \u001B[38;5;28;01mif\u001B[39;00m \u001B[38;5;28mself\u001B[39m\u001B[38;5;241m.\u001B[39m_fit_method \u001B[38;5;241m==\u001B[39m \u001B[38;5;124m\"\u001B[39m\u001B[38;5;124mbrute\u001B[39m\u001B[38;5;124m\"\u001B[39m \u001B[38;5;129;01mand\u001B[39;00m ArgKminClassMode\u001B[38;5;241m.\u001B[39mis_usable_for(\n\u001B[1;32m    247\u001B[0m         X, \u001B[38;5;28mself\u001B[39m\u001B[38;5;241m.\u001B[39m_fit_X, \u001B[38;5;28mself\u001B[39m\u001B[38;5;241m.\u001B[39mmetric\n\u001B[1;32m    248\u001B[0m     ):\n\u001B[1;32m    249\u001B[0m         probabilities \u001B[38;5;241m=\u001B[39m \u001B[38;5;28mself\u001B[39m\u001B[38;5;241m.\u001B[39mpredict_proba(X)\n\u001B[1;32m    250\u001B[0m         \u001B[38;5;28;01mif\u001B[39;00m \u001B[38;5;28mself\u001B[39m\u001B[38;5;241m.\u001B[39moutputs_2d_:\n",
      "File \u001B[0;32m~/anaconda3/lib/python3.11/site-packages/sklearn/metrics/_pairwise_distances_reduction/_dispatcher.py:471\u001B[0m, in \u001B[0;36mArgKminClassMode.is_usable_for\u001B[0;34m(cls, X, Y, metric)\u001B[0m\n\u001B[1;32m    448\u001B[0m \u001B[38;5;129m@classmethod\u001B[39m\n\u001B[1;32m    449\u001B[0m \u001B[38;5;28;01mdef\u001B[39;00m \u001B[38;5;21mis_usable_for\u001B[39m(\u001B[38;5;28mcls\u001B[39m, X, Y, metric) \u001B[38;5;241m-\u001B[39m\u001B[38;5;241m>\u001B[39m \u001B[38;5;28mbool\u001B[39m:\n\u001B[1;32m    450\u001B[0m \u001B[38;5;250m    \u001B[39m\u001B[38;5;124;03m\"\"\"Return True if the dispatcher can be used for the given parameters.\u001B[39;00m\n\u001B[1;32m    451\u001B[0m \n\u001B[1;32m    452\u001B[0m \u001B[38;5;124;03m    Parameters\u001B[39;00m\n\u001B[0;32m   (...)\u001B[0m\n\u001B[1;32m    468\u001B[0m \u001B[38;5;124;03m    True if the PairwiseDistancesReduction can be used, else False.\u001B[39;00m\n\u001B[1;32m    469\u001B[0m \u001B[38;5;124;03m    \"\"\"\u001B[39;00m\n\u001B[1;32m    470\u001B[0m     \u001B[38;5;28;01mreturn\u001B[39;00m (\n\u001B[0;32m--> 471\u001B[0m         ArgKmin\u001B[38;5;241m.\u001B[39mis_usable_for(X, Y, metric)\n\u001B[1;32m    472\u001B[0m         \u001B[38;5;66;03m# TODO: Support CSR matrices.\u001B[39;00m\n\u001B[1;32m    473\u001B[0m         \u001B[38;5;129;01mand\u001B[39;00m \u001B[38;5;129;01mnot\u001B[39;00m issparse(X)\n\u001B[1;32m    474\u001B[0m         \u001B[38;5;129;01mand\u001B[39;00m \u001B[38;5;129;01mnot\u001B[39;00m issparse(Y)\n\u001B[1;32m    475\u001B[0m         \u001B[38;5;66;03m# TODO: implement Euclidean specialization with GEMM.\u001B[39;00m\n\u001B[1;32m    476\u001B[0m         \u001B[38;5;129;01mand\u001B[39;00m metric \u001B[38;5;129;01mnot\u001B[39;00m \u001B[38;5;129;01min\u001B[39;00m (\u001B[38;5;124m\"\u001B[39m\u001B[38;5;124meuclidean\u001B[39m\u001B[38;5;124m\"\u001B[39m, \u001B[38;5;124m\"\u001B[39m\u001B[38;5;124msqeuclidean\u001B[39m\u001B[38;5;124m\"\u001B[39m)\n\u001B[1;32m    477\u001B[0m     )\n",
      "File \u001B[0;32m~/anaconda3/lib/python3.11/site-packages/sklearn/metrics/_pairwise_distances_reduction/_dispatcher.py:115\u001B[0m, in \u001B[0;36mBaseDistancesReductionDispatcher.is_usable_for\u001B[0;34m(cls, X, Y, metric)\u001B[0m\n\u001B[1;32m    101\u001B[0m \u001B[38;5;28;01mdef\u001B[39;00m \u001B[38;5;21mis_valid_sparse_matrix\u001B[39m(X):\n\u001B[1;32m    102\u001B[0m     \u001B[38;5;28;01mreturn\u001B[39;00m (\n\u001B[1;32m    103\u001B[0m         isspmatrix_csr(X)\n\u001B[1;32m    104\u001B[0m         \u001B[38;5;129;01mand\u001B[39;00m\n\u001B[0;32m   (...)\u001B[0m\n\u001B[1;32m    110\u001B[0m         X\u001B[38;5;241m.\u001B[39mindices\u001B[38;5;241m.\u001B[39mdtype \u001B[38;5;241m==\u001B[39m X\u001B[38;5;241m.\u001B[39mindptr\u001B[38;5;241m.\u001B[39mdtype \u001B[38;5;241m==\u001B[39m np\u001B[38;5;241m.\u001B[39mint32\n\u001B[1;32m    111\u001B[0m     )\n\u001B[1;32m    113\u001B[0m is_usable \u001B[38;5;241m=\u001B[39m (\n\u001B[1;32m    114\u001B[0m     get_config()\u001B[38;5;241m.\u001B[39mget(\u001B[38;5;124m\"\u001B[39m\u001B[38;5;124menable_cython_pairwise_dist\u001B[39m\u001B[38;5;124m\"\u001B[39m, \u001B[38;5;28;01mTrue\u001B[39;00m)\n\u001B[0;32m--> 115\u001B[0m     \u001B[38;5;129;01mand\u001B[39;00m (is_numpy_c_ordered(X) \u001B[38;5;129;01mor\u001B[39;00m is_valid_sparse_matrix(X))\n\u001B[1;32m    116\u001B[0m     \u001B[38;5;129;01mand\u001B[39;00m (is_numpy_c_ordered(Y) \u001B[38;5;129;01mor\u001B[39;00m is_valid_sparse_matrix(Y))\n\u001B[1;32m    117\u001B[0m     \u001B[38;5;129;01mand\u001B[39;00m X\u001B[38;5;241m.\u001B[39mdtype \u001B[38;5;241m==\u001B[39m Y\u001B[38;5;241m.\u001B[39mdtype\n\u001B[1;32m    118\u001B[0m     \u001B[38;5;129;01mand\u001B[39;00m X\u001B[38;5;241m.\u001B[39mdtype \u001B[38;5;129;01min\u001B[39;00m (np\u001B[38;5;241m.\u001B[39mfloat32, np\u001B[38;5;241m.\u001B[39mfloat64)\n\u001B[1;32m    119\u001B[0m     \u001B[38;5;129;01mand\u001B[39;00m metric \u001B[38;5;129;01min\u001B[39;00m \u001B[38;5;28mcls\u001B[39m\u001B[38;5;241m.\u001B[39mvalid_metrics()\n\u001B[1;32m    120\u001B[0m )\n\u001B[1;32m    122\u001B[0m \u001B[38;5;28;01mreturn\u001B[39;00m is_usable\n",
      "File \u001B[0;32m~/anaconda3/lib/python3.11/site-packages/sklearn/metrics/_pairwise_distances_reduction/_dispatcher.py:99\u001B[0m, in \u001B[0;36mBaseDistancesReductionDispatcher.is_usable_for.<locals>.is_numpy_c_ordered\u001B[0;34m(X)\u001B[0m\n\u001B[1;32m     98\u001B[0m \u001B[38;5;28;01mdef\u001B[39;00m \u001B[38;5;21mis_numpy_c_ordered\u001B[39m(X):\n\u001B[0;32m---> 99\u001B[0m     \u001B[38;5;28;01mreturn\u001B[39;00m \u001B[38;5;28mhasattr\u001B[39m(X, \u001B[38;5;124m\"\u001B[39m\u001B[38;5;124mflags\u001B[39m\u001B[38;5;124m\"\u001B[39m) \u001B[38;5;129;01mand\u001B[39;00m X\u001B[38;5;241m.\u001B[39mflags\u001B[38;5;241m.\u001B[39mc_contiguous\n",
      "\u001B[0;31mAttributeError\u001B[0m: 'Flags' object has no attribute 'c_contiguous'"
     ]
    }
   ],
   "source": [
    "from sklearn import neighbors\n",
    "knn = neighbors.KNeighborsClassifier(n_neighbors=5)  # default number of neighbors = 5\n",
    "knn.fit(tat_train, targets_train)\n",
    "knn.score(tat_test, targets_test)"
   ]
  },
  {
   "attachments": {},
   "cell_type": "markdown",
   "id": "289a6ab8",
   "metadata": {},
   "source": [
    "### Implement a Logistic Regression Classifier"
   ]
  },
  {
   "cell_type": "code",
   "execution_count": 10,
   "id": "abbf93ed",
   "metadata": {
    "ExecuteTime": {
     "end_time": "2024-02-05T22:45:45.439296Z",
     "start_time": "2024-02-05T22:45:45.073338Z"
    }
   },
   "outputs": [
    {
     "data": {
      "text/plain": "0.2710997442455243"
     },
     "execution_count": 10,
     "metadata": {},
     "output_type": "execute_result"
    }
   ],
   "source": [
    "from sklearn.linear_model import LogisticRegression\n",
    "lr_clf = LogisticRegression(random_state=0)\n",
    "lr_clf.fit(tat_train, targets_train)\n",
    "lr_clf.score(tat_test, targets_test)"
   ]
  },
  {
   "cell_type": "code",
   "outputs": [
    {
     "data": {
      "text/plain": "['../new_models/lr_clf.pkl']"
     },
     "execution_count": 11,
     "metadata": {},
     "output_type": "execute_result"
    }
   ],
   "source": [
    "import joblib\n",
    "joblib.dump(lr_clf, '../new_models/lr_clf.pkl')"
   ],
   "metadata": {
    "collapsed": false,
    "ExecuteTime": {
     "end_time": "2024-02-05T22:45:47.431671Z",
     "start_time": "2024-02-05T22:45:47.422557Z"
    }
   },
   "id": "dff984911f2ce672",
   "execution_count": 11
  },
  {
   "cell_type": "markdown",
   "source": [
    "shap"
   ],
   "metadata": {
    "collapsed": false
   },
   "id": "32a4ba88aeaa0c89"
  },
  {
   "cell_type": "code",
   "outputs": [
    {
     "data": {
      "text/plain": "LogisticRegression(random_state=0)",
      "text/html": "<style>#sk-container-id-1 {\n  /* Definition of color scheme common for light and dark mode */\n  --sklearn-color-text: black;\n  --sklearn-color-line: gray;\n  /* Definition of color scheme for unfitted estimators */\n  --sklearn-color-unfitted-level-0: #fff5e6;\n  --sklearn-color-unfitted-level-1: #f6e4d2;\n  --sklearn-color-unfitted-level-2: #ffe0b3;\n  --sklearn-color-unfitted-level-3: chocolate;\n  /* Definition of color scheme for fitted estimators */\n  --sklearn-color-fitted-level-0: #f0f8ff;\n  --sklearn-color-fitted-level-1: #d4ebff;\n  --sklearn-color-fitted-level-2: #b3dbfd;\n  --sklearn-color-fitted-level-3: cornflowerblue;\n\n  /* Specific color for light theme */\n  --sklearn-color-text-on-default-background: var(--sg-text-color, var(--theme-code-foreground, var(--jp-content-font-color1, black)));\n  --sklearn-color-background: var(--sg-background-color, var(--theme-background, var(--jp-layout-color0, white)));\n  --sklearn-color-border-box: var(--sg-text-color, var(--theme-code-foreground, var(--jp-content-font-color1, black)));\n  --sklearn-color-icon: #696969;\n\n  @media (prefers-color-scheme: dark) {\n    /* Redefinition of color scheme for dark theme */\n    --sklearn-color-text-on-default-background: var(--sg-text-color, var(--theme-code-foreground, var(--jp-content-font-color1, white)));\n    --sklearn-color-background: var(--sg-background-color, var(--theme-background, var(--jp-layout-color0, #111)));\n    --sklearn-color-border-box: var(--sg-text-color, var(--theme-code-foreground, var(--jp-content-font-color1, white)));\n    --sklearn-color-icon: #878787;\n  }\n}\n\n#sk-container-id-1 {\n  color: var(--sklearn-color-text);\n}\n\n#sk-container-id-1 pre {\n  padding: 0;\n}\n\n#sk-container-id-1 input.sk-hidden--visually {\n  border: 0;\n  clip: rect(1px 1px 1px 1px);\n  clip: rect(1px, 1px, 1px, 1px);\n  height: 1px;\n  margin: -1px;\n  overflow: hidden;\n  padding: 0;\n  position: absolute;\n  width: 1px;\n}\n\n#sk-container-id-1 div.sk-dashed-wrapped {\n  border: 1px dashed var(--sklearn-color-line);\n  margin: 0 0.4em 0.5em 0.4em;\n  box-sizing: border-box;\n  padding-bottom: 0.4em;\n  background-color: var(--sklearn-color-background);\n}\n\n#sk-container-id-1 div.sk-container {\n  /* jupyter's `normalize.less` sets `[hidden] { display: none; }`\n     but bootstrap.min.css set `[hidden] { display: none !important; }`\n     so we also need the `!important` here to be able to override the\n     default hidden behavior on the sphinx rendered scikit-learn.org.\n     See: https://github.com/scikit-learn/scikit-learn/issues/21755 */\n  display: inline-block !important;\n  position: relative;\n}\n\n#sk-container-id-1 div.sk-text-repr-fallback {\n  display: none;\n}\n\ndiv.sk-parallel-item,\ndiv.sk-serial,\ndiv.sk-item {\n  /* draw centered vertical line to link estimators */\n  background-image: linear-gradient(var(--sklearn-color-text-on-default-background), var(--sklearn-color-text-on-default-background));\n  background-size: 2px 100%;\n  background-repeat: no-repeat;\n  background-position: center center;\n}\n\n/* Parallel-specific style estimator block */\n\n#sk-container-id-1 div.sk-parallel-item::after {\n  content: \"\";\n  width: 100%;\n  border-bottom: 2px solid var(--sklearn-color-text-on-default-background);\n  flex-grow: 1;\n}\n\n#sk-container-id-1 div.sk-parallel {\n  display: flex;\n  align-items: stretch;\n  justify-content: center;\n  background-color: var(--sklearn-color-background);\n  position: relative;\n}\n\n#sk-container-id-1 div.sk-parallel-item {\n  display: flex;\n  flex-direction: column;\n}\n\n#sk-container-id-1 div.sk-parallel-item:first-child::after {\n  align-self: flex-end;\n  width: 50%;\n}\n\n#sk-container-id-1 div.sk-parallel-item:last-child::after {\n  align-self: flex-start;\n  width: 50%;\n}\n\n#sk-container-id-1 div.sk-parallel-item:only-child::after {\n  width: 0;\n}\n\n/* Serial-specific style estimator block */\n\n#sk-container-id-1 div.sk-serial {\n  display: flex;\n  flex-direction: column;\n  align-items: center;\n  background-color: var(--sklearn-color-background);\n  padding-right: 1em;\n  padding-left: 1em;\n}\n\n\n/* Toggleable style: style used for estimator/Pipeline/ColumnTransformer box that is\nclickable and can be expanded/collapsed.\n- Pipeline and ColumnTransformer use this feature and define the default style\n- Estimators will overwrite some part of the style using the `sk-estimator` class\n*/\n\n/* Pipeline and ColumnTransformer style (default) */\n\n#sk-container-id-1 div.sk-toggleable {\n  /* Default theme specific background. It is overwritten whether we have a\n  specific estimator or a Pipeline/ColumnTransformer */\n  background-color: var(--sklearn-color-background);\n}\n\n/* Toggleable label */\n#sk-container-id-1 label.sk-toggleable__label {\n  cursor: pointer;\n  display: block;\n  width: 100%;\n  margin-bottom: 0;\n  padding: 0.5em;\n  box-sizing: border-box;\n  text-align: center;\n}\n\n#sk-container-id-1 label.sk-toggleable__label-arrow:before {\n  /* Arrow on the left of the label */\n  content: \"▸\";\n  float: left;\n  margin-right: 0.25em;\n  color: var(--sklearn-color-icon);\n}\n\n#sk-container-id-1 label.sk-toggleable__label-arrow:hover:before {\n  color: var(--sklearn-color-text);\n}\n\n/* Toggleable content - dropdown */\n\n#sk-container-id-1 div.sk-toggleable__content {\n  max-height: 0;\n  max-width: 0;\n  overflow: hidden;\n  text-align: left;\n  /* unfitted */\n  background-color: var(--sklearn-color-unfitted-level-0);\n}\n\n#sk-container-id-1 div.sk-toggleable__content.fitted {\n  /* fitted */\n  background-color: var(--sklearn-color-fitted-level-0);\n}\n\n#sk-container-id-1 div.sk-toggleable__content pre {\n  margin: 0.2em;\n  border-radius: 0.25em;\n  color: var(--sklearn-color-text);\n  /* unfitted */\n  background-color: var(--sklearn-color-unfitted-level-0);\n}\n\n#sk-container-id-1 div.sk-toggleable__content.fitted pre {\n  /* unfitted */\n  background-color: var(--sklearn-color-fitted-level-0);\n}\n\n#sk-container-id-1 input.sk-toggleable__control:checked~div.sk-toggleable__content {\n  /* Expand drop-down */\n  max-height: 200px;\n  max-width: 100%;\n  overflow: auto;\n}\n\n#sk-container-id-1 input.sk-toggleable__control:checked~label.sk-toggleable__label-arrow:before {\n  content: \"▾\";\n}\n\n/* Pipeline/ColumnTransformer-specific style */\n\n#sk-container-id-1 div.sk-label input.sk-toggleable__control:checked~label.sk-toggleable__label {\n  color: var(--sklearn-color-text);\n  background-color: var(--sklearn-color-unfitted-level-2);\n}\n\n#sk-container-id-1 div.sk-label.fitted input.sk-toggleable__control:checked~label.sk-toggleable__label {\n  background-color: var(--sklearn-color-fitted-level-2);\n}\n\n/* Estimator-specific style */\n\n/* Colorize estimator box */\n#sk-container-id-1 div.sk-estimator input.sk-toggleable__control:checked~label.sk-toggleable__label {\n  /* unfitted */\n  background-color: var(--sklearn-color-unfitted-level-2);\n}\n\n#sk-container-id-1 div.sk-estimator.fitted input.sk-toggleable__control:checked~label.sk-toggleable__label {\n  /* fitted */\n  background-color: var(--sklearn-color-fitted-level-2);\n}\n\n#sk-container-id-1 div.sk-label label.sk-toggleable__label,\n#sk-container-id-1 div.sk-label label {\n  /* The background is the default theme color */\n  color: var(--sklearn-color-text-on-default-background);\n}\n\n/* On hover, darken the color of the background */\n#sk-container-id-1 div.sk-label:hover label.sk-toggleable__label {\n  color: var(--sklearn-color-text);\n  background-color: var(--sklearn-color-unfitted-level-2);\n}\n\n/* Label box, darken color on hover, fitted */\n#sk-container-id-1 div.sk-label.fitted:hover label.sk-toggleable__label.fitted {\n  color: var(--sklearn-color-text);\n  background-color: var(--sklearn-color-fitted-level-2);\n}\n\n/* Estimator label */\n\n#sk-container-id-1 div.sk-label label {\n  font-family: monospace;\n  font-weight: bold;\n  display: inline-block;\n  line-height: 1.2em;\n}\n\n#sk-container-id-1 div.sk-label-container {\n  text-align: center;\n}\n\n/* Estimator-specific */\n#sk-container-id-1 div.sk-estimator {\n  font-family: monospace;\n  border: 1px dotted var(--sklearn-color-border-box);\n  border-radius: 0.25em;\n  box-sizing: border-box;\n  margin-bottom: 0.5em;\n  /* unfitted */\n  background-color: var(--sklearn-color-unfitted-level-0);\n}\n\n#sk-container-id-1 div.sk-estimator.fitted {\n  /* fitted */\n  background-color: var(--sklearn-color-fitted-level-0);\n}\n\n/* on hover */\n#sk-container-id-1 div.sk-estimator:hover {\n  /* unfitted */\n  background-color: var(--sklearn-color-unfitted-level-2);\n}\n\n#sk-container-id-1 div.sk-estimator.fitted:hover {\n  /* fitted */\n  background-color: var(--sklearn-color-fitted-level-2);\n}\n\n/* Specification for estimator info (e.g. \"i\" and \"?\") */\n\n/* Common style for \"i\" and \"?\" */\n\n.sk-estimator-doc-link,\na:link.sk-estimator-doc-link,\na:visited.sk-estimator-doc-link {\n  float: right;\n  font-size: smaller;\n  line-height: 1em;\n  font-family: monospace;\n  background-color: var(--sklearn-color-background);\n  border-radius: 1em;\n  height: 1em;\n  width: 1em;\n  text-decoration: none !important;\n  margin-left: 1ex;\n  /* unfitted */\n  border: var(--sklearn-color-unfitted-level-1) 1pt solid;\n  color: var(--sklearn-color-unfitted-level-1);\n}\n\n.sk-estimator-doc-link.fitted,\na:link.sk-estimator-doc-link.fitted,\na:visited.sk-estimator-doc-link.fitted {\n  /* fitted */\n  border: var(--sklearn-color-fitted-level-1) 1pt solid;\n  color: var(--sklearn-color-fitted-level-1);\n}\n\n/* On hover */\ndiv.sk-estimator:hover .sk-estimator-doc-link:hover,\n.sk-estimator-doc-link:hover,\ndiv.sk-label-container:hover .sk-estimator-doc-link:hover,\n.sk-estimator-doc-link:hover {\n  /* unfitted */\n  background-color: var(--sklearn-color-unfitted-level-3);\n  color: var(--sklearn-color-background);\n  text-decoration: none;\n}\n\ndiv.sk-estimator.fitted:hover .sk-estimator-doc-link.fitted:hover,\n.sk-estimator-doc-link.fitted:hover,\ndiv.sk-label-container:hover .sk-estimator-doc-link.fitted:hover,\n.sk-estimator-doc-link.fitted:hover {\n  /* fitted */\n  background-color: var(--sklearn-color-fitted-level-3);\n  color: var(--sklearn-color-background);\n  text-decoration: none;\n}\n\n/* Span, style for the box shown on hovering the info icon */\n.sk-estimator-doc-link span {\n  display: none;\n  z-index: 9999;\n  position: relative;\n  font-weight: normal;\n  right: .2ex;\n  padding: .5ex;\n  margin: .5ex;\n  width: min-content;\n  min-width: 20ex;\n  max-width: 50ex;\n  color: var(--sklearn-color-text);\n  box-shadow: 2pt 2pt 4pt #999;\n  /* unfitted */\n  background: var(--sklearn-color-unfitted-level-0);\n  border: .5pt solid var(--sklearn-color-unfitted-level-3);\n}\n\n.sk-estimator-doc-link.fitted span {\n  /* fitted */\n  background: var(--sklearn-color-fitted-level-0);\n  border: var(--sklearn-color-fitted-level-3);\n}\n\n.sk-estimator-doc-link:hover span {\n  display: block;\n}\n\n/* \"?\"-specific style due to the `<a>` HTML tag */\n\n#sk-container-id-1 a.estimator_doc_link {\n  float: right;\n  font-size: 1rem;\n  line-height: 1em;\n  font-family: monospace;\n  background-color: var(--sklearn-color-background);\n  border-radius: 1rem;\n  height: 1rem;\n  width: 1rem;\n  text-decoration: none;\n  /* unfitted */\n  color: var(--sklearn-color-unfitted-level-1);\n  border: var(--sklearn-color-unfitted-level-1) 1pt solid;\n}\n\n#sk-container-id-1 a.estimator_doc_link.fitted {\n  /* fitted */\n  border: var(--sklearn-color-fitted-level-1) 1pt solid;\n  color: var(--sklearn-color-fitted-level-1);\n}\n\n/* On hover */\n#sk-container-id-1 a.estimator_doc_link:hover {\n  /* unfitted */\n  background-color: var(--sklearn-color-unfitted-level-3);\n  color: var(--sklearn-color-background);\n  text-decoration: none;\n}\n\n#sk-container-id-1 a.estimator_doc_link.fitted:hover {\n  /* fitted */\n  background-color: var(--sklearn-color-fitted-level-3);\n}\n</style><div id=\"sk-container-id-1\" class=\"sk-top-container\"><div class=\"sk-text-repr-fallback\"><pre>LogisticRegression(random_state=0)</pre><b>In a Jupyter environment, please rerun this cell to show the HTML representation or trust the notebook. <br />On GitHub, the HTML representation is unable to render, please try loading this page with nbviewer.org.</b></div><div class=\"sk-container\" hidden><div class=\"sk-item\"><div class=\"sk-estimator fitted sk-toggleable\"><input class=\"sk-toggleable__control sk-hidden--visually\" id=\"sk-estimator-id-1\" type=\"checkbox\" checked><label for=\"sk-estimator-id-1\" class=\"sk-toggleable__label fitted sk-toggleable__label-arrow fitted\">&nbsp;&nbsp;LogisticRegression<a class=\"sk-estimator-doc-link fitted\" rel=\"noreferrer\" target=\"_blank\" href=\"https://scikit-learn.org/1.4/modules/generated/sklearn.linear_model.LogisticRegression.html\">?<span>Documentation for LogisticRegression</span></a><span class=\"sk-estimator-doc-link fitted\">i<span>Fitted</span></span></label><div class=\"sk-toggleable__content fitted\"><pre>LogisticRegression(random_state=0)</pre></div> </div></div></div></div>"
     },
     "execution_count": 12,
     "metadata": {},
     "output_type": "execute_result"
    }
   ],
   "source": [
    "model = joblib.load('../new_models/lr_clf.pkl')\n",
    "model"
   ],
   "metadata": {
    "collapsed": false,
    "ExecuteTime": {
     "end_time": "2024-02-05T22:45:49.666325Z",
     "start_time": "2024-02-05T22:45:49.656362Z"
    }
   },
   "id": "485e71f0286bee60",
   "execution_count": 12
  },
  {
   "cell_type": "code",
   "outputs": [],
   "source": [
    "feature_names = tat.columns.to_list()\n",
    "explainer = shap.Explainer(model, tat,  feature_names=feature_names)\n",
    "explanation = explainer(tat)"
   ],
   "metadata": {
    "collapsed": false,
    "ExecuteTime": {
     "end_time": "2024-02-05T22:46:39.635480Z",
     "start_time": "2024-02-05T22:46:39.498615Z"
    }
   },
   "id": "b80f766e10ea0cf9",
   "execution_count": 15
  },
  {
   "cell_type": "code",
   "outputs": [
    {
     "data": {
      "text/plain": "['../shapley-values/saved_values/lr_clf-shapley_values.json']"
     },
     "execution_count": 16,
     "metadata": {},
     "output_type": "execute_result"
    }
   ],
   "source": [
    "file_path = f\"../shapley-values/saved_values/lr_clf-shapley_values.json\"\n",
    "joblib.dump(explanation, file_path)"
   ],
   "metadata": {
    "collapsed": false,
    "ExecuteTime": {
     "end_time": "2024-02-05T22:46:42.427307Z",
     "start_time": "2024-02-05T22:46:42.226002Z"
    }
   },
   "id": "a55fc7611eae7e33",
   "execution_count": 16
  },
  {
   "attachments": {},
   "cell_type": "markdown",
   "id": "cb48d32a",
   "metadata": {},
   "source": [
    "### Implement a Gradient Boosting Classifier"
   ]
  },
  {
   "cell_type": "code",
   "execution_count": 12,
   "id": "c51a0d8a",
   "metadata": {
    "ExecuteTime": {
     "end_time": "2023-11-07T10:24:18.775080Z",
     "start_time": "2023-11-07T10:24:02.340486Z"
    }
   },
   "outputs": [
    {
     "ename": "KeyboardInterrupt",
     "evalue": "",
     "output_type": "error",
     "traceback": [
      "\u001B[0;31m---------------------------------------------------------------------------\u001B[0m",
      "\u001B[0;31mKeyboardInterrupt\u001B[0m                         Traceback (most recent call last)",
      "Cell \u001B[0;32mIn[12], line 3\u001B[0m\n\u001B[1;32m      1\u001B[0m \u001B[38;5;28;01mfrom\u001B[39;00m \u001B[38;5;21;01msklearn\u001B[39;00m\u001B[38;5;21;01m.\u001B[39;00m\u001B[38;5;21;01mensemble\u001B[39;00m \u001B[38;5;28;01mimport\u001B[39;00m GradientBoostingClassifier\n\u001B[1;32m      2\u001B[0m gbc \u001B[38;5;241m=\u001B[39m GradientBoostingClassifier()\n\u001B[0;32m----> 3\u001B[0m gbc\u001B[38;5;241m.\u001B[39mfit(tat_train, targets_train)\n\u001B[1;32m      4\u001B[0m gbc\u001B[38;5;241m.\u001B[39mscore(tat_test, targets_test)\n",
      "File \u001B[0;32m~/anaconda3/lib/python3.11/site-packages/sklearn/base.py:1151\u001B[0m, in \u001B[0;36m_fit_context.<locals>.decorator.<locals>.wrapper\u001B[0;34m(estimator, *args, **kwargs)\u001B[0m\n\u001B[1;32m   1144\u001B[0m     estimator\u001B[38;5;241m.\u001B[39m_validate_params()\n\u001B[1;32m   1146\u001B[0m \u001B[38;5;28;01mwith\u001B[39;00m config_context(\n\u001B[1;32m   1147\u001B[0m     skip_parameter_validation\u001B[38;5;241m=\u001B[39m(\n\u001B[1;32m   1148\u001B[0m         prefer_skip_nested_validation \u001B[38;5;129;01mor\u001B[39;00m global_skip_validation\n\u001B[1;32m   1149\u001B[0m     )\n\u001B[1;32m   1150\u001B[0m ):\n\u001B[0;32m-> 1151\u001B[0m     \u001B[38;5;28;01mreturn\u001B[39;00m fit_method(estimator, \u001B[38;5;241m*\u001B[39margs, \u001B[38;5;241m*\u001B[39m\u001B[38;5;241m*\u001B[39mkwargs)\n",
      "File \u001B[0;32m~/anaconda3/lib/python3.11/site-packages/sklearn/ensemble/_gb.py:525\u001B[0m, in \u001B[0;36mBaseGradientBoosting.fit\u001B[0;34m(self, X, y, sample_weight, monitor)\u001B[0m\n\u001B[1;32m    522\u001B[0m     \u001B[38;5;28mself\u001B[39m\u001B[38;5;241m.\u001B[39m_resize_state()\n\u001B[1;32m    524\u001B[0m \u001B[38;5;66;03m# fit the boosting stages\u001B[39;00m\n\u001B[0;32m--> 525\u001B[0m n_stages \u001B[38;5;241m=\u001B[39m \u001B[38;5;28mself\u001B[39m\u001B[38;5;241m.\u001B[39m_fit_stages(\n\u001B[1;32m    526\u001B[0m     X,\n\u001B[1;32m    527\u001B[0m     y,\n\u001B[1;32m    528\u001B[0m     raw_predictions,\n\u001B[1;32m    529\u001B[0m     sample_weight,\n\u001B[1;32m    530\u001B[0m     \u001B[38;5;28mself\u001B[39m\u001B[38;5;241m.\u001B[39m_rng,\n\u001B[1;32m    531\u001B[0m     X_val,\n\u001B[1;32m    532\u001B[0m     y_val,\n\u001B[1;32m    533\u001B[0m     sample_weight_val,\n\u001B[1;32m    534\u001B[0m     begin_at_stage,\n\u001B[1;32m    535\u001B[0m     monitor,\n\u001B[1;32m    536\u001B[0m )\n\u001B[1;32m    538\u001B[0m \u001B[38;5;66;03m# change shape of arrays after fit (early-stopping or additional ests)\u001B[39;00m\n\u001B[1;32m    539\u001B[0m \u001B[38;5;28;01mif\u001B[39;00m n_stages \u001B[38;5;241m!=\u001B[39m \u001B[38;5;28mself\u001B[39m\u001B[38;5;241m.\u001B[39mestimators_\u001B[38;5;241m.\u001B[39mshape[\u001B[38;5;241m0\u001B[39m]:\n",
      "File \u001B[0;32m~/anaconda3/lib/python3.11/site-packages/sklearn/ensemble/_gb.py:603\u001B[0m, in \u001B[0;36mBaseGradientBoosting._fit_stages\u001B[0;34m(self, X, y, raw_predictions, sample_weight, random_state, X_val, y_val, sample_weight_val, begin_at_stage, monitor)\u001B[0m\n\u001B[1;32m    596\u001B[0m         initial_loss \u001B[38;5;241m=\u001B[39m loss_(\n\u001B[1;32m    597\u001B[0m             y[\u001B[38;5;241m~\u001B[39msample_mask],\n\u001B[1;32m    598\u001B[0m             raw_predictions[\u001B[38;5;241m~\u001B[39msample_mask],\n\u001B[1;32m    599\u001B[0m             sample_weight[\u001B[38;5;241m~\u001B[39msample_mask],\n\u001B[1;32m    600\u001B[0m         )\n\u001B[1;32m    602\u001B[0m \u001B[38;5;66;03m# fit next stage of trees\u001B[39;00m\n\u001B[0;32m--> 603\u001B[0m raw_predictions \u001B[38;5;241m=\u001B[39m \u001B[38;5;28mself\u001B[39m\u001B[38;5;241m.\u001B[39m_fit_stage(\n\u001B[1;32m    604\u001B[0m     i,\n\u001B[1;32m    605\u001B[0m     X,\n\u001B[1;32m    606\u001B[0m     y,\n\u001B[1;32m    607\u001B[0m     raw_predictions,\n\u001B[1;32m    608\u001B[0m     sample_weight,\n\u001B[1;32m    609\u001B[0m     sample_mask,\n\u001B[1;32m    610\u001B[0m     random_state,\n\u001B[1;32m    611\u001B[0m     X_csc,\n\u001B[1;32m    612\u001B[0m     X_csr,\n\u001B[1;32m    613\u001B[0m )\n\u001B[1;32m    615\u001B[0m \u001B[38;5;66;03m# track loss\u001B[39;00m\n\u001B[1;32m    616\u001B[0m \u001B[38;5;28;01mif\u001B[39;00m do_oob:\n",
      "File \u001B[0;32m~/anaconda3/lib/python3.11/site-packages/sklearn/ensemble/_gb.py:245\u001B[0m, in \u001B[0;36mBaseGradientBoosting._fit_stage\u001B[0;34m(self, i, X, y, raw_predictions, sample_weight, sample_mask, random_state, X_csc, X_csr)\u001B[0m\n\u001B[1;32m    242\u001B[0m     sample_weight \u001B[38;5;241m=\u001B[39m sample_weight \u001B[38;5;241m*\u001B[39m sample_mask\u001B[38;5;241m.\u001B[39mastype(np\u001B[38;5;241m.\u001B[39mfloat64)\n\u001B[1;32m    244\u001B[0m X \u001B[38;5;241m=\u001B[39m X_csr \u001B[38;5;28;01mif\u001B[39;00m X_csr \u001B[38;5;129;01mis\u001B[39;00m \u001B[38;5;129;01mnot\u001B[39;00m \u001B[38;5;28;01mNone\u001B[39;00m \u001B[38;5;28;01melse\u001B[39;00m X\n\u001B[0;32m--> 245\u001B[0m tree\u001B[38;5;241m.\u001B[39mfit(X, residual, sample_weight\u001B[38;5;241m=\u001B[39msample_weight, check_input\u001B[38;5;241m=\u001B[39m\u001B[38;5;28;01mFalse\u001B[39;00m)\n\u001B[1;32m    247\u001B[0m \u001B[38;5;66;03m# update tree leaves\u001B[39;00m\n\u001B[1;32m    248\u001B[0m loss\u001B[38;5;241m.\u001B[39mupdate_terminal_regions(\n\u001B[1;32m    249\u001B[0m     tree\u001B[38;5;241m.\u001B[39mtree_,\n\u001B[1;32m    250\u001B[0m     X,\n\u001B[0;32m   (...)\u001B[0m\n\u001B[1;32m    257\u001B[0m     k\u001B[38;5;241m=\u001B[39mk,\n\u001B[1;32m    258\u001B[0m )\n",
      "File \u001B[0;32m~/anaconda3/lib/python3.11/site-packages/sklearn/base.py:1151\u001B[0m, in \u001B[0;36m_fit_context.<locals>.decorator.<locals>.wrapper\u001B[0;34m(estimator, *args, **kwargs)\u001B[0m\n\u001B[1;32m   1144\u001B[0m     estimator\u001B[38;5;241m.\u001B[39m_validate_params()\n\u001B[1;32m   1146\u001B[0m \u001B[38;5;28;01mwith\u001B[39;00m config_context(\n\u001B[1;32m   1147\u001B[0m     skip_parameter_validation\u001B[38;5;241m=\u001B[39m(\n\u001B[1;32m   1148\u001B[0m         prefer_skip_nested_validation \u001B[38;5;129;01mor\u001B[39;00m global_skip_validation\n\u001B[1;32m   1149\u001B[0m     )\n\u001B[1;32m   1150\u001B[0m ):\n\u001B[0;32m-> 1151\u001B[0m     \u001B[38;5;28;01mreturn\u001B[39;00m fit_method(estimator, \u001B[38;5;241m*\u001B[39margs, \u001B[38;5;241m*\u001B[39m\u001B[38;5;241m*\u001B[39mkwargs)\n",
      "File \u001B[0;32m~/anaconda3/lib/python3.11/site-packages/sklearn/tree/_classes.py:1320\u001B[0m, in \u001B[0;36mDecisionTreeRegressor.fit\u001B[0;34m(self, X, y, sample_weight, check_input)\u001B[0m\n\u001B[1;32m   1290\u001B[0m \u001B[38;5;129m@_fit_context\u001B[39m(prefer_skip_nested_validation\u001B[38;5;241m=\u001B[39m\u001B[38;5;28;01mTrue\u001B[39;00m)\n\u001B[1;32m   1291\u001B[0m \u001B[38;5;28;01mdef\u001B[39;00m \u001B[38;5;21mfit\u001B[39m(\u001B[38;5;28mself\u001B[39m, X, y, sample_weight\u001B[38;5;241m=\u001B[39m\u001B[38;5;28;01mNone\u001B[39;00m, check_input\u001B[38;5;241m=\u001B[39m\u001B[38;5;28;01mTrue\u001B[39;00m):\n\u001B[1;32m   1292\u001B[0m \u001B[38;5;250m    \u001B[39m\u001B[38;5;124;03m\"\"\"Build a decision tree regressor from the training set (X, y).\u001B[39;00m\n\u001B[1;32m   1293\u001B[0m \n\u001B[1;32m   1294\u001B[0m \u001B[38;5;124;03m    Parameters\u001B[39;00m\n\u001B[0;32m   (...)\u001B[0m\n\u001B[1;32m   1317\u001B[0m \u001B[38;5;124;03m        Fitted estimator.\u001B[39;00m\n\u001B[1;32m   1318\u001B[0m \u001B[38;5;124;03m    \"\"\"\u001B[39;00m\n\u001B[0;32m-> 1320\u001B[0m     \u001B[38;5;28msuper\u001B[39m()\u001B[38;5;241m.\u001B[39m_fit(\n\u001B[1;32m   1321\u001B[0m         X,\n\u001B[1;32m   1322\u001B[0m         y,\n\u001B[1;32m   1323\u001B[0m         sample_weight\u001B[38;5;241m=\u001B[39msample_weight,\n\u001B[1;32m   1324\u001B[0m         check_input\u001B[38;5;241m=\u001B[39mcheck_input,\n\u001B[1;32m   1325\u001B[0m     )\n\u001B[1;32m   1326\u001B[0m     \u001B[38;5;28;01mreturn\u001B[39;00m \u001B[38;5;28mself\u001B[39m\n",
      "File \u001B[0;32m~/anaconda3/lib/python3.11/site-packages/sklearn/tree/_classes.py:443\u001B[0m, in \u001B[0;36mBaseDecisionTree._fit\u001B[0;34m(self, X, y, sample_weight, check_input, missing_values_in_feature_mask)\u001B[0m\n\u001B[1;32m    432\u001B[0m \u001B[38;5;28;01melse\u001B[39;00m:\n\u001B[1;32m    433\u001B[0m     builder \u001B[38;5;241m=\u001B[39m BestFirstTreeBuilder(\n\u001B[1;32m    434\u001B[0m         splitter,\n\u001B[1;32m    435\u001B[0m         min_samples_split,\n\u001B[0;32m   (...)\u001B[0m\n\u001B[1;32m    440\u001B[0m         \u001B[38;5;28mself\u001B[39m\u001B[38;5;241m.\u001B[39mmin_impurity_decrease,\n\u001B[1;32m    441\u001B[0m     )\n\u001B[0;32m--> 443\u001B[0m builder\u001B[38;5;241m.\u001B[39mbuild(\u001B[38;5;28mself\u001B[39m\u001B[38;5;241m.\u001B[39mtree_, X, y, sample_weight, missing_values_in_feature_mask)\n\u001B[1;32m    445\u001B[0m \u001B[38;5;28;01mif\u001B[39;00m \u001B[38;5;28mself\u001B[39m\u001B[38;5;241m.\u001B[39mn_outputs_ \u001B[38;5;241m==\u001B[39m \u001B[38;5;241m1\u001B[39m \u001B[38;5;129;01mand\u001B[39;00m is_classifier(\u001B[38;5;28mself\u001B[39m):\n\u001B[1;32m    446\u001B[0m     \u001B[38;5;28mself\u001B[39m\u001B[38;5;241m.\u001B[39mn_classes_ \u001B[38;5;241m=\u001B[39m \u001B[38;5;28mself\u001B[39m\u001B[38;5;241m.\u001B[39mn_classes_[\u001B[38;5;241m0\u001B[39m]\n",
      "\u001B[0;31mKeyboardInterrupt\u001B[0m: "
     ]
    }
   ],
   "source": [
    "from sklearn.ensemble import GradientBoostingClassifier\n",
    "gbc = GradientBoostingClassifier()\n",
    "gbc.fit(tat_train, targets_train)\n",
    "gbc.score(tat_test, targets_test)"
   ]
  },
  {
   "cell_type": "markdown",
   "id": "9bfef888",
   "metadata": {},
   "source": [
    "### Implement a Gaussian Naive Bayes Classifier"
   ]
  },
  {
   "cell_type": "code",
   "execution_count": null,
   "id": "31026cc6",
   "metadata": {
    "ExecuteTime": {
     "end_time": "2023-11-07T10:24:18.778669Z",
     "start_time": "2023-11-07T10:24:18.775882Z"
    }
   },
   "outputs": [],
   "source": [
    "from sklearn.naive_bayes import GaussianNB\n",
    "gnb = GaussianNB()\n",
    "gnb.fit(tat_train, targets_train)\n",
    "gnb.score(tat_test, targets_test)"
   ]
  }
 ],
 "metadata": {
  "kernelspec": {
   "display_name": "Python 3",
   "language": "python",
   "name": "python3"
  },
  "language_info": {
   "codemirror_mode": {
    "name": "ipython",
    "version": 3
   },
   "file_extension": ".py",
   "mimetype": "text/x-python",
   "name": "python",
   "nbconvert_exporter": "python",
   "pygments_lexer": "ipython3",
   "version": "3.9.6"
  },
  "vscode": {
   "interpreter": {
    "hash": "31f2aee4e71d21fbe5cf8b01ff0e069b9275f58929596ceb00d14d90e3e16cd6"
   }
  }
 },
 "nbformat": 4,
 "nbformat_minor": 5
}
