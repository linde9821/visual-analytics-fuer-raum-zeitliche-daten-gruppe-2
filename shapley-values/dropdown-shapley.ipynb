{
 "cells": [
  {
   "cell_type": "code",
   "execution_count": 50,
   "metadata": {},
   "outputs": [],
   "source": [
    "import joblib\n",
    "from dash import Dash, dcc, html, Input, Output, State, callback\n",
    "import dash\n",
    "import shap\n",
    "import matplotlib.pyplot as plt\n",
    "import base64\n",
    "import io\n",
    "import pandas as pd\n",
    "import plotly.graph_objects as go\n"
   ]
  },
  {
   "cell_type": "code",
   "execution_count": 18,
   "metadata": {},
   "outputs": [],
   "source": [
    "mapping_dict = {\n",
    "    'XGBoost': joblib.load(\"./saved_values/xgboost-shapley_values\"),\n",
    "    'Random Forest': joblib.load(\"./saved_values/randomforest-shapley_values\"),\n",
    "}\n",
    "\n",
    "def model_name_to_explanation(value):\n",
    "    return mapping_dict.get(value)"
   ]
  },
  {
   "cell_type": "code",
   "execution_count": 19,
   "metadata": {},
   "outputs": [],
   "source": [
    "def string_target_to_integer_target(value):\n",
    "    mapping_dict = {\n",
    "        'very_high' :0,\n",
    "        'high' :1,\n",
    "        'moderate' :2,\n",
    "        'low' :3,\n",
    "        'very_low' :4\n",
    "    }\n",
    "\n",
    "    return mapping_dict.get(value)"
   ]
  },
  {
   "cell_type": "code",
   "execution_count": 20,
   "metadata": {},
   "outputs": [],
   "source": [
    "model_list = ['XGBoost', 'Random Forest']"
   ]
  },
  {
   "cell_type": "code",
   "execution_count": 53,
   "metadata": {},
   "outputs": [
    {
     "data": {
      "text/html": [
       "\n",
       "        <iframe\n",
       "            width=\"100%\"\n",
       "            height=\"650\"\n",
       "            src=\"http://127.0.0.1:8050/\"\n",
       "            frameborder=\"0\"\n",
       "            allowfullscreen\n",
       "            \n",
       "        ></iframe>\n",
       "        "
      ],
      "text/plain": [
       "<IPython.lib.display.IFrame at 0x134c7d390>"
      ]
     },
     "metadata": {},
     "output_type": "display_data"
    }
   ],
   "source": [
    "app = Dash(__name__)\n",
    "app.layout = html.Div([\n",
    "    html.H1(\"Shapley Values Dashboard\"),\n",
    "    dcc.Dropdown(model_list, placeholder='Select Model', id='dropdown_model'),\n",
    "    dcc.Dropdown(['very_high', 'high', 'moderate', 'low', 'very_low'], placeholder='Select Target', id='dropdown_target'),\n",
    "    dcc.Input(type='number', placeholder='Enter Start', id='input_start'),\n",
    "    dcc.Input(type='number', placeholder='Enter End', id='input_end'),\n",
    "    dcc.Input(type='number', placeholder='Enter Steps', id='input_steps'),\n",
    "    html.Br(),\n",
    "    html.Button('Generate Plot', id='btn_generate_plot'),\n",
    "    html.Div(id='dd-output-container')\n",
    "])\n",
    "\n",
    "\n",
    "@callback(\n",
    "    Output('dd-output-container', 'children'),\n",
    "    State('dropdown_model', 'value'),           # State instead of Input is important for button\n",
    "    State('dropdown_target', 'value'), \n",
    "    State('input_start', 'value'),\n",
    "    State('input_end', 'value'),\n",
    "    State('input_steps', 'value'),\n",
    "    Input('btn_generate_plot', 'n_clicks')\n",
    ")\n",
    "def generate_shapley_plots(model, target, start, end, steps, n_clicks):\n",
    "    if n_clicks is None:\n",
    "        return dash.no_update # Do nothing if the button is not clicked\n",
    "    \n",
    "    explanation = model_name_to_explanation(model)\n",
    "    target = string_target_to_integer_target(target)\n",
    "    \n",
    "    if explanation is not None and target is not None:\n",
    "        fig, ax = plt.subplots()\n",
    "        ax.cla() # Clear the previous plot\n",
    "\n",
    "        shap.plots.beeswarm(explanation[:, start:end:steps, target], show=False)\n",
    "        \n",
    "        # Convert Matplotlib figure to base64-encoded string\n",
    "        img_buf = io.BytesIO()\n",
    "        plt.savefig(img_buf, format='svg')\n",
    "\n",
    "        plt.clf() # Clear the entire figure\n",
    "        plt.close() # Close the figure to release memory\n",
    "\n",
    "        img_buf.seek(0)\n",
    "        img_str = \"data:image/svg+xml;base64,\" + base64.b64encode(img_buf.read()).decode('utf-8')\n",
    "\n",
    "        return html.Img(src=img_str)\n",
    "    else:\n",
    "        return\n",
    "\n",
    "\n",
    "if __name__ == '__main__':\n",
    "    app.run(debug=True)"
   ]
  }
 ],
 "metadata": {
  "kernelspec": {
   "display_name": "Python 3",
   "language": "python",
   "name": "python3"
  },
  "language_info": {
   "codemirror_mode": {
    "name": "ipython",
    "version": 3
   },
   "file_extension": ".py",
   "mimetype": "text/x-python",
   "name": "python",
   "nbconvert_exporter": "python",
   "pygments_lexer": "ipython3",
   "version": "3.11.6"
  }
 },
 "nbformat": 4,
 "nbformat_minor": 2
}
