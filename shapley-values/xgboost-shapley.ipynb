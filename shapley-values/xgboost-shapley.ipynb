{
 "cells": [
  {
   "cell_type": "code",
   "execution_count": 2,
   "metadata": {},
   "outputs": [
    {
     "name": "stderr",
     "output_type": "stream",
     "text": [
      "IProgress not found. Please update jupyter and ipywidgets. See https://ipywidgets.readthedocs.io/en/stable/user_install.html\n"
     ]
    }
   ],
   "source": [
    "import pandas as pd\n",
    "import joblib\n",
    "\n",
    "import shap\n",
    "\n",
    "import xgboost as xg"
   ]
  },
  {
   "cell_type": "markdown",
   "metadata": {},
   "source": [
    "# Shap values erstellen"
   ]
  },
  {
   "cell_type": "code",
   "execution_count": 3,
   "metadata": {},
   "outputs": [],
   "source": [
    "#xgboost = joblib.load('../models/best_model_xgboost.pkl')"
   ]
  },
  {
   "cell_type": "code",
   "execution_count": 4,
   "metadata": {},
   "outputs": [],
   "source": [
    "#from sklearn.preprocessing import StandardScaler\n",
    "#from sklearn.model_selection import train_test_split\n",
    "#from sklearn.preprocessing import LabelEncoder"
   ]
  },
  {
   "cell_type": "code",
   "execution_count": 5,
   "metadata": {},
   "outputs": [],
   "source": [
    "#df = pd.read_csv(\"../data/lucas_organic_carbon_training_and_test_data_NEW.csv\")\n",
    "#labels = pd.read_csv(\"../data/lucas_organic_carbon_target.csv\")"
   ]
  },
  {
   "cell_type": "code",
   "execution_count": 6,
   "metadata": {},
   "outputs": [],
   "source": [
    "#scaler = StandardScaler()\n",
    "#scaled_data = scaler.fit_transform(df)\n",
    "#scaled_df = pd.DataFrame(scaled_data, columns=df.columns)"
   ]
  },
  {
   "cell_type": "code",
   "execution_count": 7,
   "metadata": {},
   "outputs": [],
   "source": [
    "#label_encoder = LabelEncoder()\n",
    "#labels.x = label_encoder.fit_transform(labels.x)"
   ]
  },
  {
   "cell_type": "code",
   "execution_count": 8,
   "metadata": {},
   "outputs": [],
   "source": [
    "#X_train, X_test, y_train, y_test = train_test_split(scaled_data, labels, test_size=0.2, random_state=42)"
   ]
  },
  {
   "cell_type": "markdown",
   "metadata": {},
   "source": [
    "## Feature Names extrahieren"
   ]
  },
  {
   "cell_type": "code",
   "execution_count": 9,
   "metadata": {},
   "outputs": [],
   "source": [
    "#fnames = df.columns.to_list()\n",
    "#fnames"
   ]
  },
  {
   "cell_type": "markdown",
   "metadata": {},
   "source": [
    "## Explainer erstellen und speichern"
   ]
  },
  {
   "cell_type": "code",
   "execution_count": 10,
   "metadata": {},
   "outputs": [],
   "source": [
    "#explainer = shap.TreeExplainer(xgboost, feature_names=fnames)\n",
    "#explanation = explainer(X_train)"
   ]
  },
  {
   "cell_type": "code",
   "execution_count": 11,
   "metadata": {},
   "outputs": [],
   "source": [
    "#joblib.dump(explanation, './saved_values/xgboost-shapley_values')"
   ]
  },
  {
   "cell_type": "markdown",
   "metadata": {},
   "source": [
    "# Plot values"
   ]
  },
  {
   "cell_type": "markdown",
   "metadata": {},
   "source": [
    "### Erklärungen\n",
    "\n",
    "Die Explanation ist ein 3 dimensionales Array, aufgebaut in (samples, values, classes), also (nach dem Kürzen) zu allen 7916 samples jeweils 20 values (hier diese Wellenlängen) und zu jeder Wellenlänge 5 Werte (die fünf Kategorien very_low, high etc.).\n",
    "\n",
    "Das Kürzen bzw. slicen von der Explanation funktioniert wie folgt: man kann in den ekigen Klammern zu allen drei Dimensionen den Start- und End-Index angeben: explanation[start:end, start:end, start:end]\n",
    "Default ist: start = 0 und end= das Maximum\n",
    "Das heißt, wenn man explanation[:,:,:] schreibt, bedeutet das dasselbe wie explanation[0:7916,0:20,0:5], also das gesamte array.\n",
    "Wenn man nur die ersten 20 Wellenlängen anschauen will, schreibt man: explanation[:,:20,:]\n",
    "\n",
    "In den Plots kann man nicht einfach so alles Kategorien zusammen plotten. Beim Beeswarm geht das zum Beispiel nicht. Da muss man sich bei x für eine Kategorie entscheiden: explanation[:,:20,x]\n",
    "\n",
    "### Offene Fragen / Todos\n",
    "1. Ist die Explanation richtig gekürzt? Also sind die ersten 20 Wellenlängen auch die 20 wichtigsten?\n",
    "    \n",
    "    \n",
    "    Nein, beim Durchprobieren zeigt sich, dass es auch später wichtigere gibt.\n",
    "    Man könnte aus der ungekürzten explanation die wichtigen Wellenlängen rausberechnen oder zufällig x Wellenlängen rausziehen. \n",
    "2. Wie kann man in den Plots die Features richtig benennen? (Also dass da die entsprechenden Wellenlängen stehen.)\n",
    "\n",
    "\n",
    "    Bei Erstellung der shapley_values muss der feature Name mit angegeben werden.\n",
    "3. Welche Kategorie von 0,1,2,3,4 ist welche? Ist das sortiert nach 0=very_high, 1=high, 2=moderate, 3=low, 4=very_low?\n",
    "    \n",
    "    \n",
    "    korrekt zugeordnet\n",
    "4. Wie kann man im Summary plot die Kategorien mit plotten?\n",
    "5. Allgemein, wie kann man die Values anschaulich plotten?\n"
   ]
  },
  {
   "cell_type": "code",
   "execution_count": 18,
   "metadata": {},
   "outputs": [
    {
     "data": {
      "text/plain": [
       "(7916, 4000, 5)"
      ]
     },
     "execution_count": 18,
     "metadata": {},
     "output_type": "execute_result"
    }
   ],
   "source": [
    "explanation = joblib.load(\"./saved_values/xgboost-shapley_values\")\n",
    "explanation.shape\n",
    "#explanation"
   ]
  },
  {
   "cell_type": "markdown",
   "metadata": {},
   "source": [
    "## Values plotten"
   ]
  },
  {
   "cell_type": "code",
   "execution_count": 17,
   "metadata": {},
   "outputs": [
    {
     "ename": "TypeError",
     "evalue": "only integer scalar arrays can be converted to a scalar index",
     "output_type": "error",
     "traceback": [
      "\u001b[0;31m---------------------------------------------------------------------------\u001b[0m",
      "\u001b[0;31mTypeError\u001b[0m                                 Traceback (most recent call last)",
      "Cell \u001b[0;32mIn[17], line 1\u001b[0m\n\u001b[0;32m----> 1\u001b[0m \u001b[43mshap\u001b[49m\u001b[38;5;241;43m.\u001b[39;49m\u001b[43mplots\u001b[49m\u001b[38;5;241;43m.\u001b[39;49m\u001b[43mbeeswarm\u001b[49m\u001b[43m(\u001b[49m\u001b[43mexplanation\u001b[49m\u001b[43m[\u001b[49m\u001b[43m:\u001b[49m\u001b[43m,\u001b[49m\u001b[43m:\u001b[49m\u001b[38;5;241;43m200\u001b[39;49m\u001b[43m,\u001b[49m\u001b[38;5;241;43m4\u001b[39;49m\u001b[43m]\u001b[49m\u001b[43m,\u001b[49m\u001b[43m \u001b[49m\u001b[43morder\u001b[49m\u001b[38;5;241;43m=\u001b[39;49m\u001b[43mexplanation\u001b[49m\u001b[38;5;241;43m.\u001b[39;49m\u001b[43mabs\u001b[49m\u001b[38;5;241;43m.\u001b[39;49m\u001b[43mmax\u001b[49m\u001b[43m(\u001b[49m\u001b[38;5;241;43m0\u001b[39;49m\u001b[43m)\u001b[49m\u001b[43m)\u001b[49m\n",
      "File \u001b[0;32m/usr/local/lib/python3.11/site-packages/shap/plots/_beeswarm.py:306\u001b[0m, in \u001b[0;36mbeeswarm\u001b[0;34m(shap_values, max_display, order, clustering, cluster_threshold, color, axis_color, alpha, show, log_scale, color_bar, plot_size, color_bar_label)\u001b[0m\n\u001b[1;32m    304\u001b[0m \u001b[38;5;66;03m# see how many individual (vs. grouped at the end) features we are plotting\u001b[39;00m\n\u001b[1;32m    305\u001b[0m \u001b[38;5;28;01mif\u001b[39;00m num_features \u001b[38;5;241m<\u001b[39m \u001b[38;5;28mlen\u001b[39m(values[\u001b[38;5;241m0\u001b[39m]):\n\u001b[0;32m--> 306\u001b[0m     num_cut \u001b[38;5;241m=\u001b[39m np\u001b[38;5;241m.\u001b[39msum(\u001b[43m[\u001b[49m\u001b[38;5;28;43mlen\u001b[39;49m\u001b[43m(\u001b[49m\u001b[43morig_inds\u001b[49m\u001b[43m[\u001b[49m\u001b[43mfeature_order\u001b[49m\u001b[43m[\u001b[49m\u001b[43mi\u001b[49m\u001b[43m]\u001b[49m\u001b[43m]\u001b[49m\u001b[43m)\u001b[49m\u001b[43m \u001b[49m\u001b[38;5;28;43;01mfor\u001b[39;49;00m\u001b[43m \u001b[49m\u001b[43mi\u001b[49m\u001b[43m \u001b[49m\u001b[38;5;129;43;01min\u001b[39;49;00m\u001b[43m \u001b[49m\u001b[38;5;28;43mrange\u001b[39;49m\u001b[43m(\u001b[49m\u001b[43mnum_features\u001b[49m\u001b[38;5;241;43m-\u001b[39;49m\u001b[38;5;241;43m1\u001b[39;49m\u001b[43m,\u001b[49m\u001b[43m \u001b[49m\u001b[38;5;28;43mlen\u001b[39;49m\u001b[43m(\u001b[49m\u001b[43mvalues\u001b[49m\u001b[43m[\u001b[49m\u001b[38;5;241;43m0\u001b[39;49m\u001b[43m]\u001b[49m\u001b[43m)\u001b[49m\u001b[43m)\u001b[49m\u001b[43m]\u001b[49m)\n\u001b[1;32m    307\u001b[0m     values[:,feature_order[num_features\u001b[38;5;241m-\u001b[39m\u001b[38;5;241m1\u001b[39m]] \u001b[38;5;241m=\u001b[39m np\u001b[38;5;241m.\u001b[39msum([values[:,feature_order[i]] \u001b[38;5;28;01mfor\u001b[39;00m i \u001b[38;5;129;01min\u001b[39;00m \u001b[38;5;28mrange\u001b[39m(num_features\u001b[38;5;241m-\u001b[39m\u001b[38;5;241m1\u001b[39m, \u001b[38;5;28mlen\u001b[39m(values[\u001b[38;5;241m0\u001b[39m]))], \u001b[38;5;241m0\u001b[39m)\n\u001b[1;32m    309\u001b[0m \u001b[38;5;66;03m# build our y-tick labels\u001b[39;00m\n",
      "File \u001b[0;32m/usr/local/lib/python3.11/site-packages/shap/plots/_beeswarm.py:306\u001b[0m, in \u001b[0;36m<listcomp>\u001b[0;34m(.0)\u001b[0m\n\u001b[1;32m    304\u001b[0m \u001b[38;5;66;03m# see how many individual (vs. grouped at the end) features we are plotting\u001b[39;00m\n\u001b[1;32m    305\u001b[0m \u001b[38;5;28;01mif\u001b[39;00m num_features \u001b[38;5;241m<\u001b[39m \u001b[38;5;28mlen\u001b[39m(values[\u001b[38;5;241m0\u001b[39m]):\n\u001b[0;32m--> 306\u001b[0m     num_cut \u001b[38;5;241m=\u001b[39m np\u001b[38;5;241m.\u001b[39msum([\u001b[38;5;28mlen\u001b[39m(\u001b[43morig_inds\u001b[49m\u001b[43m[\u001b[49m\u001b[43mfeature_order\u001b[49m\u001b[43m[\u001b[49m\u001b[43mi\u001b[49m\u001b[43m]\u001b[49m\u001b[43m]\u001b[49m) \u001b[38;5;28;01mfor\u001b[39;00m i \u001b[38;5;129;01min\u001b[39;00m \u001b[38;5;28mrange\u001b[39m(num_features\u001b[38;5;241m-\u001b[39m\u001b[38;5;241m1\u001b[39m, \u001b[38;5;28mlen\u001b[39m(values[\u001b[38;5;241m0\u001b[39m]))])\n\u001b[1;32m    307\u001b[0m     values[:,feature_order[num_features\u001b[38;5;241m-\u001b[39m\u001b[38;5;241m1\u001b[39m]] \u001b[38;5;241m=\u001b[39m np\u001b[38;5;241m.\u001b[39msum([values[:,feature_order[i]] \u001b[38;5;28;01mfor\u001b[39;00m i \u001b[38;5;129;01min\u001b[39;00m \u001b[38;5;28mrange\u001b[39m(num_features\u001b[38;5;241m-\u001b[39m\u001b[38;5;241m1\u001b[39m, \u001b[38;5;28mlen\u001b[39m(values[\u001b[38;5;241m0\u001b[39m]))], \u001b[38;5;241m0\u001b[39m)\n\u001b[1;32m    309\u001b[0m \u001b[38;5;66;03m# build our y-tick labels\u001b[39;00m\n",
      "\u001b[0;31mTypeError\u001b[0m: only integer scalar arrays can be converted to a scalar index"
     ]
    }
   ],
   "source": [
    "shap.plots.beeswarm(explanation[:,:200,4], order=explanation.abs.max(0))"
   ]
  },
  {
   "cell_type": "code",
   "execution_count": 14,
   "metadata": {},
   "outputs": [
    {
     "data": {
      "image/png": "[encoded data removed]",
      "text/plain": [
       "<Figure size 800x650 with 1 Axes>"
      ]
     },
     "metadata": {},
     "output_type": "display_data"
    }
   ],
   "source": [
    "shap.plots.bar(explanation[:,:10,3])"
   ]
  }
 ],
 "metadata": {
  "kernelspec": {
   "display_name": "Python 3",
   "language": "python",
   "name": "python3"
  },
  "language_info": {
   "codemirror_mode": {
    "name": "ipython",
    "version": 3
   },
   "file_extension": ".py",
   "mimetype": "text/x-python",
   "name": "python",
   "nbconvert_exporter": "python",
   "pygments_lexer": "ipython3",
   "version": "3.11.6"
  }
 },
 "nbformat": 4,
 "nbformat_minor": 2
}
